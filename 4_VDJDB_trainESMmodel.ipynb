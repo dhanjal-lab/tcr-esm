{
 "cells": [
  {
   "cell_type": "markdown",
   "metadata": {
    "executionInfo": {
     "elapsed": 22465,
     "status": "ok",
     "timestamp": 1672500636423,
     "user": {
      "displayName": "Shashank Yadav",
      "userId": "00457113104975153711"
     },
     "user_tz": 420
    },
    "id": "oDtdWlYKxhVM"
   },
   "source": [
    "# This notebook assumes that you have extracted the embeddings (using the procedure mentioned in the 0_ESM_Embeddings_Extractor.ipynb notebook) and have stored them in a zipped format"
   ]
  },
  {
   "cell_type": "markdown",
   "metadata": {},
   "source": [
    "## Since we have used google colab; we copy the embeddings from google drive before training the model; similar procedure can be used to run it locally;"
   ]
  },
  {
   "cell_type": "markdown",
   "metadata": {},
   "source": [
    "## A example is shown below for CDR3alpha, CDR3beta and peptide:"
   ]
  },
  {
   "cell_type": "code",
   "execution_count": null,
   "metadata": {},
   "outputs": [],
   "source": [
    "#####################################################1_origVDJDB_NoMHC/train_AB\n",
    "!cp -r /content/drive/MyDrive/TCR-pMHC-results/vdjdb/1_origVDJDB_NoMHC/train_AB/*.csv '/content/'\n",
    "!cp -r /content/drive/MyDrive/TCR-pMHC-results/vdjdb/1_origVDJDB_NoMHC/train_AB/*.zip '/content'"
   ]
  },
  {
   "cell_type": "markdown",
   "metadata": {},
   "source": [
    "## A example is shown below for CDR3alpha, CDR3beta, peptide and MHC:"
   ]
  },
  {
   "cell_type": "code",
   "execution_count": null,
   "metadata": {},
   "outputs": [],
   "source": [
    "# ###################################################3_origVDJDB_HMHC/train_AB\n",
    "!cp -r /content/drive/MyDrive/TCR-pMHC-results/vdjdb/3_origVDJDB_HMHC/train_AB/*.csv '/content/'\n",
    "!cp -r /content/drive/MyDrive/TCR-pMHC-results/vdjdb/3_origVDJDB_HMHC/train_AB/*.zip '/content'"
   ]
  },
  {
   "cell_type": "code",
   "execution_count": 1,
   "metadata": {
    "executionInfo": {
     "elapsed": 4831,
     "status": "ok",
     "timestamp": 1672500641238,
     "user": {
      "displayName": "Shashank Yadav",
      "userId": "00457113104975153711"
     },
     "user_tz": 420
    },
    "id": "M8xOtuv76QKS"
   },
   "outputs": [],
   "source": [
    "###### pmtnet data External Validation\n",
    "\n",
    "# !cp -r /content/drive/MyDrive/TCR-pMHC-results/pmtnet_exp/set1/*.csv '/content/'\n",
    "# !cp -r /content/drive/MyDrive/TCR-pMHC-results/pmtnet_exp/set1/*.zip '/content'"
   ]
  },
  {
   "cell_type": "markdown",
   "metadata": {},
   "source": [
    "## Unzip the embeddings to folder for developing the train and test set"
   ]
  },
  {
   "cell_type": "code",
   "execution_count": null,
   "metadata": {
    "executionInfo": {
     "elapsed": 7633,
     "status": "ok",
     "timestamp": 1672500655913,
     "user": {
      "displayName": "Shashank Yadav",
      "userId": "00457113104975153711"
     },
     "user_tz": 420
    },
    "id": "W4tHaAWVgePz"
   },
   "outputs": [],
   "source": [
    "########################################################################## AB and A\n",
    "#### unzip train\n",
    "!unzip -q <path_to_train_cdr3a.zip>     -d  train_cdr3a\n",
    "!unzip -q <path_to_train_cdr3b.zip>     -d  train_cdr3b\n",
    "!unzip -q <path_to_train_peptide.zip>   -d  train_peptide\n",
    "\n",
    "#### unzip test\n",
    "!unzip -q <path_to_test_cdr3a.zip>     -d  test_cdr3a\n",
    "!unzip -q <path_to_test_cdr3b.zip>     -d  test_cdr3b\n",
    "!unzip -q <path_to_test_peptide.zip>   -d  test_peptide\n",
    "\n",
    "########################################################################## AB and A wMHC\n",
    "#### unzip train\n",
    "!unzip -q <path_to_train_cdr3a.zip>     -d  train_cdr3a\n",
    "!unzip -q <path_to_train_cdr3b.zip>     -d  train_cdr3b\n",
    "!unzip -q <path_to_train_peptide.zip>   -d  train_peptide\n",
    "!unzip -q <path_to_train_mhc.zip>       -d  train_mhc\n",
    "\n",
    "#### unzip test\n",
    "!unzip -q <path_to_test_cdr3a.zip>     -d  test_cdr3a\n",
    "!unzip -q <path_to_test_cdr3b.zip>     -d  test_cdr3b\n",
    "!unzip -q <path_to_test_peptide.zip>   -d  test_peptide\n",
    "!unzip -q <path_to_test_mhc.zip>       -d  test_mhc"
   ]
  },
  {
   "cell_type": "code",
   "execution_count": null,
   "metadata": {
    "executionInfo": {
     "elapsed": 3269,
     "status": "ok",
     "timestamp": 1672500659168,
     "user": {
      "displayName": "Shashank Yadav",
      "userId": "00457113104975153711"
     },
     "user_tz": 420
    },
    "id": "lZxAwAWTnHu1"
   },
   "outputs": [],
   "source": [
    "import sys\n",
    "import numpy as np\n",
    "import pandas as pd\n",
    "import os\n",
    "from tqdm import tqdm\n",
    "from natsort import natsorted\n",
    "import matplotlib.pyplot as plt\n",
    "plt.style.use('seaborn')\n",
    "%matplotlib inline\n",
    "from tensorflow.keras.models import Sequential, Model\n",
    "from tensorflow.keras.layers import Layer,Input, Dense, Dropout, Activation, Concatenate, Flatten, BatchNormalization\n",
    "from tensorflow.keras.regularizers import l2,l1\n",
    "from tensorflow.keras.optimizers import SGD,Adam,RMSprop\n",
    "import tensorflow.keras.backend as K\n",
    "from tensorflow.keras.preprocessing.image import array_to_img, img_to_array, load_img\n",
    "from tensorflow.keras.callbacks import EarlyStopping, ModelCheckpoint,ReduceLROnPlateau\n",
    "from tensorflow.keras.models import load_model\n",
    "import tensorflow.keras.metrics\n",
    "####import tensorflow_addons as tfa not required\n",
    "from sklearn.preprocessing import LabelEncoder\n",
    "import tensorflow as tf\n",
    "tf.random.set_seed(1)\n",
    "from sklearn.model_selection import train_test_split\n",
    "from sklearn.preprocessing import MinMaxScaler\n",
    "from tensorflow.keras.utils import to_categorical, plot_model\n",
    "import sklearn\n",
    "import os\n",
    "from natsort import natsorted\n",
    "from sklearn.metrics import *\n",
    "import torch\n",
    "from tqdm import tqdm"
   ]
  },
  {
   "cell_type": "markdown",
   "metadata": {},
   "source": [
    "# From now on comment out code for subset2 if running for subset 1 and vice versa"
   ]
  },
  {
   "cell_type": "markdown",
   "metadata": {},
   "source": [
    "## For MCPAS subset-1 which doesn't have MHC information\n",
    "### Model CDR3a + CDR3b + peptide\n",
    "### Model CDR3a + peptide\n",
    "### Model CDR3b + peptide"
   ]
  },
  {
   "cell_type": "code",
   "execution_count": null,
   "metadata": {
    "id": "_GVGvx6AiBtc"
   },
   "outputs": [],
   "source": [
    "### train files\n",
    "path_train_cdr3a = <'path_to_train_cdr3a_embeddings'>  \n",
    "path_train_cdr3b = <'path_to_train_cdr3b_embeddings'>\n",
    "path_train_pepti = <'path_to_train_peptide_embeddings'> \n",
    "\n",
    "### test files\n",
    "path_test_cdr3a = <'path_to_test_cdr3a_embeddings'>  \n",
    "path_test_cdr3b = <'path_to_test_cdr3b_embeddings'>  \n",
    "path_test_pepti = <'path_to_test_peptide_embeddings'>  \n",
    "\n",
    "\n",
    "trainmat_cdr3a = os.listdir(path_train_cdr3a) \n",
    "trainmat_cdr3b = os.listdir(path_train_cdr3b) \n",
    "trainmat_pepti = os.listdir(path_train_pepti)\n",
    "\n",
    "\n",
    "testmat_cdr3a = os.listdir(path_test_cdr3a) \n",
    "testmat_cdr3b = os.listdir(path_test_cdr3b) \n",
    "testmat_pepti = os.listdir(path_test_pepti)"
   ]
  },
  {
   "cell_type": "markdown",
   "metadata": {},
   "source": [
    "## For MCPAS subset-2 which includes MHC information\n",
    "### Model CDR3a + CDR3b + MHC + peptide\n",
    "### Model CDR3a + MHC +peptide\n",
    "### Model CDR3b + MHC + peptide\n",
    "### Model CDR3a + CDR3b + peptide\n",
    "### Model CDR3a + peptide\n",
    "### Model CDR3b + peptide"
   ]
  },
  {
   "cell_type": "code",
   "execution_count": null,
   "metadata": {
    "id": "_GVGvx6AiBtc"
   },
   "outputs": [],
   "source": [
    "### train files\n",
    "path_train_cdr3a = <'path_to_train_cdr3a_embeddings'>  \n",
    "path_train_cdr3b = <'path_to_train_cdr3b_embeddings'>\n",
    "path_train_pepti = <'path_to_train_peptide_embeddings'> \n",
    "path_train_mhc   = <'path_to_train_mhc_embeddings'> \n",
    "\n",
    "### test files\n",
    "path_test_cdr3a = <'path_to_test_cdr3a_embeddings'>  \n",
    "path_test_cdr3b = <'path_to_test_cdr3b_embeddings'>  \n",
    "path_test_pepti = <'path_to_test_peptide_embeddings'>\n",
    "path_test_mhc   = <'path_to_test_mhc_embeddings'> \n",
    "\n",
    "\n",
    "trainmat_cdr3a = os.listdir(path_train_cdr3a) \n",
    "trainmat_cdr3b = os.listdir(path_train_cdr3b) \n",
    "trainmat_pepti = os.listdir(path_train_pepti)\n",
    "trainmat_mhc   = os.listdir(path_train_mhc)\n",
    "\n",
    "testmat_cdr3a = os.listdir(path_test_cdr3a) \n",
    "testmat_cdr3b = os.listdir(path_test_cdr3b) \n",
    "testmat_pepti = os.listdir(path_test_pepti)\n",
    "testmat_mhc   = os.listdir(path_test_mhc)"
   ]
  },
  {
   "cell_type": "markdown",
   "metadata": {},
   "source": [
    "## natsort is used to order the pairs as they appear in the .csv; this would be helpful later to map the pairs with their respective labels"
   ]
  },
  {
   "cell_type": "code",
   "execution_count": null,
   "metadata": {
    "executionInfo": {
     "elapsed": 1407,
     "status": "ok",
     "timestamp": 1672500669829,
     "user": {
      "displayName": "Shashank Yadav",
      "userId": "00457113104975153711"
     },
     "user_tz": 420
    },
    "id": "3jeOYjgmiSIq"
   },
   "outputs": [],
   "source": [
    "### AB-pep, A-pep, B-pep\n",
    "\n",
    "###train\n",
    "train_nmat_cdr3a = natsorted(trainmat_cdr3a)\n",
    "train_nmat_cdr3b = natsorted(trainmat_cdr3b)\n",
    "train_nmat_pepti = natsorted(trainmat_pepti)\n",
    "\n",
    "\n",
    "\n",
    "###test\n",
    "test_nmat_cdr3a = natsorted(testmat_cdr3a)\n",
    "test_nmat_cdr3b = natsorted(testmat_cdr3b)\n",
    "test_nmat_pepti = natsorted(testmat_pepti)"
   ]
  },
  {
   "cell_type": "code",
   "execution_count": null,
   "metadata": {
    "executionInfo": {
     "elapsed": 1407,
     "status": "ok",
     "timestamp": 1672500669829,
     "user": {
      "displayName": "Shashank Yadav",
      "userId": "00457113104975153711"
     },
     "user_tz": 420
    },
    "id": "3jeOYjgmiSIq"
   },
   "outputs": [],
   "source": [
    "### ABH-pep, BH-pep, AH-pep,AB-pep, A-pep, B-pep \n",
    "### train\n",
    "train_nmat_cdr3a = natsorted(trainmat_cdr3a)\n",
    "train_nmat_cdr3b = natsorted(trainmat_cdr3b)\n",
    "train_nmat_pepti = natsorted(trainmat_pepti)\n",
    "train_nmat_mhc   = natsorted(trainmat_mhc)\n",
    "\n",
    "### test\n",
    "test_nmat_cdr3a = natsorted(testmat_cdr3a)\n",
    "test_nmat_cdr3b = natsorted(testmat_cdr3b)\n",
    "test_nmat_pepti = natsorted(testmat_pepti)\n",
    "test_nmat_mhc   = natsorted(testmat_mhc)"
   ]
  },
  {
   "cell_type": "markdown",
   "metadata": {},
   "source": [
    "## the following step extracts the embeddings and stores in a numpy matrix for MCPAS subset 1\n"
   ]
  },
  {
   "cell_type": "code",
   "execution_count": null,
   "metadata": {
    "id": "sTi1NqVtjBDL"
   },
   "outputs": [],
   "source": [
    "train_matmat_cdr3a = np.zeros((train_samples,1280))\n",
    "train_matmat_cdr3b = np.zeros((train_samples,1280))\n",
    "train_matmat_pepti = np.zeros((train_samples,1280))\n",
    "\n",
    "\n",
    "test_matmat_cdr3a = np.zeros((test_samples,1280))\n",
    "test_matmat_cdr3b = np.zeros((test_samples,1280))\n",
    "test_matmat_pepti = np.zeros((test_samples,1280))\n",
    "\n",
    "### load train samples \n",
    "\n",
    "for i in tqdm(range(train_samples)):\n",
    "\n",
    "    train_matmat_cdr3a[i] = torch.load(path_train_cdr3a+train_nmat_cdr3a[i])['mean_representations'][33]\n",
    "\n",
    "    train_matmat_cdr3b[i] = torch.load(path_train_cdr3b+train_nmat_cdr3b[i])['mean_representations'][33]\n",
    "\n",
    "    train_matmat_pepti[i] = torch.load(path_train_pepti+train_nmat_pepti[i])['mean_representations'][33]\n",
    "\n",
    "\n",
    "    for j in tqdm(range(test_samples)):\n",
    "\n",
    "    test_matmat_cdr3a[j]  = torch.load(path_test_cdr3a+test_nmat_cdr3a[j])['mean_representations'][33]\n",
    "\n",
    "    test_matmat_cdr3b[j]  = torch.load(path_test_cdr3b+test_nmat_cdr3b[j])['mean_representations'][33]\n",
    "\n",
    "    test_matmat_pepti[j]  = torch.load(path_test_pepti+test_nmat_pepti[j])['mean_representations'][33]\n",
    "\n"
   ]
  },
  {
   "cell_type": "markdown",
   "metadata": {},
   "source": [
    "## the following step extracts the embeddings and stores in a numpy matrix for MCPAS subset 2"
   ]
  },
  {
   "cell_type": "code",
   "execution_count": null,
   "metadata": {
    "colab": {
     "base_uri": "https://localhost:8080/"
    },
    "executionInfo": {
     "elapsed": 16349,
     "status": "ok",
     "timestamp": 1671483461925,
     "user": {
      "displayName": "Shashank Yadav",
      "userId": "00457113104975153711"
     },
     "user_tz": 420
    },
    "id": "0KfjKyKphXZE",
    "outputId": "702d5078-46f9-4482-d4cb-52b22593a1a9"
   },
   "outputs": [],
   "source": [
    "train_matmat_cdr3a = np.zeros((train_samples,1280))\n",
    "train_matmat_cdr3b = np.zeros((train_samples,1280))\n",
    "train_matmat_pepti = np.zeros((train_samples,1280))\n",
    "train_matmat_mhc   = np.zeros((train_samples,1280))\n",
    "\n",
    "\n",
    "test_matmat_cdr3a = np.zeros((test_samples,1280))\n",
    "test_matmat_cdr3b = np.zeros((test_samples,1280))\n",
    "test_matmat_pepti = np.zeros((test_samples,1280))\n",
    "test_matmat_mhc   = np.zeros((test_samples,1280))\n",
    "\n",
    "### load train samples \n",
    "\n",
    "for i in tqdm(range(train_samples)):\n",
    "\n",
    "    train_matmat_cdr3a[i] = torch.load(path_train_cdr3a+train_nmat_cdr3a[i])['mean_representations'][33]\n",
    "\n",
    "    train_matmat_cdr3b[i] = torch.load(path_train_cdr3b+train_nmat_cdr3b[i])['mean_representations'][33]\n",
    "\n",
    "    train_matmat_pepti[i] = torch.load(path_train_pepti+train_nmat_pepti[i])['mean_representations'][33]\n",
    "\n",
    "    train_matmat_mhc[i]   = torch.load(path_train_mhc+train_nmat_mhc[i])['mean_representations'][33]\n",
    "\n",
    "\n",
    "for j in tqdm(range(test_samples)):\n",
    "\n",
    "    test_matmat_cdr3a[j]  = torch.load(path_test_cdr3a+test_nmat_cdr3a[j])['mean_representations'][33]\n",
    "\n",
    "    test_matmat_cdr3b[j]  = torch.load(path_test_cdr3b+test_nmat_cdr3b[j])['mean_representations'][33]\n",
    "\n",
    "    test_matmat_pepti[j]  = torch.load(path_test_pepti+test_nmat_pepti[j])['mean_representations'][33]\n",
    "\n",
    "    test_matmat_mhc[j]    = torch.load(path_test_mhc+test_nmat_mhc[j])['mean_representations'][33]\n"
   ]
  },
  {
   "cell_type": "markdown",
   "metadata": {},
   "source": [
    "## load *.csv files for labels"
   ]
  },
  {
   "cell_type": "markdown",
   "metadata": {
    "id": "JKaFIojUmZjB"
   },
   "source": [
    "### for mcpas subset 1"
   ]
  },
  {
   "cell_type": "code",
   "execution_count": null,
   "metadata": {
    "id": "JKaFIojUmZjB"
   },
   "outputs": [],
   "source": [
    "df_train = pd.read_csv('/content/1_origMCPAS_noMHC_train_AB.csv')\n",
    "df_test  = pd.read_csv('/content/4_origMCPAS_noMHC_test_AB.csv')"
   ]
  },
  {
   "cell_type": "markdown",
   "metadata": {},
   "source": [
    "### for mcpas subset 2"
   ]
  },
  {
   "cell_type": "code",
   "execution_count": null,
   "metadata": {
    "id": "JKaFIojUmZjB"
   },
   "outputs": [],
   "source": [
    "df_train = pd.read_csv('/content/1_origMCPAS_HMHC_train_AB.csv')\n",
    "df_test  = pd.read_csv('/content/4_origMCPAS_HMHC_test_AB.csv')"
   ]
  },
  {
   "cell_type": "code",
   "execution_count": null,
   "metadata": {
    "executionInfo": {
     "elapsed": 9,
     "status": "ok",
     "timestamp": 1672500705880,
     "user": {
      "displayName": "Shashank Yadav",
      "userId": "00457113104975153711"
     },
     "user_tz": 420
    },
    "id": "YIdGhCATmiGE"
   },
   "outputs": [],
   "source": [
    "############ load labels\n",
    "y_train = df_train['sign'].values.reshape(-1,1)\n",
    "y_test  = df_test['sign'].values.reshape(-1,1)\n"
   ]
  },
  {
   "cell_type": "code",
   "execution_count": null,
   "metadata": {
    "executionInfo": {
     "elapsed": 1,
     "status": "ok",
     "timestamp": 1672500714184,
     "user": {
      "displayName": "Shashank Yadav",
      "userId": "00457113104975153711"
     },
     "user_tz": 420
    },
    "id": "vdetXfGzl8FE"
   },
   "outputs": [],
   "source": [
    "### model\n",
    "def clear_sess():\n",
    "  try:\n",
    "    del model \n",
    "    del history \n",
    "  except:\n",
    "    pass\n",
    "  from tensorflow.keras import backend as K\n",
    "  K.clear_session()\n",
    "  import gc\n",
    "  gc.collect()\n",
    "\n",
    "\n",
    "\n",
    "  return None\n",
    "\n",
    "def keras_mcc(y_true, y_pred):\n",
    "    tp = K.sum(K.round(K.clip(y_true * y_pred, 0, 1)))\n",
    "    tn = K.sum(K.round(K.clip((1 - y_true) * (1 - y_pred), 0, 1)))\n",
    "    fp = K.sum(K.round(K.clip((1 - y_true) * y_pred, 0, 1)))\n",
    "    fn = K.sum(K.round(K.clip(y_true * (1 - y_pred), 0, 1)))\n",
    "\n",
    "    num = tp * tn - fp * fn\n",
    "    den = (tp + fp) * (tp + fn) * (tn + fp) * (tn + fn)\n",
    "    return num / K.sqrt(den + K.epsilon())"
   ]
  },
  {
   "cell_type": "markdown",
   "metadata": {
    "id": "dzxZPO0jmA5e"
   },
   "source": [
    "## MLP for CDR3A, CDR3B and peptide"
   ]
  },
  {
   "cell_type": "code",
   "execution_count": null,
   "metadata": {
    "id": "dzxZPO0jmA5e"
   },
   "outputs": [],
   "source": [
    "clear_sess()\n",
    "acti  = 'swish'\n",
    "\n",
    "#input_1\n",
    "input_1 = Input(shape = (1280,), name='i_1')\n",
    "dense1_1 = Dense(128, activation = acti)(input_1)\n",
    "bn1_1 = BatchNormalization()(dense1_1)\n",
    "drop_1 = Dropout(0.5)(bn1_1)\n",
    "\n",
    "#input_2\n",
    "input_2 = Input(shape = (1280,), name='i_2')\n",
    "dense2_1 = Dense(128, activation = acti)(input_2)\n",
    "bn2_1 = BatchNormalization()(dense2_1)\n",
    "drop_2 = Dropout(0.5)(bn2_1)\n",
    "\n",
    "#input_3\n",
    "input_3 = Input(shape = (1280,), name='i_3')\n",
    "dense3_1 = Dense(128, activation = acti)(input_3)\n",
    "bn3_1 = BatchNormalization()(dense3_1)\n",
    "drop_3 = Dropout(0.5)(bn3_1)\n",
    "\n",
    "# concatenate\n",
    "concat   = Concatenate()([drop_1,drop_2,drop_3])\n",
    "fc_1   = Dense(512, activation = acti)(concat)\n",
    "drop_4 = Dropout(0.5)(fc_1)\n",
    "fc_2   = Dense(256, activation = acti)(drop_4)\n",
    "#classification output- TCR-Peptide Binding yes/no\n",
    "output  = Dense(1, activation = 'sigmoid')(fc_2)\n",
    " \n",
    "# create model with two inputs\n",
    "model = Model(inputs=[input_1,input_2, input_3], outputs=output)"
   ]
  },
  {
   "cell_type": "markdown",
   "metadata": {
    "id": "5ov8Gj3vh5L5"
   },
   "source": [
    "### CDR3A, peptide and MHC and CDR3B, peptide and MHC"
   ]
  },
  {
   "cell_type": "code",
   "execution_count": null,
   "metadata": {
    "id": "5ov8Gj3vh5L5"
   },
   "outputs": [],
   "source": [
    "clear_sess()\n",
    "\n",
    "acti  = 'gelu'\n",
    "\n",
    "#input_1\n",
    "input_1 = Input(shape = (1280,), name='i_1')\n",
    "dense1_1 = Dense(128, activation = acti)(input_1)\n",
    "bn1_1 = BatchNormalization()(dense1_1)\n",
    "drop_1 = Dropout(0.5)(bn1_1)\n",
    "\n",
    "#input_2\n",
    "input_2 = Input(shape = (1280,), name='i_2')\n",
    "dense2_1 = Dense(128, activation = acti)(input_2)\n",
    "bn2_1 = BatchNormalization()(dense2_1)\n",
    "drop_2 = Dropout(0.5)(bn2_1)\n",
    "\n",
    "#input_3\n",
    "input_3 = Input(shape = (1280,), name='i_3')\n",
    "dense3_1 = Dense(64, activation = acti)(input_3)\n",
    "bn3_1 = BatchNormalization()(dense3_1)\n",
    "drop_3 = Dropout(0.5)(bn3_1)\n",
    "\n",
    "# concatenate\n",
    "##concat   = Concatenate()([dense1_1, dense2_1])\n",
    "##concat   = Concatenate()([bn1_1, bn2_1])\n",
    "concat   = Concatenate()([drop_1,drop_2,drop_3])\n",
    "fc_1   = Dense(512, activation = acti)(concat)\n",
    "drop_4 = Dropout(0.5)(fc_1)\n",
    "fc_2   = Dense(256, activation = acti)(drop_4)\n",
    "#classification output- TCR-Peptide Binding yes/no\n",
    "output  = Dense(1, activation = 'sigmoid')(fc_2)\n",
    " \n",
    "# create model with two inputs\n",
    "model = Model(inputs=[input_1,input_2, input_3], outputs=output)"
   ]
  },
  {
   "cell_type": "markdown",
   "metadata": {
    "executionInfo": {
     "elapsed": 3545,
     "status": "ok",
     "timestamp": 1672500727381,
     "user": {
      "displayName": "Shashank Yadav",
      "userId": "00457113104975153711"
     },
     "user_tz": 420
    },
    "id": "N2Q70DW7v8z_"
   },
   "source": [
    "### CDR3A peptide and CDR3B peptide "
   ]
  },
  {
   "cell_type": "code",
   "execution_count": null,
   "metadata": {
    "executionInfo": {
     "elapsed": 3545,
     "status": "ok",
     "timestamp": 1672500727381,
     "user": {
      "displayName": "Shashank Yadav",
      "userId": "00457113104975153711"
     },
     "user_tz": 420
    },
    "id": "N2Q70DW7v8z_"
   },
   "outputs": [],
   "source": [
    "clear_sess()\n",
    "\n",
    "acti  = 'swish'\n",
    "\n",
    "#input_1\n",
    "\n",
    "\n",
    "input_1 = Input(shape = (1280,), name='i_1')\n",
    "dense1_1 = Dense(128, activation = acti)(input_1)\n",
    "bn1_1 = BatchNormalization()(dense1_1)\n",
    "drop_1 = Dropout(0.5)(bn1_1)\n",
    "\n",
    "#input_2\n",
    "input_2 = Input(shape = (1280,), name='i_2')\n",
    "dense2_1 = Dense(128, activation = acti)(input_2)\n",
    "bn2_1 = BatchNormalization()(dense2_1)\n",
    "drop_2 = Dropout(0.5)(bn2_1)\n",
    "\n",
    "\n",
    "# concatenate\n",
    "concat   = Concatenate()([drop_1,drop_2])\n",
    "fc_1   = Dense(512, activation = acti)(concat)\n",
    "drop_4 = Dropout(0.5)(fc_1)\n",
    "fc_2   = Dense(256, activation = acti)(drop_4)\n",
    "#classification output- TCR-Peptide Binding yes/no\n",
    "output  = Dense(1, activation = 'sigmoid')(fc_2)\n",
    " \n",
    "# create model with two inputs\n",
    "model = Model(inputs=[input_1,input_2], outputs=output)"
   ]
  },
  {
   "cell_type": "markdown",
   "metadata": {
    "id": "44MLNVh7Pg9j"
   },
   "source": [
    "### CDR3A CDR3B peptide MHC "
   ]
  },
  {
   "cell_type": "code",
   "execution_count": null,
   "metadata": {
    "id": "44MLNVh7Pg9j"
   },
   "outputs": [],
   "source": [
    "clear_sess()\n",
    "\n",
    "acti  = 'gelu'\n",
    "\n",
    "#input_1\n",
    "input_1 = Input(shape = (1280,), name='i_1')\n",
    "dense1_1 = Dense(128, activation = acti)(input_1)\n",
    "bn1_1 = BatchNormalization()(dense1_1)\n",
    "drop_1 = Dropout(0.5)(bn1_1)\n",
    "\n",
    "#input_2\n",
    "input_2 = Input(shape = (1280,), name='i_2')\n",
    "dense2_1 = Dense(128, activation = acti)(input_2)\n",
    "bn2_1 = BatchNormalization()(dense2_1)\n",
    "drop_2 = Dropout(0.5)(bn2_1)\n",
    "\n",
    "\n",
    "#input_3\n",
    "input_3 = Input(shape = (1280,), name='i_3')\n",
    "dense3_1 = Dense(128, activation = acti)(input_3)\n",
    "bn3_1 = BatchNormalization()(dense3_1)\n",
    "drop_3 = Dropout(0.5)(bn3_1)\n",
    "\n",
    "#input_4\n",
    "input_4 = Input(shape = (1280,), name='i_4')\n",
    "dense4_1 = Dense(64, activation = acti)(input_4)\n",
    "bn4_1 = BatchNormalization()(dense4_1)\n",
    "drop_4 = Dropout(0.5)(bn4_1)\n",
    "\n",
    "\n",
    "# concatenate\n",
    "##concat   = Concatenate()([dense1_1, dense2_1])\n",
    "##concat   = Concatenate()([bn1_1, bn2_1])\n",
    "concat   = Concatenate()([drop_1,drop_2, drop_3, drop_4])\n",
    "fc_1   = Dense(512, activation = acti)(concat)\n",
    "drop_5 = Dropout(0.5)(fc_1)\n",
    "fc_2   = Dense(256, activation = acti)(drop_5)\n",
    "#classification output- TCR-Peptide Binding yes/no\n",
    "output  = Dense(1, activation = 'sigmoid')(fc_2)\n",
    " \n",
    "# create model with two inputs\n",
    "model = Model(inputs=[input_1,input_2, input_3, input_4], outputs=output)"
   ]
  },
  {
   "cell_type": "code",
   "execution_count": null,
   "metadata": {
    "executionInfo": {
     "elapsed": 337,
     "status": "ok",
     "timestamp": 1672500738364,
     "user": {
      "displayName": "Shashank Yadav",
      "userId": "00457113104975153711"
     },
     "user_tz": 420
    },
    "id": "ratSCKvAgksm"
   },
   "outputs": [],
   "source": [
    "metrics_c = [tensorflow.keras.metrics.AUC(name=\"auc_roc\",curve=\"ROC\"),tensorflow.keras.metrics.AUC(name=\"auc_pr\",curve=\"PR\"),keras_mcc]\n",
    "model.compile(loss='binary_crossentropy', optimizer=tensorflow.keras.optimizers.Adam(learning_rate=0.009),   metrics=metrics_c)\n",
    "reduce_lr = ReduceLROnPlateau(monitor='val_keras_mcc', factor=0.95,patience=50, min_lr=0.005, verbose=0)"
   ]
  },
  {
   "cell_type": "code",
   "execution_count": null,
   "metadata": {
    "executionInfo": {
     "elapsed": 2,
     "status": "ok",
     "timestamp": 1672500740948,
     "user": {
      "displayName": "Shashank Yadav",
      "userId": "00457113104975153711"
     },
     "user_tz": 420
    },
    "id": "ShUY7ZOCp1Md"
   },
   "outputs": [],
   "source": [
    "checkpoint_filepath_1 = 'weights-improvement-val-auc-pr.hdf5'\n",
    "model_checkpoint_callback_1 = ModelCheckpoint(filepath=checkpoint_filepath_1,save_weights_only=False,monitor='val_auc_pr',mode='max',save_best_only=True)\n",
    "\n",
    "checkpoint_filepath_2 = 'weights-improvement-val-keras-mcc.hdf5'\n",
    "model_checkpoint_callback_2 = ModelCheckpoint(filepath=checkpoint_filepath_2,save_weights_only=False,monitor='val_keras_mcc',mode='max',save_best_only=True)"
   ]
  },
  {
   "cell_type": "markdown",
   "metadata": {},
   "source": [
    "# Note: while training model for one set, comment out the others;\n",
    "## For example for training, model for CDR3A, CDR3B , peptide, MHC, comment out the other 5."
   ]
  },
  {
   "cell_type": "markdown",
   "metadata": {},
   "source": [
    "### fit the keras model for CDR3A, CDR3B , peptide, MHC"
   ]
  },
  {
   "cell_type": "code",
   "execution_count": null,
   "metadata": {},
   "outputs": [],
   "source": [
    "history=model.fit([train_matmat_cdr3a, train_matmat_cdr3b,train_matmat_pepti, train_matmat_mhc],y_train,\n",
    "                  batch_size=512, epochs=600,\n",
    "                  validation_split=0.1,\n",
    "                  callbacks=[model_checkpoint_callback_1, model_checkpoint_callback_2,reduce_lr])"
   ]
  },
  {
   "cell_type": "markdown",
   "metadata": {
    "id": "Do3GZ7GKsUrX"
   },
   "source": [
    "### fit the keras model for CDR3B , peptide, MHC"
   ]
  },
  {
   "cell_type": "code",
   "execution_count": null,
   "metadata": {
    "id": "Do3GZ7GKsUrX"
   },
   "outputs": [],
   "source": [
    "history=model.fit([train_matmat_cdr3b,train_matmat_pepti, train_matmat_mhc],y_train,\n",
    "                  batch_size=512, epochs=600,\n",
    "                  validation_split=0.1,\n",
    "                  callbacks=[model_checkpoint_callback_1, model_checkpoint_callback_2, reduce_lr])"
   ]
  },
  {
   "cell_type": "markdown",
   "metadata": {
    "id": "Do3GZ7GKsUrX"
   },
   "source": [
    "### fit the keras model for CDR3A, peptide, MHC"
   ]
  },
  {
   "cell_type": "code",
   "execution_count": null,
   "metadata": {
    "id": "Do3GZ7GKsUrX"
   },
   "outputs": [],
   "source": [
    "history=model.fit([train_matmat_cdr3a,train_matmat_pepti, train_matmat_mhc],y_train,\n",
    "                  batch_size=512, epochs=600,\n",
    "                  validation_split=0.1,\n",
    "                  callbacks=[model_checkpoint_callback_1, model_checkpoint_callback_2, reduce_lr])"
   ]
  },
  {
   "cell_type": "markdown",
   "metadata": {
    "id": "Do3GZ7GKsUrX"
   },
   "source": [
    "### fit the keras model for CDR3A, CDR3B and peptide"
   ]
  },
  {
   "cell_type": "code",
   "execution_count": null,
   "metadata": {
    "id": "Do3GZ7GKsUrX"
   },
   "outputs": [],
   "source": [
    "history=model.fit([train_matmat_cdr3a, train_matmat_cdr3b,train_matmat_pepti],y_train,\n",
    "                  batch_size=1024, epochs=500,\n",
    "                  validation_split=0.1,\n",
    "                  callbacks=[model_checkpoint_callback_1, model_checkpoint_callback_2,reduce_lr])"
   ]
  },
  {
   "cell_type": "markdown",
   "metadata": {
    "executionInfo": {
     "elapsed": 86414,
     "status": "ok",
     "timestamp": 1672502120631,
     "user": {
      "displayName": "Shashank Yadav",
      "userId": "00457113104975153711"
     },
     "user_tz": 420
    },
    "id": "rrdCil3KFmSz"
   },
   "source": [
    "### fit the keras model for CDR3B and peptide"
   ]
  },
  {
   "cell_type": "code",
   "execution_count": null,
   "metadata": {
    "executionInfo": {
     "elapsed": 86414,
     "status": "ok",
     "timestamp": 1672502120631,
     "user": {
      "displayName": "Shashank Yadav",
      "userId": "00457113104975153711"
     },
     "user_tz": 420
    },
    "id": "rrdCil3KFmSz"
   },
   "outputs": [],
   "source": [
    "history=model.fit([train_matmat_cdr3b,train_matmat_pepti],y_train,\n",
    "                  batch_size=1024, epochs=1000,\n",
    "                  validation_split=0.1,\n",
    "                  callbacks=[model_checkpoint_callback_1, model_checkpoint_callback_2,reduce_lr])"
   ]
  },
  {
   "cell_type": "markdown",
   "metadata": {
    "executionInfo": {
     "elapsed": 86414,
     "status": "ok",
     "timestamp": 1672502120631,
     "user": {
      "displayName": "Shashank Yadav",
      "userId": "00457113104975153711"
     },
     "user_tz": 420
    },
    "id": "rrdCil3KFmSz"
   },
   "source": [
    "### fit the keras model for CDR3A and peptide"
   ]
  },
  {
   "cell_type": "code",
   "execution_count": null,
   "metadata": {
    "executionInfo": {
     "elapsed": 86414,
     "status": "ok",
     "timestamp": 1672502120631,
     "user": {
      "displayName": "Shashank Yadav",
      "userId": "00457113104975153711"
     },
     "user_tz": 420
    },
    "id": "rrdCil3KFmSz"
   },
   "outputs": [],
   "source": [
    "history=model.fit([train_matmat_cdr3a, train_matmat_pepti],y_train,\n",
    "                  batch_size=1024, epochs=500,\n",
    "                  validation_split=0.1,\n",
    "                  callbacks=[model_checkpoint_callback_1, model_checkpoint_callback_2,reduce_lr])"
   ]
  },
  {
   "cell_type": "markdown",
   "metadata": {
    "id": "BA9crE6OjG0W"
   },
   "source": [
    "## once the best model is trained, we can test it over the evaluation dataset"
   ]
  },
  {
   "cell_type": "code",
   "execution_count": null,
   "metadata": {
    "colab": {
     "base_uri": "https://localhost:8080/"
    },
    "executionInfo": {
     "elapsed": 1035,
     "status": "ok",
     "timestamp": 1672502639895,
     "user": {
      "displayName": "Shashank Yadav",
      "userId": "00457113104975153711"
     },
     "user_tz": 420
    },
    "id": "09fltNbTL8gb",
    "outputId": "28ddb279-93f6-4fb4-e829-0e9962429101"
   },
   "outputs": [],
   "source": [
    "model_loaded = '/content/weights-improvement-val-keras-mcc.hdf5'\n",
    "model = tensorflow.keras.models.load_model(model_loaded,compile=False, custom_objects={'metrics_c': keras_mcc})\n",
    "\n",
    "#pick the model you trained\n",
    "\n",
    "#y_pred = model.predict([test_matmat_cdr3a, test_matmat_cdr3b, test_matmat_pepti, test_matmat_mhc])\n",
    "#y_pred = model.predict([test_matmat_cdr3b, test_matmat_pepti, test_matmat_mhc])\n",
    "#y_pred = model.predict([test_matmat_cdr3a, test_matmat_pepti, test_matmat_mhc])\n",
    "#y_pred = model.predict([test_matmat_cdr3a, test_matmat_cdr3b, test_matmat_pepti])\n",
    "# y_pred = model.predict([test_matmat_cdr3b, test_matmat_pepti])\n",
    "#y_pred = model.predict([ test_matmat_cdr3a, test_matmat_pepti])\n",
    "\n",
    "\n",
    "y_act = y_test.flatten()\n",
    "y_pred= y_pred.flatten()\n",
    "y_pred_c=np.where(y_pred>0.5,1,0)\n",
    "\n",
    "\n",
    "print(roc_auc_score(y_act, y_pred),average_precision_score(y_act, y_pred), matthews_corrcoef(y_act,y_pred_c),f1_score(y_act,y_pred_c))"
   ]
  },
  {
   "cell_type": "code",
   "execution_count": null,
   "metadata": {
    "executionInfo": {
     "elapsed": 407,
     "status": "ok",
     "timestamp": 1672503016724,
     "user": {
      "displayName": "Shashank Yadav",
      "userId": "00457113104975153711"
     },
     "user_tz": 420
    },
    "id": "1yRGq4OeDKQ9"
   },
   "outputs": [],
   "source": [
    "def predict_mode(mode, test_matmat_cdr3a, test_matmat_cdr3b, test_matmat_pepti, test_matmat_mhc, model_loaded, model):\n",
    "\n",
    "  if   mode=='abh':\n",
    "    y_pred = model.predict([test_matmat_cdr3a, test_matmat_cdr3b, test_matmat_pepti, test_matmat_mhc])\n",
    "  elif mode=='bh':\n",
    "    y_pred = model.predict([test_matmat_cdr3b, test_matmat_pepti, test_matmat_mhc])\n",
    "  elif mode=='ah':\n",
    "    y_pred = model.predict([test_matmat_cdr3a, test_matmat_pepti, test_matmat_mhc])\n",
    "  elif mode=='ab':\n",
    "    y_pred = model.predict([test_matmat_cdr3a, test_matmat_cdr3b, test_matmat_pepti])\n",
    "  elif mode=='b':\n",
    "    y_pred = model.predict([test_matmat_cdr3b, test_matmat_pepti])\n",
    "  elif mode=='a':\n",
    "    y_pred = model.predict([ test_matmat_cdr3a, test_matmat_pepti])\n",
    "\n",
    "  return y_pred"
   ]
  },
  {
   "cell_type": "markdown",
   "metadata": {},
   "source": [
    "### set correct mode to predict correctly"
   ]
  },
  {
   "cell_type": "code",
   "execution_count": null,
   "metadata": {
    "executionInfo": {
     "elapsed": 328,
     "status": "ok",
     "timestamp": 1672503056067,
     "user": {
      "displayName": "Shashank Yadav",
      "userId": "00457113104975153711"
     },
     "user_tz": 420
    },
    "id": "z7WplJdWDMgy"
   },
   "outputs": [],
   "source": [
    "#mode='ah'\n",
    "#mode='bh'\n",
    "#mode='a'\n",
    "#mode='b'\n",
    "#mode='abh'\n",
    "# mode='b'"
   ]
  },
  {
   "cell_type": "code",
   "execution_count": null,
   "metadata": {
    "id": "nQo3ldJvDMj4"
   },
   "outputs": [],
   "source": [
    "if mode=='b':\n",
    "    train_matmat_cdr3a =0\n",
    "    test_matmat_cdr3a  =0\n",
    "\n",
    "    train_matmat_mhc =0\n",
    "    test_matmat_mhc  =0"
   ]
  },
  {
   "cell_type": "code",
   "execution_count": null,
   "metadata": {
    "colab": {
     "base_uri": "https://localhost:8080/"
    },
    "executionInfo": {
     "elapsed": 1466,
     "status": "ok",
     "timestamp": 1671359265530,
     "user": {
      "displayName": "Shashank Yadav",
      "userId": "00457113104975153711"
     },
     "user_tz": 420
    },
    "id": "2Hekc873DMrV",
    "outputId": "74743686-6b8d-4b36-8731-7c6383a7601b"
   },
   "outputs": [],
   "source": [
    "####model load max aucpr\n",
    "\n",
    "\n",
    "model_loaded = '/content/weights-improvement-val-auc-pr.hdf5'\n",
    "model = tensorflow.keras.models.load_model(model_loaded,compile=False)\n",
    "\n",
    "y_pred = predict_mode(mode, test_matmat_cdr3a, test_matmat_cdr3b, test_matmat_pepti, test_matmat_mhc, model_loaded, model)\n",
    "\n",
    "y_act = y_test.flatten()\n",
    "y_pred= y_pred.flatten()\n",
    "y_pred_c=np.where(y_pred>0.5,1,0)\n",
    "\n",
    "\n",
    "print(roc_auc_score(y_act, y_pred),average_precision_score(y_act, y_pred),matthews_corrcoef(y_act,y_pred_c),cohen_kappa_score(y_act,y_pred_c))"
   ]
  },
  {
   "cell_type": "markdown",
   "metadata": {},
   "source": [
    "## for peptide and MHC specific analysis"
   ]
  },
  {
   "cell_type": "code",
   "execution_count": null,
   "metadata": {},
   "outputs": [],
   "source": [
    "# ##### peptide wise test metrics\n",
    "peplist = ['GILGFVFTL','LLWNGPMAV','NLVPMVATV','GLCTLVAML','CINGVCWTV','PKYVKQNTLKLAT','RPRGEVRFL','TAFTIPSI','ELAGIGILTV','KLVALGINAV']\n",
    "# y_pred_c.shape\n",
    "\n",
    "for pep in peplist:\n",
    "\n",
    "  y_test_pep  = y_test[df_test['peptide'] == pep]\n",
    "  y_pred_pep  = y_pred[df_test['peptide'] == pep]\n",
    "\n",
    "  y_act_pep = y_test_pep.flatten()\n",
    "  y_pred_pep= y_pred_pep.flatten()\n",
    "  y_pred_c_pep=np.where(y_pred_pep>0.5,1,0)\n",
    "\n",
    "\n",
    "  print(pep, matthews_corrcoef(y_act_pep,y_pred_c_pep), roc_auc_score(y_act_pep, y_pred_pep), average_precision_score(y_act_pep, y_pred_pep),f1_score(y_act_pep,y_pred_c_pep))"
   ]
  },
  {
   "cell_type": "code",
   "execution_count": null,
   "metadata": {},
   "outputs": [],
   "source": [
    "##### mhc wise test metrics\n",
    "mhclist = [\"HLA-A*02:01:98\",\"HLA-DRA*01:01:02\",\"HLA-B*07:02\",\"HLA-B*35:08:01\",\"HLA-B*51:01\",\"HLA-A*11:01\",\"HLA-B*08:01:29\"]\n",
    "# y_pred_c.shape\n",
    "\n",
    "for mhc in mhclist:\n",
    "\n",
    "  y_test_pep  = y_test[df_test['mhc_short'] == mhc]\n",
    "  y_pred_pep  = y_pred[df_test['mhc_short'] == mhc]\n",
    "\n",
    "  y_act_pep = y_test_pep.flatten()\n",
    "  y_pred_pep= y_pred_pep.flatten()\n",
    "  y_pred_c_pep=np.where(y_pred_pep>0.5,1,0)\n",
    "\n",
    "\n",
    "  print(mhc, matthews_corrcoef(y_act_pep,y_pred_c_pep), roc_auc_score(y_act_pep, y_pred_pep), average_precision_score(y_act_pep, y_pred_pep),f1_score(y_act_pep,y_pred_c_pep))"
   ]
  },
  {
   "cell_type": "markdown",
   "metadata": {},
   "source": [
    "### once we get the test evaluation, we can do 10 fold CV "
   ]
  },
  {
   "cell_type": "code",
   "execution_count": null,
   "metadata": {
    "id": "k9vz4kQddO_p"
   },
   "outputs": [],
   "source": [
    "#### make_model for 10 fold CV\n",
    "\n",
    "def make_data(orig_matmat_cdr3a, orig_matmat_cdr3b, orig_matmat_pepti, orig_matmat_mhc, orig_y_train, train_ind, test_ind, mode):\n",
    "\n",
    "  acti = 'gelu'\n",
    "\n",
    "  if mode == 'ab':\n",
    "\n",
    "    ##dataprep\n",
    "    matmat_cdr3a   = train_matmat_cdr3a[train_ind]\n",
    "    matmat_cdr3b   = train_matmat_cdr3b[train_ind]\n",
    "    matmat_pepti   = train_matmat_pepti[train_ind]\n",
    "    matmat_y_train = y_train[train_ind]\n",
    "\n",
    "    #### internal eval\n",
    "    evalmatmat_cdr3a = train_matmat_cdr3a[test_ind]\n",
    "    evalmatmat_cdr3b = train_matmat_cdr3b[test_ind]\n",
    "    evalmatmat_pepti = train_matmat_pepti[test_ind]\n",
    "    evalmatmat_y_eval= y_train[test_ind]\n",
    "\n",
    "    train_input = [matmat_cdr3a,matmat_cdr3b,matmat_pepti]\n",
    "    train_output= matmat_y_train\n",
    "    test_input = [evalmatmat_cdr3a,evalmatmat_cdr3b,evalmatmat_pepti]\n",
    "    test_output= evalmatmat_y_eval\n",
    "\n",
    "    #model\n",
    "    #input_1\n",
    "    input_1 = Input(shape = (1280,), name='i_1')\n",
    "    dense1_1 = Dense(128, activation = acti)(input_1)\n",
    "    bn1_1 = BatchNormalization()(dense1_1)\n",
    "    drop_1 = Dropout(0.5)(bn1_1)\n",
    "\n",
    "    #input_2\n",
    "    input_2 = Input(shape = (1280,), name='i_2')\n",
    "    dense2_1 = Dense(128, activation = acti)(input_2)\n",
    "    bn2_1 = BatchNormalization()(dense2_1)\n",
    "    drop_2 = Dropout(0.5)(bn2_1)\n",
    "\n",
    "    #input_3\n",
    "    input_3 = Input(shape = (1280,), name='i_3')\n",
    "    dense3_1 = Dense(128, activation = acti)(input_3)\n",
    "    bn3_1 = BatchNormalization()(dense3_1)\n",
    "    drop_3 = Dropout(0.5)(bn3_1)\n",
    "\n",
    "    # concatenate\n",
    "    concat   = Concatenate()([drop_1,drop_2,drop_3])\n",
    "    fc_1   = Dense(512, activation = acti)(concat)\n",
    "    drop_4 = Dropout(0.5)(fc_1)\n",
    "    fc_2   = Dense(256, activation = acti)(drop_4)\n",
    "    #classification output- TCR-Peptide Binding yes/no\n",
    "    output  = Dense(1, activation = 'sigmoid')(fc_2)\n",
    "\n",
    "    # create model with two inputs\n",
    "    model = Model(inputs=[input_1,input_2, input_3], outputs=output)\n",
    "\n",
    "\n",
    "  elif mode =='a':\n",
    "\n",
    "    ##data prep\n",
    "\n",
    "    matmat_cdr3a   = train_matmat_cdr3a[train_ind]\n",
    "    matmat_pepti   = train_matmat_pepti[train_ind]\n",
    "    matmat_y_train = y_train[train_ind]\n",
    "\n",
    "    #### internal eval\n",
    "    evalmatmat_cdr3a = train_matmat_cdr3a[test_ind]\n",
    "    evalmatmat_pepti = train_matmat_pepti[test_ind]\n",
    "    evalmatmat_y_eval= y_train[test_ind]\n",
    "\n",
    "    train_input = [matmat_cdr3a,matmat_pepti]\n",
    "    train_output= matmat_y_train\n",
    "    test_input = [evalmatmat_cdr3a,evalmatmat_pepti]\n",
    "    test_output= evalmatmat_y_eval\n",
    "\n",
    "\n",
    "    #model\n",
    "    #input_1\n",
    "    input_1 = Input(shape = (1280,), name='i_1')\n",
    "    dense1_1 = Dense(128, activation = acti)(input_1)\n",
    "    bn1_1 = BatchNormalization()(dense1_1)\n",
    "    drop_1 = Dropout(0.5)(bn1_1)\n",
    "\n",
    "    #input_2\n",
    "    input_2 = Input(shape = (1280,), name='i_2')\n",
    "    dense2_1 = Dense(128, activation = acti)(input_2)\n",
    "    bn2_1 = BatchNormalization()(dense2_1)\n",
    "    drop_2 = Dropout(0.5)(bn2_1)\n",
    "\n",
    "\n",
    "    # concatenate\n",
    "    concat   = Concatenate()([drop_1,drop_2])\n",
    "    fc_1   = Dense(512, activation = acti)(concat)\n",
    "    drop_4 = Dropout(0.5)(fc_1)\n",
    "    fc_2   = Dense(256, activation = acti)(drop_4)\n",
    "    #classification output- TCR-Peptide Binding yes/no\n",
    "    output  = Dense(1, activation = 'sigmoid')(fc_2)\n",
    "\n",
    "    # create model with two inputs\n",
    "    model = Model(inputs=[input_1,input_2], outputs=output)\n",
    "\n",
    "\n",
    "  elif mode == 'b':\n",
    "\n",
    "    #model\n",
    "\n",
    "    matmat_cdr3b   = train_matmat_cdr3b[train_ind]\n",
    "    matmat_pepti   = train_matmat_pepti[train_ind]\n",
    "    matmat_y_train = y_train[train_ind]\n",
    "\n",
    "    #### internal eval\n",
    "    evalmatmat_cdr3b = train_matmat_cdr3b[test_ind]\n",
    "    evalmatmat_pepti = train_matmat_pepti[test_ind]\n",
    "    evalmatmat_y_eval= y_train[test_ind]\n",
    "\n",
    "    train_input = [matmat_cdr3b,matmat_pepti]\n",
    "    train_output= matmat_y_train\n",
    "    test_input = [evalmatmat_cdr3b,evalmatmat_pepti]\n",
    "    test_output= evalmatmat_y_eval\n",
    "\n",
    "    #input_1\n",
    "    input_1 = Input(shape = (1280,), name='i_1')\n",
    "    dense1_1 = Dense(128, activation = acti)(input_1)\n",
    "    bn1_1 = BatchNormalization()(dense1_1)\n",
    "    drop_1 = Dropout(0.5)(bn1_1)\n",
    "\n",
    "    #input_2\n",
    "    input_2 = Input(shape = (1280,), name='i_2')\n",
    "    dense2_1 = Dense(128, activation = acti)(input_2)\n",
    "    bn2_1 = BatchNormalization()(dense2_1)\n",
    "    drop_2 = Dropout(0.5)(bn2_1)\n",
    "\n",
    "\n",
    "    # concatenate\n",
    "    concat   = Concatenate()([drop_1,drop_2])\n",
    "    fc_1   = Dense(512, activation = acti)(concat)\n",
    "    drop_4 = Dropout(0.5)(fc_1)\n",
    "    fc_2   = Dense(256, activation = acti)(drop_4)\n",
    "    #classification output- TCR-Peptide Binding yes/no\n",
    "    output  = Dense(1, activation = 'sigmoid')(fc_2)\n",
    "\n",
    "    # create model with two inputs\n",
    "    model = Model(inputs=[input_1,input_2], outputs=output)\n",
    "\n",
    "  elif mode == 'abh':\n",
    "\n",
    "    ##dataprep\n",
    "\n",
    "    matmat_cdr3a   = train_matmat_cdr3a[train_ind]\n",
    "    matmat_cdr3b   = train_matmat_cdr3b[train_ind]\n",
    "    matmat_pepti   = train_matmat_pepti[train_ind]\n",
    "    matmat_mhc     = train_matmat_mhc[train_ind]\n",
    "    matmat_y_train = y_train[train_ind]\n",
    "\n",
    "    #### internal eval\n",
    "    evalmatmat_cdr3a = train_matmat_cdr3a[test_ind]\n",
    "    evalmatmat_cdr3b = train_matmat_cdr3b[test_ind]\n",
    "    evalmatmat_pepti = train_matmat_pepti[test_ind]\n",
    "    evalmatmat_mhc   = train_matmat_mhc[test_ind]\n",
    "    evalmatmat_y_eval= y_train[test_ind]\n",
    "\n",
    "    train_input = [matmat_cdr3a,matmat_cdr3b,matmat_pepti, matmat_mhc]\n",
    "    train_output= matmat_y_train\n",
    "    test_input = [evalmatmat_cdr3a,evalmatmat_cdr3b,evalmatmat_pepti, evalmatmat_mhc]\n",
    "    test_output= evalmatmat_y_eval\n",
    "\n",
    "    #input_1\n",
    "    input_1 = Input(shape = (1280,), name='i_1')\n",
    "    dense1_1 = Dense(128, activation = acti)(input_1)\n",
    "    bn1_1 = BatchNormalization()(dense1_1)\n",
    "    drop_1 = Dropout(0.5)(bn1_1)\n",
    "\n",
    "    #input_2\n",
    "    input_2 = Input(shape = (1280,), name='i_2')\n",
    "    dense2_1 = Dense(128, activation = acti)(input_2)\n",
    "    bn2_1 = BatchNormalization()(dense2_1)\n",
    "    drop_2 = Dropout(0.5)(bn2_1)\n",
    "\n",
    "\n",
    "    #input_3\n",
    "    input_3 = Input(shape = (1280,), name='i_3')\n",
    "    dense3_1 = Dense(128, activation = acti)(input_3)\n",
    "    bn3_1 = BatchNormalization()(dense3_1)\n",
    "    drop_3 = Dropout(0.5)(bn3_1)\n",
    "\n",
    "    #input_4\n",
    "    input_4 = Input(shape = (1280,), name='i_4')\n",
    "    dense4_1 = Dense(64, activation = acti)(input_4)\n",
    "    bn4_1 = BatchNormalization()(dense4_1)\n",
    "    drop_4 = Dropout(0.5)(bn4_1)\n",
    "\n",
    "\n",
    "    # concatenate\n",
    "    concat   = Concatenate()([drop_1,drop_2, drop_3, drop_4])\n",
    "    fc_1   = Dense(512, activation = acti)(concat)\n",
    "    drop_5 = Dropout(0.5)(fc_1)\n",
    "    fc_2   = Dense(256, activation = acti)(drop_5)\n",
    "    #classification output- TCR-Peptide Binding yes/no\n",
    "    output  = Dense(1, activation = 'sigmoid')(fc_2)\n",
    "    \n",
    "    # create model with two inputs\n",
    "    model = Model(inputs=[input_1,input_2, input_3, input_4], outputs=output)\n",
    "\n",
    "\n",
    "  elif mode == 'bh':\n",
    "\n",
    "    ##dataprep\n",
    "    matmat_cdr3b   = train_matmat_cdr3b[train_ind]\n",
    "    matmat_pepti   = train_matmat_pepti[train_ind]\n",
    "    matmat_mhc     = train_matmat_mhc[train_ind]\n",
    "    matmat_y_train = y_train[train_ind]\n",
    "\n",
    "    #### internal eval\n",
    "    evalmatmat_cdr3b = train_matmat_cdr3b[test_ind]\n",
    "    evalmatmat_pepti = train_matmat_pepti[test_ind]\n",
    "    evalmatmat_mhc   = train_matmat_mhc[test_ind]\n",
    "    evalmatmat_y_eval= y_train[test_ind]\n",
    "\n",
    "    train_input = [matmat_cdr3b,matmat_pepti, matmat_mhc]\n",
    "    train_output= matmat_y_train\n",
    "    test_input = [evalmatmat_cdr3b,evalmatmat_pepti, evalmatmat_mhc]\n",
    "    test_output= evalmatmat_y_eval\n",
    "\n",
    "\n",
    "    #input_2\n",
    "    input_2 = Input(shape = (1280,), name='i_2')\n",
    "    dense2_1 = Dense(128, activation = acti)(input_2)\n",
    "    bn2_1 = BatchNormalization()(dense2_1)\n",
    "    drop_2 = Dropout(0.5)(bn2_1)\n",
    "\n",
    "    #input_3\n",
    "    input_3 = Input(shape = (1280,), name='i_3')\n",
    "    dense3_1 = Dense(128, activation = acti)(input_3)\n",
    "    bn3_1 = BatchNormalization()(dense3_1)\n",
    "    drop_3 = Dropout(0.5)(bn3_1)\n",
    "\n",
    "    #input_4\n",
    "    input_4 = Input(shape = (1280,), name='i_4')\n",
    "    dense4_1 = Dense(64, activation = acti)(input_4)\n",
    "    bn4_1 = BatchNormalization()(dense4_1)\n",
    "    drop_4 = Dropout(0.5)(bn4_1)\n",
    "\n",
    "\n",
    "    # concatenate\n",
    "    concat   = Concatenate()([drop_2, drop_3, drop_4])\n",
    "    fc_1   = Dense(512, activation = acti)(concat)\n",
    "    drop_5 = Dropout(0.5)(fc_1)\n",
    "    fc_2   = Dense(256, activation = acti)(drop_5)\n",
    "    #classification output- TCR-Peptide Binding yes/no\n",
    "    output  = Dense(1, activation = 'sigmoid')(fc_2)\n",
    "    \n",
    "    # create model with two inputs\n",
    "    model = Model(inputs=[input_2, input_3, input_4], outputs=output)\n",
    "\n",
    "  elif mode == 'ah':\n",
    "\n",
    "    ##dataprep\n",
    "    matmat_cdr3a   = train_matmat_cdr3a[train_ind]\n",
    "    matmat_pepti   = train_matmat_pepti[train_ind]\n",
    "    matmat_mhc     = train_matmat_mhc[train_ind]\n",
    "    matmat_y_train = y_train[train_ind]\n",
    "\n",
    "    #### internal eval\n",
    "    evalmatmat_cdr3a = train_matmat_cdr3a[test_ind]\n",
    "    evalmatmat_pepti = train_matmat_pepti[test_ind]\n",
    "    evalmatmat_mhc   = train_matmat_mhc[test_ind]\n",
    "    evalmatmat_y_eval= y_train[test_ind]\n",
    "\n",
    "    train_input = [matmat_cdr3a,matmat_pepti, matmat_mhc]\n",
    "    train_output= matmat_y_train\n",
    "    test_input = [evalmatmat_cdr3a,evalmatmat_pepti, evalmatmat_mhc]\n",
    "    test_output= evalmatmat_y_eval\n",
    "\n",
    "    #input_1\n",
    "    input_1 = Input(shape = (1280,), name='i_1')\n",
    "    dense1_1 = Dense(128, activation = acti)(input_1)\n",
    "    bn1_1 = BatchNormalization()(dense1_1)\n",
    "    drop_1 = Dropout(0.5)(bn1_1)\n",
    "\n",
    "    #input_3\n",
    "    input_3 = Input(shape = (1280,), name='i_3')\n",
    "    dense3_1 = Dense(128, activation = acti)(input_3)\n",
    "    bn3_1 = BatchNormalization()(dense3_1)\n",
    "    drop_3 = Dropout(0.5)(bn3_1)\n",
    "\n",
    "    #input_4\n",
    "    input_4 = Input(shape = (1280,), name='i_4')\n",
    "    dense4_1 = Dense(64, activation = acti)(input_4)\n",
    "    bn4_1 = BatchNormalization()(dense4_1)\n",
    "    drop_4 = Dropout(0.5)(bn4_1)\n",
    "\n",
    "\n",
    "    # concatenate\n",
    "    concat   = Concatenate()([drop_1, drop_3, drop_4])\n",
    "    fc_1   = Dense(512, activation = acti)(concat)\n",
    "    drop_5 = Dropout(0.5)(fc_1)\n",
    "    fc_2   = Dense(256, activation = acti)(drop_5)\n",
    "    #classification output- TCR-Peptide Binding yes/no\n",
    "    output  = Dense(1, activation = 'sigmoid')(fc_2)\n",
    "    \n",
    "    # create model with two inputs\n",
    "    model = Model(inputs=[input_1, input_3, input_4], outputs=output)\n",
    "\n",
    "  return model, train_input, test_input, train_output, test_output"
   ]
  },
  {
   "cell_type": "markdown",
   "metadata": {},
   "source": [
    "## CDR3A+CDR3B+MHC+peptide"
   ]
  },
  {
   "cell_type": "code",
   "execution_count": null,
   "metadata": {
    "colab": {
     "base_uri": "https://localhost:8080/"
    },
    "executionInfo": {
     "elapsed": 530446,
     "status": "ok",
     "timestamp": 1671435831489,
     "user": {
      "displayName": "Shashank Yadav",
      "userId": "00457113104975153711"
     },
     "user_tz": 420
    },
    "id": "Gl9RiTOZxFeA",
    "outputId": "a7fd4cec-ab5f-4dee-f7b8-a49387db650c"
   },
   "outputs": [],
   "source": [
    "#### 10 Fold CV\n",
    "\n",
    "###set mode\n",
    "mode='abh'\n",
    "\n",
    "from sklearn.model_selection import KFold\n",
    "# Define the K-fold Cross Validator\n",
    "kfold = KFold(n_splits=10, shuffle=True)\n",
    "\n",
    "# K-fold Cross Validation model evaluation\n",
    "fold_no = 1\n",
    "\n",
    "for train_ind, test_ind in kfold.split(train_matmat_pepti):\n",
    "    clear_sess()\n",
    "    model, train_input, test_input, train_output, test_output = make_data(train_matmat_cdr3a, train_matmat_cdr3b, train_matmat_pepti, train_matmat_mhc, y_train, train_ind, test_ind, mode)\n",
    "    metrics_c = [tensorflow.keras.metrics.AUC(name=\"auc_roc\",curve=\"ROC\"),tensorflow.keras.metrics.AUC(name=\"auc_pr\",curve=\"PR\"),keras_mcc]\n",
    "    model.compile(loss=\"binary_crossentropy\", optimizer=Adam(learning_rate=0.008), metrics=metrics_c)\n",
    "    reduce_lr = ReduceLROnPlateau(monitor='val_auc_roc', factor=0.95,patience=50, min_lr=0.005, verbose=0)\n",
    "    checkpoint_filepath = f'weights-improvement-{fold_no}.hdf5'\n",
    "    #model_checkpoint_callback = ModelCheckpoint(filepath=checkpoint_filepath,save_weights_only=False,monitor='val_auc_pr',mode='max',save_best_only=True)\n",
    "    model_checkpoint_callback = ModelCheckpoint(filepath=checkpoint_filepath,save_weights_only=False,monitor='val_keras_mcc',mode='max',save_best_only=True)\n",
    "\n",
    "\n",
    "    history = model.fit(train_input, train_output,epochs=600,batch_size=512, verbose=0, validation_data=(test_input,test_output),\n",
    "                  class_weight={0: 1.0, 1: 5.0},\n",
    "                  callbacks=[model_checkpoint_callback,reduce_lr])\n",
    "\n",
    "    model_loaded = f'weights-improvement-{fold_no}.hdf5'\n",
    "    model = tensorflow.keras.models.load_model(model_loaded,compile=False)\n",
    "\n",
    "    y_pred = model.predict(test_input, verbose=0)\n",
    "    y_act = test_output.flatten()\n",
    "    y_pred= y_pred.flatten()\n",
    "    y_pred_c=np.where(y_pred>0.5,1,0)\n",
    "    print(roc_auc_score(y_act, y_pred),average_precision_score(y_act, y_pred),matthews_corrcoef(y_act,y_pred_c),f1_score(y_act,y_pred_c))\n",
    "    fold_no = fold_no + 1"
   ]
  },
  {
   "cell_type": "markdown",
   "metadata": {},
   "source": [
    "## CDR3B+MHC+peptide"
   ]
  },
  {
   "cell_type": "code",
   "execution_count": null,
   "metadata": {
    "colab": {
     "base_uri": "https://localhost:8080/"
    },
    "executionInfo": {
     "elapsed": 1196332,
     "status": "ok",
     "timestamp": 1671488080165,
     "user": {
      "displayName": "Shashank Yadav",
      "userId": "00457113104975153711"
     },
     "user_tz": 420
    },
    "id": "VeSqeaXzxP2c",
    "outputId": "da2283e6-6cb8-439e-f0dc-81c1b0286389"
   },
   "outputs": [],
   "source": [
    "#### 5/10 Fold CV\n",
    "\n",
    "###set mode\n",
    "mode='bh'\n",
    "\n",
    "from sklearn.model_selection import KFold\n",
    "# Define the K-fold Cross Validator\n",
    "kfold = KFold(n_splits=10, shuffle=True)\n",
    "\n",
    "# K-fold Cross Validation model evaluation\n",
    "fold_no = 1\n",
    "\n",
    "for train_ind, test_ind in kfold.split(train_matmat_pepti):\n",
    "    clear_sess()\n",
    "\n",
    "    model, train_input, test_input, train_output, test_output = make_data(train_matmat_cdr3a, train_matmat_cdr3b, train_matmat_pepti, train_matmat_mhc, y_train, train_ind, test_ind, mode)\n",
    "\n",
    "    metrics_c = [tensorflow.keras.metrics.AUC(name=\"auc_roc\",curve=\"ROC\"),tensorflow.keras.metrics.AUC(name=\"auc_pr\",curve=\"PR\"),keras_mcc]\n",
    "    model.compile(loss=\"binary_crossentropy\", optimizer=Adam(learning_rate=0.008), metrics=metrics_c)\n",
    "    reduce_lr = ReduceLROnPlateau(monitor='val_keras_mcc', factor=0.95,patience=50, min_lr=0.003, verbose=0)\n",
    "    checkpoint_filepath = f'weights-improvement-{fold_no}.hdf5'\n",
    "    model_checkpoint_callback = ModelCheckpoint(filepath=checkpoint_filepath,save_weights_only=False,monitor='val_keras_mcc',mode='max',save_best_only=True)\n",
    "\n",
    "\n",
    "    history = model.fit(train_input, train_output,epochs=500,batch_size=1024, verbose=0,validation_data=(test_input,test_output),callbacks=[model_checkpoint_callback,reduce_lr])\n",
    "\n",
    "    model_loaded = f'weights-improvement-{fold_no}.hdf5'\n",
    "    model = tensorflow.keras.models.load_model(model_loaded,compile=False)\n",
    "\n",
    "    y_pred = model.predict(test_input, verbose=0)\n",
    "    y_act = test_output.flatten()\n",
    "    y_pred= y_pred.flatten()\n",
    "    y_pred_c=np.where(y_pred>0.5,1,0)\n",
    "    print(roc_auc_score(y_act, y_pred),average_precision_score(y_act, y_pred),matthews_corrcoef(y_act,y_pred_c),f1_score(y_act,y_pred_c))\n",
    "    fold_no = fold_no + 1"
   ]
  },
  {
   "cell_type": "markdown",
   "metadata": {},
   "source": [
    "## CDR3A+MHC+peptide"
   ]
  },
  {
   "cell_type": "code",
   "execution_count": null,
   "metadata": {
    "colab": {
     "base_uri": "https://localhost:8080/"
    },
    "executionInfo": {
     "elapsed": 131350,
     "status": "ok",
     "timestamp": 1671489596404,
     "user": {
      "displayName": "Shashank Yadav",
      "userId": "00457113104975153711"
     },
     "user_tz": 420
    },
    "id": "T-nrJDNoxQFk",
    "outputId": "5d482637-2f82-43da-85fc-6cc5cfb3ee7d"
   },
   "outputs": [],
   "source": [
    "#### 5/10 Fold CV\n",
    "\n",
    "###set mode\n",
    "mode='ah'\n",
    "\n",
    "from sklearn.model_selection import KFold\n",
    "# Define the K-fold Cross Validator\n",
    "kfold = KFold(n_splits=10, shuffle=True)\n",
    "\n",
    "# K-fold Cross Validation model evaluation\n",
    "fold_no = 1\n",
    "\n",
    "for train_ind, test_ind in kfold.split(train_matmat_pepti):\n",
    "    clear_sess()\n",
    "    model, train_input, test_input, train_output, test_output = make_data(train_matmat_cdr3a, train_matmat_cdr3b, train_matmat_pepti, train_matmat_mhc, y_train, train_ind, test_ind, mode)\n",
    "\n",
    "    metrics_c = [tensorflow.keras.metrics.AUC(name=\"auc_roc\",curve=\"ROC\"),tensorflow.keras.metrics.AUC(name=\"auc_pr\",curve=\"PR\"),keras_mcc]\n",
    "    model.compile(loss=\"binary_crossentropy\", optimizer=Adam(learning_rate=0.009), metrics=metrics_c)\n",
    "    reduce_lr = ReduceLROnPlateau(monitor='val_keras_mcc', factor=0.95,patience=50, min_lr=0.003, verbose=0)\n",
    "    checkpoint_filepath = f'weights-improvement-{fold_no}.hdf5'\n",
    "    model_checkpoint_callback = ModelCheckpoint(filepath=checkpoint_filepath,save_weights_only=False,monitor='val_keras_mcc',mode='max',save_best_only=True)\n",
    "\n",
    "    history = model.fit(train_input, train_output,epochs=500,batch_size=1024, verbose=0, validation_data=(test_input,test_output), callbacks=[model_checkpoint_callback,reduce_lr])\n",
    "    model_loaded = f'weights-improvement-{fold_no}.hdf5'\n",
    "    model = tensorflow.keras.models.load_model(model_loaded,compile=False)\n",
    "    y_pred = model.predict(test_input, verbose=0)\n",
    "    y_act = test_output.flatten()\n",
    "    y_pred= y_pred.flatten()\n",
    "    y_pred_c=np.where(y_pred>0.5,1,0)\n",
    "    print(roc_auc_score(y_act, y_pred),average_precision_score(y_act, y_pred), matthews_corrcoef(y_act,y_pred_c),f1_score(y_act,y_pred_c))\n",
    "    fold_no = fold_no + 1"
   ]
  },
  {
   "cell_type": "markdown",
   "metadata": {
    "id": "hQ1BU0al73Tj"
   },
   "source": [
    "## CDR3A+CDR3B+peptide"
   ]
  },
  {
   "cell_type": "code",
   "execution_count": null,
   "metadata": {
    "colab": {
     "base_uri": "https://localhost:8080/"
    },
    "executionInfo": {
     "elapsed": 769444,
     "status": "ok",
     "timestamp": 1671492285528,
     "user": {
      "displayName": "Shashank Yadav",
      "userId": "00457113104975153711"
     },
     "user_tz": 420
    },
    "id": "a0BKLN9kiiFV",
    "outputId": "d8663a1d-5824-4f61-fa5f-2cff01d054ff"
   },
   "outputs": [],
   "source": [
    "#### 5/10 Fold CV\n",
    "\n",
    "###set mode\n",
    "mode='ab'\n",
    "\n",
    "\n",
    "\n",
    "from sklearn.model_selection import KFold\n",
    "# Define the K-fold Cross Validator\n",
    "kfold = KFold(n_splits=10, shuffle=True)\n",
    "\n",
    "# K-fold Cross Validation model evaluation\n",
    "fold_no = 1\n",
    "\n",
    "for train_ind, test_ind in kfold.split(train_matmat_pepti):\n",
    "  clear_sess()\n",
    "  #print('------------------------------------------------------------------------')\n",
    "  #print(f'Training for fold {fold_no} ...')\n",
    "  #print('Train shape',train_ind.shape, 'Test shape',test_ind.shape)\n",
    "\n",
    "  model, train_input, test_input, train_output, test_output = make_data(train_matmat_cdr3a, train_matmat_cdr3b, train_matmat_pepti, train_matmat_mhc, y_train, train_ind, test_ind, mode)\n",
    "\n",
    "  #print('Training', train_input[0].shape, train_input[1].shape, train_input[2].shape, train_output.shape)\n",
    "  #print('Evaluation', test_input[0].shape, test_input[1].shape, test_input[2].shape, test_output.shape)\n",
    "\n",
    "  metrics_c = [tensorflow.keras.metrics.AUC(name=\"auc_roc\",curve=\"ROC\"),tensorflow.keras.metrics.AUC(name=\"auc_pr\",curve=\"PR\"),keras_mcc]\n",
    "  #metrics_c = [keras_mcc]\n",
    "  model.compile(loss=\"binary_crossentropy\", optimizer=Adam(learning_rate=0.009), metrics=metrics_c)\n",
    "  #early_stop = EarlyStopping(monitor='loss',min_delta=0,patience=10, verbose=0,mode='min',restore_best_weights=True)\n",
    "  reduce_lr = ReduceLROnPlateau(monitor='val_keras_mcc', factor=0.95,patience=50, min_lr=0.003, verbose=0)\n",
    "  checkpoint_filepath = f'weights-improvement-{fold_no}.hdf5'\n",
    "  #model_checkpoint_callback = ModelCheckpoint(filepath=checkpoint_filepath,save_weights_only=False,monitor='val_auc_pr',mode='max',save_best_only=True)\n",
    "  model_checkpoint_callback = ModelCheckpoint(filepath=checkpoint_filepath,save_weights_only=False,monitor='val_keras_mcc',mode='max',save_best_only=True)\n",
    "\n",
    "\n",
    "  history = model.fit(train_input, train_output,epochs=500,batch_size=1024, verbose=0, validation_data=(test_input,test_output),\n",
    "                  callbacks=[model_checkpoint_callback,reduce_lr])\n",
    "\n",
    "  model_loaded = f'weights-improvement-{fold_no}.hdf5'\n",
    "  model = tensorflow.keras.models.load_model(model_loaded,compile=False)\n",
    "\n",
    "  y_pred = model.predict(test_input, verbose=0)\n",
    "  y_act = test_output.flatten()\n",
    "  y_pred= y_pred.flatten()\n",
    "  y_pred_c=np.where(y_pred>0.5,1,0)\n",
    "  print(#roc_auc_score(y_act, y_pred),average_precision_score(y_act, y_pred),\n",
    "        matthews_corrcoef(y_act,y_pred_c),#cohen_kappa_score(y_act,y_pred_c)\n",
    "        )\n",
    "  fold_no = fold_no + 1"
   ]
  },
  {
   "cell_type": "markdown",
   "metadata": {
    "id": "avwFB95I75w0"
   },
   "source": [
    "## CDR3B+MHC+peptide"
   ]
  },
  {
   "cell_type": "code",
   "execution_count": null,
   "metadata": {
    "cellView": "form",
    "id": "r4AP3F389G2n"
   },
   "outputs": [],
   "source": [
    "#set these two to 0\n",
    "\n",
    "if mode=='b'\n",
    "    train_matmat_cdr3a =0\n",
    "    test_matmat_cdr3a =0\n",
    "\n",
    "    train_matmat_mhc =0\n",
    "    test_matmat_mhc =0"
   ]
  },
  {
   "cell_type": "code",
   "execution_count": null,
   "metadata": {
    "colab": {
     "base_uri": "https://localhost:8080/"
    },
    "executionInfo": {
     "elapsed": 234572,
     "status": "ok",
     "timestamp": 1671494315292,
     "user": {
      "displayName": "Shashank Yadav",
      "userId": "00457113104975153711"
     },
     "user_tz": 420
    },
    "id": "UFrpr7rP9G66",
    "outputId": "abe1705a-da4a-46f8-a18d-f2cf18637d95"
   },
   "outputs": [],
   "source": [
    "#### 10 Fold CV\n",
    "\n",
    "###set mode\n",
    "mode='b'\n",
    "\n",
    "\n",
    "\n",
    "from sklearn.model_selection import KFold\n",
    "# Define the K-fold Cross Validator\n",
    "kfold = KFold(n_splits=10, shuffle=True, random_state=0)\n",
    "\n",
    "# K-fold Cross Validation model evaluation\n",
    "fold_no = 1\n",
    "\n",
    "for train_ind, test_ind in kfold.split(train_matmat_pepti):\n",
    "    clear_sess()\n",
    "\n",
    "\n",
    "    model, train_input, test_input, train_output, test_output = make_data(train_matmat_cdr3a, train_matmat_cdr3b, train_matmat_pepti, train_matmat_mhc, y_train, train_ind, test_ind, mode)\n",
    "\n",
    "    metrics_c = [tensorflow.keras.metrics.AUC(name=\"auc_roc\",curve=\"ROC\"),tensorflow.keras.metrics.AUC(name=\"auc_pr\",curve=\"PR\"),keras_mcc]\n",
    "    model.compile(loss=\"binary_crossentropy\", optimizer=Adam(learning_rate=0.009), metrics=metrics_c)\n",
    "    reduce_lr = ReduceLROnPlateau(monitor='val_keras_mcc', factor=0.95,patience=50, min_lr=0.003, verbose=0)\n",
    "    checkpoint_filepath = f'weights-improvement-{fold_no}.hdf5'\n",
    "    model_checkpoint_callback = ModelCheckpoint(filepath=checkpoint_filepath,save_weights_only=False,monitor='val_keras_mcc',mode='max',save_best_only=True)\n",
    "\n",
    "\n",
    "    history = model.fit(train_input, train_output,epochs=1000,batch_size=1024, verbose=0, validation_data=(test_input,test_output),\n",
    "                  callbacks=[model_checkpoint_callback,reduce_lr])\n",
    "\n",
    "    model_loaded = f'weights-improvement-{fold_no}.hdf5'\n",
    "    model = tensorflow.keras.models.load_model(model_loaded,compile=False)\n",
    "\n",
    "    y_pred = model.predict(test_input, verbose=0)\n",
    "    y_act = test_output.flatten()\n",
    "    y_pred= y_pred.flatten()\n",
    "    y_pred_c=np.where(y_pred>0.5,1,0)\n",
    "    print(roc_auc_score(y_act, y_pred),average_precision_score(y_act, y_pred), matthews_corrcoef(y_act,y_pred_c),f1_score(y_act,y_pred_c))\n",
    "    fold_no = fold_no + 1"
   ]
  },
  {
   "cell_type": "markdown",
   "metadata": {
    "id": "dB9Ysg_u9G-f"
   },
   "source": [
    "## CDR3A+peptide"
   ]
  },
  {
   "cell_type": "code",
   "execution_count": null,
   "metadata": {
    "colab": {
     "base_uri": "https://localhost:8080/"
    },
    "executionInfo": {
     "elapsed": 812908,
     "status": "ok",
     "timestamp": 1671495574805,
     "user": {
      "displayName": "Shashank Yadav",
      "userId": "00457113104975153711"
     },
     "user_tz": 420
    },
    "id": "Fem7Cttu9HGk",
    "outputId": "4fe36d90-8d9c-4c3e-97b2-8630c206587f"
   },
   "outputs": [],
   "source": [
    "#### 10 Fold CV\n",
    "\n",
    "###set mode\n",
    "mode='a'\n",
    "\n",
    "from sklearn.model_selection import KFold\n",
    "# Define the K-fold Cross Validator\n",
    "kfold = KFold(n_splits=10, shuffle=True)\n",
    "\n",
    "# K-fold Cross Validation model evaluation\n",
    "fold_no = 1\n",
    "\n",
    "for train_ind, test_ind in kfold.split(train_matmat_pepti):\n",
    "    clear_sess()\n",
    "\n",
    "    model, train_input, test_input, train_output, test_output = make_data(train_matmat_cdr3a, train_matmat_cdr3b, train_matmat_pepti, train_matmat_mhc, y_train, train_ind, test_ind, mode)\n",
    "    metrics_c = [tensorflow.keras.metrics.AUC(name=\"auc_roc\",curve=\"ROC\"),tensorflow.keras.metrics.AUC(name=\"auc_pr\",curve=\"PR\"),keras_mcc]\n",
    "    model.compile(loss=\"binary_crossentropy\", optimizer=Adam(learning_rate=0.008), metrics=metrics_c)\n",
    "    reduce_lr = ReduceLROnPlateau(monitor='val_keras_mcc', factor=0.95,patience=50, min_lr=0.005, verbose=0)\n",
    "    checkpoint_filepath = f'weights-improvement-{fold_no}.hdf5'\n",
    "    model_checkpoint_callback = ModelCheckpoint(filepath=checkpoint_filepath,save_weights_only=False,monitor='val_keras_mcc',mode='max',save_best_only=True)\n",
    "\n",
    "\n",
    "    history = model.fit(train_input, train_output,epochs=500,batch_size=1024, verbose=0, validation_data=(test_input,test_output),\n",
    "                  callbacks=[model_checkpoint_callback,reduce_lr])\n",
    "\n",
    "    model_loaded = f'weights-improvement-{fold_no}.hdf5'\n",
    "    model = tensorflow.keras.models.load_model(model_loaded,compile=False)\n",
    "\n",
    "    y_pred = model.predict(test_input, verbose=0)\n",
    "    y_act = test_output.flatten()\n",
    "    y_pred= y_pred.flatten()\n",
    "    y_pred_c=np.where(y_pred>0.5,1,0)\n",
    "    print(roc_auc_score(y_act, y_pred),average_precision_score(y_act, y_pred),matthews_corrcoef(y_act,y_pred_c),f1_score(y_act,y_pred_c)\n",
    "        )\n",
    "    fold_no = fold_no + 1"
   ]
  }
 ],
 "metadata": {
  "accelerator": "GPU",
  "colab": {
   "authorship_tag": "ABX9TyOmdHxNWuQWBgwmTwc+iGhE",
   "mount_file_id": "1sz7NlXzLpZblG4ZPt0GA8KR2tfCQAtqx",
   "provenance": []
  },
  "gpuClass": "standard",
  "kernelspec": {
   "display_name": "Python 3 (ipykernel)",
   "language": "python",
   "name": "python3"
  },
  "language_info": {
   "codemirror_mode": {
    "name": "ipython",
    "version": 3
   },
   "file_extension": ".py",
   "mimetype": "text/x-python",
   "name": "python",
   "nbconvert_exporter": "python",
   "pygments_lexer": "ipython3",
   "version": "3.9.12"
  }
 },
 "nbformat": 4,
 "nbformat_minor": 4
}
