{
 "cells": [
  {
   "cell_type": "markdown",
   "metadata": {
    "executionInfo": {
     "elapsed": 22465,
     "status": "ok",
     "timestamp": 1672500636423,
     "user": {
      "displayName": "Shashank Yadav",
      "userId": "00457113104975153711"
     },
     "user_tz": 420
    },
    "id": "oDtdWlYKxhVM"
   },
   "source": [
    "# This notebook assumes that you have extracted the embeddings (using the procedure mentioned in the 0_ESM_Embeddings_Extractor.ipynb notebook) and have stored them in a zipped format"
   ]
  },
  {
   "cell_type": "markdown",
   "metadata": {},
   "source": [
    "## Since we have used google colab; we copy the embeddings from google drive before training the model; similar procedure can be used to run it locally;"
   ]
  },
  {
   "cell_type": "markdown",
   "metadata": {},
   "source": [
    "# for the external validation on pmtNET we use the beta-peptide pairs dataset from MCPAS and VDJDB"
   ]
  },
  {
   "cell_type": "markdown",
   "metadata": {},
   "source": [
    "## A example is shown below for CDR3beta and peptide: for MCPAS"
   ]
  },
  {
   "cell_type": "code",
   "execution_count": null,
   "metadata": {},
   "outputs": [],
   "source": [
    "#####################################################1_origMCPAS_NoMHC/train_B\n",
    "!cp -r /content/drive/MyDrive/TCR-pMHC-results/mcpas/1_origMCPAS_NoMHC/train_B/*.csv '/content/'\n",
    "!cp -r /content/drive/MyDrive/TCR-pMHC-results/mcpas/1_origMCPAS_NoMHC/train_B/*.zip '/content'"
   ]
  },
  {
   "cell_type": "markdown",
   "metadata": {},
   "source": [
    "## A example is shown below for CDR3beta, peptide: for VDJDB"
   ]
  },
  {
   "cell_type": "code",
   "execution_count": null,
   "metadata": {},
   "outputs": [],
   "source": [
    "                                                 ##########################################################\n",
    "# ###################################################3_origMCPAS_HMHC/train_AB\n",
    "!cp -r /content/drive/MyDrive/TCR-pMHC-results/mcpas/3_origMCPAS_HMHC/train_B/*.csv '/content/'\n",
    "!cp -r /content/drive/MyDrive/TCR-pMHC-results/mcpas/3_origMCPAS_HMHC/train_B/*.zip '/content'                                         "
   ]
  },
  {
   "cell_type": "markdown",
   "metadata": {
    "executionInfo": {
     "elapsed": 4831,
     "status": "ok",
     "timestamp": 1672500641238,
     "user": {
      "displayName": "Shashank Yadav",
      "userId": "00457113104975153711"
     },
     "user_tz": 420
    },
    "id": "M8xOtuv76QKS"
   },
   "source": [
    "## Example of pmtnet data External Validation"
   ]
  },
  {
   "cell_type": "code",
   "execution_count": 1,
   "metadata": {
    "executionInfo": {
     "elapsed": 4831,
     "status": "ok",
     "timestamp": 1672500641238,
     "user": {
      "displayName": "Shashank Yadav",
      "userId": "00457113104975153711"
     },
     "user_tz": 420
    },
    "id": "M8xOtuv76QKS"
   },
   "outputs": [],
   "source": [
    "!cp -r /content/drive/MyDrive/TCR-pMHC-results/pmtnet_exp/set1/*.csv '/content/'\n",
    "!cp -r /content/drive/MyDrive/TCR-pMHC-results/pmtnet_exp/set1/*.zip '/content'"
   ]
  },
  {
   "cell_type": "markdown",
   "metadata": {},
   "source": [
    "## Unzip the embeddings to folder for developing the train and test set (pmtNET)"
   ]
  },
  {
   "cell_type": "code",
   "execution_count": null,
   "metadata": {
    "executionInfo": {
     "elapsed": 7633,
     "status": "ok",
     "timestamp": 1672500655913,
     "user": {
      "displayName": "Shashank Yadav",
      "userId": "00457113104975153711"
     },
     "user_tz": 420
    },
    "id": "W4tHaAWVgePz"
   },
   "outputs": [],
   "source": [
    "########################################################################## AB and A\n",
    "#### unzip train\n",
    "!unzip -q <path_to_train_cdr3b.zip>     -d  train_cdr3b\n",
    "!unzip -q <path_to_train_peptide.zip>   -d  train_peptide\n",
    "\n",
    "#### unzip test\n",
    "!unzip -q <path_to_test_cdr3b.zip>     -d  test_cdr3b\n",
    "!unzip -q <path_to_test_peptide.zip>   -d  test_peptide"
   ]
  },
  {
   "cell_type": "code",
   "execution_count": null,
   "metadata": {
    "executionInfo": {
     "elapsed": 3269,
     "status": "ok",
     "timestamp": 1672500659168,
     "user": {
      "displayName": "Shashank Yadav",
      "userId": "00457113104975153711"
     },
     "user_tz": 420
    },
    "id": "lZxAwAWTnHu1"
   },
   "outputs": [],
   "source": [
    "import sys\n",
    "import numpy as np\n",
    "import pandas as pd\n",
    "import os\n",
    "from tqdm import tqdm\n",
    "from natsort import natsorted\n",
    "import matplotlib.pyplot as plt\n",
    "plt.style.use('seaborn')\n",
    "%matplotlib inline\n",
    "from tensorflow.keras.models import Sequential, Model\n",
    "from tensorflow.keras.layers import Layer,Input, Dense, Dropout, Activation, Concatenate, Flatten, BatchNormalization\n",
    "from tensorflow.keras.regularizers import l2,l1\n",
    "from tensorflow.keras.optimizers import SGD,Adam,RMSprop\n",
    "import tensorflow.keras.backend as K\n",
    "from tensorflow.keras.preprocessing.image import array_to_img, img_to_array, load_img\n",
    "from tensorflow.keras.callbacks import EarlyStopping, ModelCheckpoint,ReduceLROnPlateau\n",
    "from tensorflow.keras.models import load_model\n",
    "import tensorflow.keras.metrics\n",
    "####import tensorflow_addons as tfa not required\n",
    "from sklearn.preprocessing import LabelEncoder\n",
    "import tensorflow as tf\n",
    "tf.random.set_seed(1)\n",
    "from sklearn.model_selection import train_test_split\n",
    "from sklearn.preprocessing import MinMaxScaler\n",
    "from tensorflow.keras.utils import to_categorical, plot_model\n",
    "import sklearn\n",
    "import os\n",
    "from natsort import natsorted\n",
    "from sklearn.metrics import *\n",
    "import torch\n",
    "from tqdm import tqdm"
   ]
  },
  {
   "cell_type": "markdown",
   "metadata": {},
   "source": [
    "## For MCPAS and VDJDB with beta-peptide MHC information\n",
    "\n",
    "### Model CDR3b + peptide"
   ]
  },
  {
   "cell_type": "code",
   "execution_count": null,
   "metadata": {
    "id": "_GVGvx6AiBtc"
   },
   "outputs": [],
   "source": [
    "### train files\n",
    "path_train_cdr3b = <'path_to_train_cdr3b_embeddings'>\n",
    "path_train_pepti = <'path_to_train_peptide_embeddings'> \n",
    "\n",
    "### test files\n",
    "path_test_cdr3b = <'path_to_test_cdr3b_embeddings'>  \n",
    "path_test_pepti = <'path_to_test_peptide_embeddings'>  \n",
    "\n",
    "\n",
    "trainmat_cdr3b = os.listdir(path_train_cdr3b) \n",
    "trainmat_pepti = os.listdir(path_train_pepti)\n",
    "\n",
    "\n",
    "testmat_cdr3b = os.listdir(path_test_cdr3b) \n",
    "testmat_pepti = os.listdir(path_test_pepti)"
   ]
  },
  {
   "cell_type": "markdown",
   "metadata": {},
   "source": [
    "## natsort is used to order the pairs as they appear in the .csv; this would be helpful later to map the pairs with their respective labels"
   ]
  },
  {
   "cell_type": "code",
   "execution_count": null,
   "metadata": {
    "executionInfo": {
     "elapsed": 1407,
     "status": "ok",
     "timestamp": 1672500669829,
     "user": {
      "displayName": "Shashank Yadav",
      "userId": "00457113104975153711"
     },
     "user_tz": 420
    },
    "id": "3jeOYjgmiSIq"
   },
   "outputs": [],
   "source": [
    "### AB-pep, A-pep, B-pep\n",
    "\n",
    "###train\n",
    "train_nmat_cdr3b = natsorted(trainmat_cdr3b)\n",
    "train_nmat_pepti = natsorted(trainmat_pepti)\n",
    "\n",
    "\n",
    "\n",
    "###test\n",
    "test_nmat_cdr3b = natsorted(testmat_cdr3b)\n",
    "test_nmat_pepti = natsorted(testmat_pepti)"
   ]
  },
  {
   "cell_type": "markdown",
   "metadata": {},
   "source": [
    "## the following step extracts the embeddings and stores in a numpy matrix for MCPAS subset 1\n"
   ]
  },
  {
   "cell_type": "code",
   "execution_count": null,
   "metadata": {
    "id": "sTi1NqVtjBDL"
   },
   "outputs": [],
   "source": [
    "train_matmat_cdr3b = np.zeros((train_samples,1280))\n",
    "train_matmat_pepti = np.zeros((train_samples,1280))\n",
    "\n",
    "\n",
    "test_matmat_cdr3b = np.zeros((test_samples,1280))\n",
    "test_matmat_pepti = np.zeros((test_samples,1280))\n",
    "\n",
    "### load train samples \n",
    "\n",
    "for i in tqdm(range(train_samples)):\n",
    "\n",
    "    train_matmat_cdr3b[i] = torch.load(path_train_cdr3b+train_nmat_cdr3b[i])['mean_representations'][33]\n",
    "\n",
    "    train_matmat_pepti[i] = torch.load(path_train_pepti+train_nmat_pepti[i])['mean_representations'][33]\n",
    "\n",
    "\n",
    "    for j in tqdm(range(test_samples)):\n",
    "\n",
    "    test_matmat_cdr3b[j]  = torch.load(path_test_cdr3b+test_nmat_cdr3b[j])['mean_representations'][33]\n",
    "\n",
    "    test_matmat_pepti[j]  = torch.load(path_test_pepti+test_nmat_pepti[j])['mean_representations'][33]\n",
    "\n"
   ]
  },
  {
   "cell_type": "markdown",
   "metadata": {},
   "source": [
    "## load *.csv files for labels"
   ]
  },
  {
   "cell_type": "markdown",
   "metadata": {
    "id": "JKaFIojUmZjB"
   },
   "source": [
    "### for mcpas subset 1"
   ]
  },
  {
   "cell_type": "code",
   "execution_count": null,
   "metadata": {
    "id": "JKaFIojUmZjB"
   },
   "outputs": [],
   "source": [
    "df_train = pd.read_csv('<path-to-mcpas/vdjdb-train_B.csv>')\n",
    "df_test  = pd.read_csv('<path-to-pmtNet-set>')"
   ]
  },
  {
   "cell_type": "code",
   "execution_count": null,
   "metadata": {
    "executionInfo": {
     "elapsed": 9,
     "status": "ok",
     "timestamp": 1672500705880,
     "user": {
      "displayName": "Shashank Yadav",
      "userId": "00457113104975153711"
     },
     "user_tz": 420
    },
    "id": "YIdGhCATmiGE"
   },
   "outputs": [],
   "source": [
    "############ load labels\n",
    "y_train = df_train['sign'].values.reshape(-1,1)\n",
    "y_test  = df_test['sign'].values.reshape(-1,1)"
   ]
  },
  {
   "cell_type": "code",
   "execution_count": null,
   "metadata": {
    "executionInfo": {
     "elapsed": 1,
     "status": "ok",
     "timestamp": 1672500714184,
     "user": {
      "displayName": "Shashank Yadav",
      "userId": "00457113104975153711"
     },
     "user_tz": 420
    },
    "id": "vdetXfGzl8FE"
   },
   "outputs": [],
   "source": [
    "### model\n",
    "def clear_sess():\n",
    "  try:\n",
    "    del model \n",
    "    del history \n",
    "  except:\n",
    "    pass\n",
    "  from tensorflow.keras import backend as K\n",
    "  K.clear_session()\n",
    "  import gc\n",
    "  gc.collect()\n",
    "\n",
    "\n",
    "\n",
    "  return None\n",
    "\n",
    "def keras_mcc(y_true, y_pred):\n",
    "    tp = K.sum(K.round(K.clip(y_true * y_pred, 0, 1)))\n",
    "    tn = K.sum(K.round(K.clip((1 - y_true) * (1 - y_pred), 0, 1)))\n",
    "    fp = K.sum(K.round(K.clip((1 - y_true) * y_pred, 0, 1)))\n",
    "    fn = K.sum(K.round(K.clip(y_true * (1 - y_pred), 0, 1)))\n",
    "\n",
    "    num = tp * tn - fp * fn\n",
    "    den = (tp + fp) * (tp + fn) * (tn + fp) * (tn + fn)\n",
    "    return num / K.sqrt(den + K.epsilon())"
   ]
  },
  {
   "cell_type": "markdown",
   "metadata": {
    "executionInfo": {
     "elapsed": 3545,
     "status": "ok",
     "timestamp": 1672500727381,
     "user": {
      "displayName": "Shashank Yadav",
      "userId": "00457113104975153711"
     },
     "user_tz": 420
    },
    "id": "N2Q70DW7v8z_"
   },
   "source": [
    "### CDR3B peptide "
   ]
  },
  {
   "cell_type": "code",
   "execution_count": null,
   "metadata": {
    "executionInfo": {
     "elapsed": 3545,
     "status": "ok",
     "timestamp": 1672500727381,
     "user": {
      "displayName": "Shashank Yadav",
      "userId": "00457113104975153711"
     },
     "user_tz": 420
    },
    "id": "N2Q70DW7v8z_"
   },
   "outputs": [],
   "source": [
    "clear_sess()\n",
    "\n",
    "acti  = 'swish'\n",
    "\n",
    "#input_1\n",
    "\n",
    "\n",
    "input_1 = Input(shape = (1280,), name='i_1')\n",
    "dense1_1 = Dense(128, activation = acti)(input_1)\n",
    "bn1_1 = BatchNormalization()(dense1_1)\n",
    "drop_1 = Dropout(0.5)(bn1_1)\n",
    "\n",
    "#input_2\n",
    "input_2 = Input(shape = (1280,), name='i_2')\n",
    "dense2_1 = Dense(128, activation = acti)(input_2)\n",
    "bn2_1 = BatchNormalization()(dense2_1)\n",
    "drop_2 = Dropout(0.5)(bn2_1)\n",
    "\n",
    "\n",
    "# concatenate\n",
    "concat   = Concatenate()([drop_1,drop_2])\n",
    "fc_1   = Dense(512, activation = acti)(concat)\n",
    "drop_4 = Dropout(0.5)(fc_1)\n",
    "fc_2   = Dense(256, activation = acti)(drop_4)\n",
    "#classification output- TCR-Peptide Binding yes/no\n",
    "output  = Dense(1, activation = 'sigmoid')(fc_2)\n",
    " \n",
    "# create model with two inputs\n",
    "model = Model(inputs=[input_1,input_2], outputs=output)"
   ]
  },
  {
   "cell_type": "code",
   "execution_count": null,
   "metadata": {
    "executionInfo": {
     "elapsed": 337,
     "status": "ok",
     "timestamp": 1672500738364,
     "user": {
      "displayName": "Shashank Yadav",
      "userId": "00457113104975153711"
     },
     "user_tz": 420
    },
    "id": "ratSCKvAgksm"
   },
   "outputs": [],
   "source": [
    "metrics_c = [tensorflow.keras.metrics.AUC(name=\"auc_roc\",curve=\"ROC\"),tensorflow.keras.metrics.AUC(name=\"auc_pr\",curve=\"PR\"),keras_mcc]\n",
    "model.compile(loss='binary_crossentropy', optimizer=tensorflow.keras.optimizers.Adam(learning_rate=0.009),   metrics=metrics_c)\n",
    "reduce_lr = ReduceLROnPlateau(monitor='val_keras_mcc', factor=0.95,patience=50, min_lr=0.005, verbose=0)"
   ]
  },
  {
   "cell_type": "code",
   "execution_count": null,
   "metadata": {
    "executionInfo": {
     "elapsed": 2,
     "status": "ok",
     "timestamp": 1672500740948,
     "user": {
      "displayName": "Shashank Yadav",
      "userId": "00457113104975153711"
     },
     "user_tz": 420
    },
    "id": "ShUY7ZOCp1Md"
   },
   "outputs": [],
   "source": [
    "checkpoint_filepath_1 = 'weights-improvement-val-auc-pr.hdf5'\n",
    "model_checkpoint_callback_1 = ModelCheckpoint(filepath=checkpoint_filepath_1,save_weights_only=False,monitor='val_auc_pr',mode='max',save_best_only=True)\n",
    "\n",
    "checkpoint_filepath_2 = 'weights-improvement-val-keras-mcc.hdf5'\n",
    "model_checkpoint_callback_2 = ModelCheckpoint(filepath=checkpoint_filepath_2,save_weights_only=False,monitor='val_keras_mcc',mode='max',save_best_only=True)"
   ]
  },
  {
   "cell_type": "markdown",
   "metadata": {
    "executionInfo": {
     "elapsed": 86414,
     "status": "ok",
     "timestamp": 1672502120631,
     "user": {
      "displayName": "Shashank Yadav",
      "userId": "00457113104975153711"
     },
     "user_tz": 420
    },
    "id": "rrdCil3KFmSz"
   },
   "source": [
    "### fit the keras model for CDR3B and peptide"
   ]
  },
  {
   "cell_type": "code",
   "execution_count": null,
   "metadata": {
    "executionInfo": {
     "elapsed": 86414,
     "status": "ok",
     "timestamp": 1672502120631,
     "user": {
      "displayName": "Shashank Yadav",
      "userId": "00457113104975153711"
     },
     "user_tz": 420
    },
    "id": "rrdCil3KFmSz"
   },
   "outputs": [],
   "source": [
    "history=model.fit([train_matmat_cdr3b,train_matmat_pepti],y_train,\n",
    "                  batch_size=1024, epochs=1000,\n",
    "                  validation_split=0.1,\n",
    "                  callbacks=[model_checkpoint_callback_1, model_checkpoint_callback_2,reduce_lr])"
   ]
  },
  {
   "cell_type": "markdown",
   "metadata": {
    "id": "BA9crE6OjG0W"
   },
   "source": [
    "## once the best model is trained, we can test it over the evaluation dataset"
   ]
  },
  {
   "cell_type": "code",
   "execution_count": null,
   "metadata": {
    "colab": {
     "base_uri": "https://localhost:8080/"
    },
    "executionInfo": {
     "elapsed": 1035,
     "status": "ok",
     "timestamp": 1672502639895,
     "user": {
      "displayName": "Shashank Yadav",
      "userId": "00457113104975153711"
     },
     "user_tz": 420
    },
    "id": "09fltNbTL8gb",
    "outputId": "28ddb279-93f6-4fb4-e829-0e9962429101"
   },
   "outputs": [],
   "source": [
    "model_loaded = '/content/weights-improvement-val-keras-mcc.hdf5'\n",
    "model = tensorflow.keras.models.load_model(model_loaded,compile=False, custom_objects={'metrics_c': keras_mcc})\n",
    "\n",
    "y_pred = model.predict([test_matmat_cdr3b, test_matmat_pepti])\n",
    "y_act = y_test.flatten()\n",
    "y_pred= y_pred.flatten()\n",
    "y_pred_c=np.where(y_pred>0.5,1,0)\n",
    "\n",
    "\n",
    "print(roc_auc_score(y_act, y_pred),average_precision_score(y_act, y_pred), matthews_corrcoef(y_act,y_pred_c),f1_score(y_act,y_pred_c))"
   ]
  },
  {
   "cell_type": "code",
   "execution_count": null,
   "metadata": {
    "colab": {
     "base_uri": "https://localhost:8080/"
    },
    "executionInfo": {
     "elapsed": 1466,
     "status": "ok",
     "timestamp": 1671359265530,
     "user": {
      "displayName": "Shashank Yadav",
      "userId": "00457113104975153711"
     },
     "user_tz": 420
    },
    "id": "2Hekc873DMrV",
    "outputId": "74743686-6b8d-4b36-8731-7c6383a7601b"
   },
   "outputs": [],
   "source": [
    "####model load max aucpr\n",
    "model_loaded = '/content/weights-improvement-val-auc-pr.hdf5'\n",
    "model = tensorflow.keras.models.load_model(model_loaded,compile=False)\n",
    "\n",
    "y_pred = predict_mode(mode, test_matmat_cdr3a, test_matmat_cdr3b, test_matmat_pepti, test_matmat_mhc, model_loaded, model)\n",
    "\n",
    "y_act = y_test.flatten()\n",
    "y_pred= y_pred.flatten()\n",
    "y_pred_c=np.where(y_pred>0.5,1,0)\n",
    "\n",
    "\n",
    "print(roc_auc_score(y_act, y_pred),average_precision_score(y_act, y_pred),matthews_corrcoef(y_act,y_pred_c),cohen_kappa_score(y_act,y_pred_c))"
   ]
  },
  {
   "cell_type": "markdown",
   "metadata": {},
   "source": [
    "# Not in train + 0.8 and 0.9 sequence similarity\n"
   ]
  },
  {
   "cell_type": "code",
   "execution_count": null,
   "metadata": {},
   "outputs": [],
   "source": [
    "from Bio import pairwise2"
   ]
  },
  {
   "cell_type": "code",
   "execution_count": null,
   "metadata": {},
   "outputs": [],
   "source": [
    "tempdf_train = df_train.copy()\n",
    "tempdf_test = df_test.copy()"
   ]
  },
  {
   "cell_type": "code",
   "execution_count": null,
   "metadata": {},
   "outputs": [],
   "source": [
    "def calculate_similarity(seq1, seq2):\n",
    "    # Compute the local alignment score between two sequences\n",
    "    alignments = pairwise2.align.localxx(seq1, seq2)\n",
    "    # Check if alignments list is empty\n",
    "    if not alignments:\n",
    "        return 0.0\n",
    "    # Extract the alignment with the highest score\n",
    "    best_alignment = max(alignments, key=lambda x: x[2])\n",
    "    # Calculate the similarity as the alignment score divided by the length of the longer sequence\n",
    "    similarity = best_alignment[2] / max(len(seq1), len(seq2))\n",
    "    return similarity"
   ]
  },
  {
   "cell_type": "code",
   "execution_count": null,
   "metadata": {},
   "outputs": [],
   "source": [
    "unique_train_peptides = tempdf_train['peptide'].unique()\n",
    "unique_test_peptides = tempdf_test['Antigen'].unique()"
   ]
  },
  {
   "cell_type": "code",
   "execution_count": null,
   "metadata": {},
   "outputs": [],
   "source": [
    "mat = np.zeros((len(unique_test_peptides),len(unique_train_peptides)))\n",
    "\n",
    "for test_index,test_peptide in tqdm(enumerate(unique_test_peptides), desc=\"Calculating similarities\"):\n",
    "    similarities = []\n",
    "    for train_index,train_peptide in enumerate(unique_train_peptides):\n",
    "        similarity = calculate_similarity(test_peptide, train_peptide)\n",
    "        mat[test_index][train_index] = similarity\n",
    "        # print(similarity)"
   ]
  },
  {
   "cell_type": "code",
   "execution_count": null,
   "metadata": {},
   "outputs": [],
   "source": [
    "import numpy as np\n",
    "import matplotlib.pyplot as plt\n",
    "\n",
    "plt.imshow(mat)\n",
    "plt.colorbar()\n",
    "plt.show()"
   ]
  },
  {
   "cell_type": "code",
   "execution_count": null,
   "metadata": {},
   "outputs": [],
   "source": [
    "max_in_rows = np.max(mat, axis=1)"
   ]
  },
  {
   "cell_type": "code",
   "execution_count": null,
   "metadata": {},
   "outputs": [],
   "source": [
    "pepsim_dict = dict(zip(unique_test_peptides, max_in_rows))"
   ]
  },
  {
   "cell_type": "code",
   "execution_count": null,
   "metadata": {},
   "outputs": [],
   "source": [
    "tempdf_test['sim'] = tempdf_test['Antigen'].map(pepsim_dict)"
   ]
  },
  {
   "cell_type": "markdown",
   "metadata": {},
   "source": [
    "## Result 1: test predictions"
   ]
  },
  {
   "cell_type": "code",
   "execution_count": null,
   "metadata": {},
   "outputs": [],
   "source": [
    "# subset0\n",
    "print('Test Predict:', matthews_corrcoef(y_act,y_pred_c), roc_auc_score(y_act, y_pred),average_precision_score(y_act, y_pred),f1_score(y_act,y_pred_c))"
   ]
  },
  {
   "cell_type": "markdown",
   "metadata": {},
   "source": [
    "## Result 2: test peptides: Not in train"
   ]
  },
  {
   "cell_type": "code",
   "execution_count": null,
   "metadata": {},
   "outputs": [],
   "source": [
    "y_act_nit = y_act[~tempdf_test['Antigen'].isin(unique_train_peptides)]\n",
    "y_pred_nit= y_pred[~tempdf_test['Antigen'].isin(unique_train_peptides)]\n",
    "y_pred_c_nit=y_pred_c[~tempdf_test['Antigen'].isin(unique_train_peptides)]\n",
    "\n",
    "print('Test Predict not in Train:', matthews_corrcoef(y_act_nit,y_pred_c_nit), roc_auc_score(y_act_nit, y_pred_nit),average_precision_score(y_act_nit, y_pred_nit),f1_score(y_act_nit,y_pred_c_nit))"
   ]
  },
  {
   "cell_type": "markdown",
   "metadata": {},
   "source": [
    "## Result 3: test peptides: not in train and max 90% similarity cutoff"
   ]
  },
  {
   "cell_type": "code",
   "execution_count": null,
   "metadata": {},
   "outputs": [],
   "source": [
    "y_act_09 = y_act[tempdf_test['sim'] <= 0.9]\n",
    "y_pred_09= y_pred[tempdf_test['sim'] <= 0.9]\n",
    "y_pred_c_09=y_pred_c[tempdf_test['sim'] <= 0.9]\n",
    "\n",
    "print('0.9 Similarity', matthews_corrcoef(y_act_09,y_pred_c_09), roc_auc_score(y_act_09, y_pred_09),average_precision_score(y_act_09, y_pred_09),f1_score(y_act_09,y_pred_c_09))"
   ]
  },
  {
   "cell_type": "markdown",
   "metadata": {},
   "source": [
    "## Result 4: test peptides: not in train and max 80% similarity cutoff"
   ]
  },
  {
   "cell_type": "code",
   "execution_count": null,
   "metadata": {},
   "outputs": [],
   "source": [
    "y_act_08 = y_act[tempdf_test['sim'] <= 0.8]\n",
    "y_pred_08= y_pred[tempdf_test['sim'] <= 0.8]\n",
    "y_pred_c_08=y_pred_c[tempdf_test['sim'] <= 0.8]\n",
    "\n",
    "print('0.8 Similarity:', matthews_corrcoef(y_act_08,y_pred_c_08), roc_auc_score(y_act_08, y_pred_08),average_precision_score(y_act_08, y_pred_08),f1_score(y_act_08,y_pred_c_08))"
   ]
  }
 ],
 "metadata": {
  "accelerator": "GPU",
  "colab": {
   "authorship_tag": "ABX9TyOmdHxNWuQWBgwmTwc+iGhE",
   "mount_file_id": "1sz7NlXzLpZblG4ZPt0GA8KR2tfCQAtqx",
   "provenance": []
  },
  "gpuClass": "standard",
  "kernelspec": {
   "display_name": "Python 3 (ipykernel)",
   "language": "python",
   "name": "python3"
  },
  "language_info": {
   "codemirror_mode": {
    "name": "ipython",
    "version": 3
   },
   "file_extension": ".py",
   "mimetype": "text/x-python",
   "name": "python",
   "nbconvert_exporter": "python",
   "pygments_lexer": "ipython3",
   "version": "3.9.12"
  }
 },
 "nbformat": 4,
 "nbformat_minor": 4
}
