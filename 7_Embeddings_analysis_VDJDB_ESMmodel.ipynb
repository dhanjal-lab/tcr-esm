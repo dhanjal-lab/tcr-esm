{
 "cells": [
  {
   "cell_type": "markdown",
   "metadata": {},
   "source": [
    "## This notebook assumes that you have extracted the embeddings (using the procedure mentioned in the 0_ESM_Embeddings_Extractor.ipynb notebook) and have stored them in a zipped forma"
   ]
  },
  {
   "cell_type": "markdown",
   "metadata": {},
   "source": [
    "## Since we have used google colab; we copy the embeddings from google drive before training the model; similar procedure can be used to run it locally;"
   ]
  },
  {
   "cell_type": "markdown",
   "metadata": {},
   "source": [
    "## A example is shown below for CDR3alpha, CDR3beta and peptide:"
   ]
  },
  {
   "cell_type": "code",
   "execution_count": 2,
   "metadata": {
    "executionInfo": {
     "elapsed": 16920,
     "status": "ok",
     "timestamp": 1672481006219,
     "user": {
      "displayName": "Shashank Yadav",
      "userId": "00457113104975153711"
     },
     "user_tz": 420
    },
    "id": "MsZDeUzv89Zm"
   },
   "outputs": [],
   "source": [
    "#####################################################1_origMCPAS_NoMHC/train_AB\n",
    "!cp -r /content/drive/MyDrive/TCR-pMHC-results/vdjdb/1_origVDJDB_NoMHC/train_AB/*.csv '/content/'\n",
    "!cp -r /content/drive/MyDrive/TCR-pMHC-results/vdjdb/1_origVDJDB_NoMHC/train_AB/*.zip '/content'"
   ]
  },
  {
   "cell_type": "markdown",
   "metadata": {},
   "source": [
    "## A example is shown below for CDR3alpha, CDR3beta, peptide and MHC:"
   ]
  },
  {
   "cell_type": "markdown",
   "metadata": {},
   "source": [
    "## Unzip the embeddings to folder for developing the train and test set"
   ]
  },
  {
   "cell_type": "code",
   "execution_count": 3,
   "metadata": {
    "executionInfo": {
     "elapsed": 13191,
     "status": "ok",
     "timestamp": 1672481019396,
     "user": {
      "displayName": "Shashank Yadav",
      "userId": "00457113104975153711"
     },
     "user_tz": 420
    },
    "id": "oDtdWlYKxhVM"
   },
   "outputs": [],
   "source": [
    "########################################################################## AB and A\n",
    "#### unzip train\n",
    "!unzip -q <path_to_train_cdr3a.zip>     -d  train_cdr3a\n",
    "!unzip -q <path_to_train_cdr3b.zip>     -d  train_cdr3b\n",
    "!unzip -q <path_to_train_peptide.zip>   -d  train_peptide\n",
    "\n",
    "#### unzip test\n",
    "!unzip -q <path_to_test_cdr3a.zip>     -d  test_cdr3a\n",
    "!unzip -q <path_to_test_cdr3b.zip>     -d  test_cdr3b\n",
    "!unzip -q <path_to_test_peptide.zip>   -d  test_peptide\n"
   ]
  },
  {
   "cell_type": "code",
   "execution_count": 4,
   "metadata": {
    "executionInfo": {
     "elapsed": 4074,
     "status": "ok",
     "timestamp": 1672481023452,
     "user": {
      "displayName": "Shashank Yadav",
      "userId": "00457113104975153711"
     },
     "user_tz": 420
    },
    "id": "lZxAwAWTnHu1"
   },
   "outputs": [],
   "source": [
    "import sys\n",
    "import numpy as np\n",
    "import pandas as pd\n",
    "import os\n",
    "from tqdm import tqdm\n",
    "from natsort import natsorted\n",
    "import matplotlib.pyplot as plt\n",
    "plt.style.use('seaborn')\n",
    "%matplotlib inline\n",
    "from tensorflow.keras.models import Sequential, Model\n",
    "from tensorflow.keras.layers import Layer,Input, Dense, Dropout, Activation, Concatenate, Flatten, BatchNormalization\n",
    "from tensorflow.keras.regularizers import l2,l1\n",
    "from tensorflow.keras.optimizers import SGD,Adam,RMSprop\n",
    "import tensorflow.keras.backend as K\n",
    "from tensorflow.keras.preprocessing.image import array_to_img, img_to_array, load_img\n",
    "from tensorflow.keras.callbacks import EarlyStopping, ModelCheckpoint,ReduceLROnPlateau\n",
    "from tensorflow.keras.models import load_model\n",
    "import tensorflow.keras.metrics\n",
    "####import tensorflow_addons as tfa not required\n",
    "from sklearn.preprocessing import LabelEncoder\n",
    "import tensorflow as tf\n",
    "tf.random.set_seed(1)\n",
    "from sklearn.model_selection import train_test_split\n",
    "from sklearn.preprocessing import MinMaxScaler\n",
    "from tensorflow.keras.utils import to_categorical, plot_model\n",
    "import sklearn\n",
    "import os\n",
    "from natsort import natsorted\n",
    "from sklearn.metrics import *\n",
    "import torch\n",
    "from tqdm import tqdm\n",
    "from collections import Counter"
   ]
  },
  {
   "cell_type": "markdown",
   "metadata": {},
   "source": [
    "## For MCPAS subset-1 which doesn't have MHC information\n",
    "### Model CDR3a + CDR3b + peptide\n",
    "### Model CDR3a + peptide\n",
    "### Model CDR3b + peptide"
   ]
  },
  {
   "cell_type": "code",
   "execution_count": 7,
   "metadata": {
    "executionInfo": {
     "elapsed": 10,
     "status": "ok",
     "timestamp": 1672481023454,
     "user": {
      "displayName": "Shashank Yadav",
      "userId": "00457113104975153711"
     },
     "user_tz": 420
    },
    "id": "_GVGvx6AiBtc"
   },
   "outputs": [],
   "source": [
    "# ### train files\n",
    "# ################################################################################ AB and A and B\n",
    "path_train_cdr3a = '/content/train_cdr3a/content/train_cdr3a/'\n",
    "path_train_cdr3b = '/content/train_cdr3b/content/train_cdr3b/'\n",
    "path_train_pepti = '/content/train_peptide/content/train_pep/'\n",
    "\n",
    "### test files\n",
    "path_test_cdr3a = '/content/test_cdr3a/content/test_cdr3a/'\n",
    "path_test_cdr3b = '/content/test_cdr3b/content/test_cdr3b/'\n",
    "path_test_pepti = '/content/test_peptide/content/test_pep/'\n",
    "\n",
    "\n",
    "\n",
    "trainmat_cdr3a = os.listdir(path_train_cdr3a) \n",
    "trainmat_cdr3b = os.listdir(path_train_cdr3b) \n",
    "trainmat_pepti = os.listdir(path_train_pepti)\n",
    "\n",
    "\n",
    "testmat_cdr3a = os.listdir(path_test_cdr3a) \n",
    "testmat_cdr3b = os.listdir(path_test_cdr3b) \n",
    "testmat_pepti = os.listdir(path_test_pepti)\n"
   ]
  },
  {
   "cell_type": "markdown",
   "metadata": {},
   "source": [
    "## natsort is used to order the pairs as they appear in the .csv; this would be helpful later to map the pairs with their respective labels"
   ]
  },
  {
   "cell_type": "code",
   "execution_count": 8,
   "metadata": {
    "executionInfo": {
     "elapsed": 810,
     "status": "ok",
     "timestamp": 1672481024255,
     "user": {
      "displayName": "Shashank Yadav",
      "userId": "00457113104975153711"
     },
     "user_tz": 420
    },
    "id": "3jeOYjgmiSIq"
   },
   "outputs": [],
   "source": [
    "# ###train ################################################ AB A B\n",
    "###train\n",
    "train_nmat_cdr3a = natsorted(trainmat_cdr3a)\n",
    "train_nmat_cdr3b = natsorted(trainmat_cdr3b)\n",
    "train_nmat_pepti = natsorted(trainmat_pepti)\n",
    "\n",
    "###test\n",
    "test_nmat_cdr3a = natsorted(testmat_cdr3a)\n",
    "test_nmat_cdr3b = natsorted(testmat_cdr3b)\n",
    "test_nmat_pepti = natsorted(testmat_pepti)"
   ]
  },
  {
   "cell_type": "markdown",
   "metadata": {},
   "source": [
    "## the following step extracts the embeddings and stores in a numpy matrix"
   ]
  },
  {
   "cell_type": "code",
   "execution_count": 13,
   "metadata": {
    "colab": {
     "base_uri": "https://localhost:8080/"
    },
    "executionInfo": {
     "elapsed": 26686,
     "status": "ok",
     "timestamp": 1672481054238,
     "user": {
      "displayName": "Shashank Yadav",
      "userId": "00457113104975153711"
     },
     "user_tz": 420
    },
    "id": "sTi1NqVtjBDL",
    "outputId": "0513bbdf-8524-4a60-b51d-abaf871185b2"
   },
   "outputs": [
    {
     "name": "stderr",
     "output_type": "stream",
     "text": [
      "100%|██████████| 23363/23363 [00:21<00:00, 1093.14it/s]\n",
      "100%|██████████| 5611/5611 [00:04<00:00, 1125.60it/s]\n"
     ]
    }
   ],
   "source": [
    "train_matmat_cdr3a = np.zeros((train_samples,1280))\n",
    "train_matmat_cdr3b = np.zeros((train_samples,1280))\n",
    "train_matmat_pepti = np.zeros((train_samples,1280))\n",
    "\n",
    "\n",
    "test_matmat_cdr3a = np.zeros((test_samples,1280))\n",
    "test_matmat_cdr3b = np.zeros((test_samples,1280))\n",
    "test_matmat_pepti = np.zeros((test_samples,1280))\n",
    "\n",
    "### load train samples \n",
    "\n",
    "for i in tqdm(range(train_samples)):\n",
    "\n",
    "    train_matmat_cdr3a[i] = torch.load(path_train_cdr3a+train_nmat_cdr3a[i])['mean_representations'][33]\n",
    "\n",
    "    train_matmat_cdr3b[i] = torch.load(path_train_cdr3b+train_nmat_cdr3b[i])['mean_representations'][33]\n",
    "\n",
    "    train_matmat_pepti[i] = torch.load(path_train_pepti+train_nmat_pepti[i])['mean_representations'][33]\n",
    "\n",
    "\n",
    "for j in tqdm(range(test_samples)):\n",
    "\n",
    "    test_matmat_cdr3a[j]  = torch.load(path_test_cdr3a+test_nmat_cdr3a[j])['mean_representations'][33]\n",
    "\n",
    "    test_matmat_cdr3b[j]  = torch.load(path_test_cdr3b+test_nmat_cdr3b[j])['mean_representations'][33]\n",
    "\n",
    "    test_matmat_pepti[j]  = torch.load(path_test_pepti+test_nmat_pepti[j])['mean_representations'][33]"
   ]
  },
  {
   "cell_type": "markdown",
   "metadata": {},
   "source": [
    "## load *.csv files for labels"
   ]
  },
  {
   "cell_type": "code",
   "execution_count": 15,
   "metadata": {
    "executionInfo": {
     "elapsed": 4,
     "status": "ok",
     "timestamp": 1672481054514,
     "user": {
      "displayName": "Shashank Yadav",
      "userId": "00457113104975153711"
     },
     "user_tz": 420
    },
    "id": "JKaFIojUmZjB"
   },
   "outputs": [],
   "source": [
    "df_train = pd.read_csv(<path_to_train_csv>)\n",
    "df_test  = pd.read_csv(<path_to_test_csv>)\n",
    "\n",
    "############ load labels\n",
    "\n",
    "y_train = df_train['sign'].values.reshape(-1,1)\n",
    "y_test  = df_test['sign'].values.reshape(-1,1)"
   ]
  },
  {
   "cell_type": "code",
   "execution_count": 17,
   "metadata": {
    "executionInfo": {
     "elapsed": 294,
     "status": "ok",
     "timestamp": 1672481246570,
     "user": {
      "displayName": "Shashank Yadav",
      "userId": "00457113104975153711"
     },
     "user_tz": 420
    },
    "id": "f-_eOBv7z7_O"
   },
   "outputs": [],
   "source": [
    "### model\n",
    "def clear_sess():\n",
    "  try:\n",
    "    del model \n",
    "    del history \n",
    "  except:\n",
    "    pass\n",
    "  from tensorflow.keras import backend as K\n",
    "  K.clear_session()\n",
    "  import gc\n",
    "  gc.collect()\n",
    "\n",
    "\n",
    "\n",
    "  return None\n",
    "\n",
    "def keras_mcc(y_true, y_pred):\n",
    "    tp = K.sum(K.round(K.clip(y_true * y_pred, 0, 1)))\n",
    "    tn = K.sum(K.round(K.clip((1 - y_true) * (1 - y_pred), 0, 1)))\n",
    "    fp = K.sum(K.round(K.clip((1 - y_true) * y_pred, 0, 1)))\n",
    "    fn = K.sum(K.round(K.clip(y_true * (1 - y_pred), 0, 1)))\n",
    "\n",
    "    num = tp * tn - fp * fn\n",
    "    den = (tp + fp) * (tp + fn) * (tn + fp) * (tn + fn)\n",
    "    return num / K.sqrt(den + K.epsilon())"
   ]
  },
  {
   "cell_type": "markdown",
   "metadata": {
    "id": "7MuYienLZd2l"
   },
   "source": [
    "### model for CDR3A, CDR3B and peptide  AB"
   ]
  },
  {
   "cell_type": "code",
   "execution_count": null,
   "metadata": {
    "id": "7MuYienLZd2l"
   },
   "outputs": [],
   "source": [
    "clear_sess()\n",
    "\n",
    "\n",
    "acti  = 'gelu'\n",
    "\n",
    "#input_1\n",
    "input_1 = Input(shape = (1280,), name='i_1')\n",
    "dense1_1 = Dense(128, activation = acti)(input_1)\n",
    "bn1_1 = BatchNormalization()(dense1_1)\n",
    "drop_1 = Dropout(0.5)(bn1_1)\n",
    "\n",
    "#input_2\n",
    "input_2 = Input(shape = (1280,), name='i_2')\n",
    "dense2_1 = Dense(128, activation = acti)(input_2)\n",
    "bn2_1 = BatchNormalization()(dense2_1)\n",
    "drop_2 = Dropout(0.5)(bn2_1)\n",
    "\n",
    "#input_3\n",
    "input_3 = Input(shape = (1280,), name='i_3')\n",
    "dense3_1 = Dense(128, activation = acti)(input_3)\n",
    "bn3_1 = BatchNormalization()(dense3_1)\n",
    "drop_3 = Dropout(0.5)(bn3_1)\n",
    "\n",
    "# concatenate\n",
    "concat   = Concatenate()([drop_1,drop_2,drop_3])\n",
    "fc_1   = Dense(512, activation = acti)(concat)\n",
    "drop_4 = Dropout(0.5)(fc_1)\n",
    "fc_2   = Dense(256, activation = acti)(drop_4)\n",
    "#classification output- TCR-Peptide Binding yes/no\n",
    "output  = Dense(1, activation = 'sigmoid')(fc_2)\n",
    " \n",
    "# create model with two inputs\n",
    "model = Model(inputs=[input_1,input_2, input_3], outputs=output)"
   ]
  },
  {
   "cell_type": "markdown",
   "metadata": {},
   "source": [
    "## CDR3A peptide and CDR3B peptide"
   ]
  },
  {
   "cell_type": "code",
   "execution_count": null,
   "metadata": {},
   "outputs": [],
   "source": [
    "clear_sess()\n",
    "\n",
    "acti  = 'swish'\n",
    "\n",
    "#input_1\n",
    "input_1 = Input(shape = (1280,), name='i_1')\n",
    "dense1_1 = Dense(128, activation = acti)(input_1)\n",
    "bn1_1 = BatchNormalization()(dense1_1)\n",
    "drop_1 = Dropout(0.5)(bn1_1)\n",
    "\n",
    "#input_2\n",
    "input_2 = Input(shape = (1280,), name='i_2')\n",
    "dense2_1 = Dense(128, activation = acti)(input_2)\n",
    "bn2_1 = BatchNormalization()(dense2_1)\n",
    "drop_2 = Dropout(0.5)(bn2_1)\n",
    "\n",
    "\n",
    "# concatenate\n",
    "concat   = Concatenate()([drop_1,drop_2])\n",
    "fc_1   = Dense(512, activation = acti)(concat)\n",
    "drop_4 = Dropout(0.5)(fc_1)\n",
    "fc_2   = Dense(256, activation = acti)(drop_4)\n",
    "#classification output- TCR-Peptide Binding yes/no\n",
    "output  = Dense(1, activation = 'sigmoid')(fc_2)\n",
    " \n",
    "# create model with two inputs\n",
    "model = Model(inputs=[input_1,input_2], outputs=output)"
   ]
  },
  {
   "cell_type": "code",
   "execution_count": null,
   "metadata": {
    "id": "_FIGHz4yz8EJ"
   },
   "outputs": [],
   "source": [
    "metrics_c = [tensorflow.keras.metrics.AUC(name=\"auc_roc\",curve=\"ROC\"),tensorflow.keras.metrics.AUC(name=\"auc_pr\",curve=\"PR\"),keras_mcc]\n",
    "model.compile(loss='binary_crossentropy', optimizer=tensorflow.keras.optimizers.Adam(learning_rate=0.009),   metrics=metrics_c)\n",
    "reduce_lr = ReduceLROnPlateau(monitor='val_keras_mcc', factor=0.95,patience=50, min_lr=0.004, verbose=0)"
   ]
  },
  {
   "cell_type": "code",
   "execution_count": null,
   "metadata": {
    "id": "n-SNajjdz8I_"
   },
   "outputs": [],
   "source": [
    "checkpoint_filepath_1 = 'weights-improvement-val-auc-pr.hdf5'\n",
    "model_checkpoint_callback_1 = ModelCheckpoint(filepath=checkpoint_filepath_1,save_weights_only=False,monitor='val_auc_pr',mode='max',save_best_only=True)\n",
    "\n",
    "checkpoint_filepath_2 = 'weights-improvement-val-keras-mcc.hdf5'\n",
    "model_checkpoint_callback_2 = ModelCheckpoint(filepath=checkpoint_filepath_2,save_weights_only=False,monitor='val_keras_mcc',mode='max',save_best_only=True)"
   ]
  },
  {
   "cell_type": "code",
   "execution_count": null,
   "metadata": {
    "colab": {
     "base_uri": "https://localhost:8080/"
    },
    "executionInfo": {
     "elapsed": 159,
     "status": "ok",
     "timestamp": 1672311455469,
     "user": {
      "displayName": "Shashank Yadav",
      "userId": "00457113104975153711"
     },
     "user_tz": 420
    },
    "id": "VopJntwKz8Lg",
    "outputId": "6a437206-174a-4dee-ab5e-f660dbeddd09"
   },
   "outputs": [
    {
     "name": "stdout",
     "output_type": "stream",
     "text": [
      "Training (23363, 1280) (23363, 1280) (23363, 1280) (23363, 1)\n",
      "Testing  (5611, 1280) (5611, 1280) (5611, 1280) (5611, 1)\n"
     ]
    }
   ],
   "source": [
    "### recheck data dims\n",
    "print('Training', train_matmat_cdr3a.shape, train_matmat_cdr3b.shape, train_matmat_pepti.shape, y_train.shape)\n",
    "print('Testing ', test_matmat_cdr3a.shape,  test_matmat_cdr3b.shape,  test_matmat_pepti.shape,  y_test.shape)"
   ]
  },
  {
   "cell_type": "markdown",
   "metadata": {
    "id": "LkgKkrjrz8N4"
   },
   "source": [
    "### fit the keras model for CDR3A, CDR3B and peptide"
   ]
  },
  {
   "cell_type": "code",
   "execution_count": null,
   "metadata": {
    "id": "LkgKkrjrz8N4"
   },
   "outputs": [],
   "source": [
    "history=model.fit([train_matmat_cdr3a, train_matmat_cdr3b,train_matmat_pepti],y_train,\n",
    "                  batch_size=1024, epochs=500,\n",
    "                  validation_split=0.1,\n",
    "                  callbacks=[model_checkpoint_callback_1, model_checkpoint_callback_2,reduce_lr])"
   ]
  },
  {
   "cell_type": "markdown",
   "metadata": {},
   "source": [
    "### fit the keras model for CDR3B and peptide"
   ]
  },
  {
   "cell_type": "code",
   "execution_count": null,
   "metadata": {},
   "outputs": [],
   "source": [
    "history=model.fit([train_matmat_cdr3b,train_matmat_pepti],y_train,\n",
    "                  batch_size=1024, epochs=1000,\n",
    "                  validation_split=0.1,\n",
    "                  callbacks=[model_checkpoint_callback_1, model_checkpoint_callback_2,reduce_lr])"
   ]
  },
  {
   "cell_type": "markdown",
   "metadata": {},
   "source": [
    "### fit the keras model for CDR3A and peptide"
   ]
  },
  {
   "cell_type": "code",
   "execution_count": null,
   "metadata": {},
   "outputs": [],
   "source": [
    "history=model.fit([train_matmat_cdr3a, train_matmat_pepti],y_train,\n",
    "                  batch_size=1024, epochs=500,\n",
    "                  validation_split=0.1,\n",
    "                  callbacks=[model_checkpoint_callback_1, model_checkpoint_callback_2,reduce_lr])"
   ]
  },
  {
   "cell_type": "markdown",
   "metadata": {},
   "source": [
    "## once the best model is trained, we can test it over the evaluation datase"
   ]
  },
  {
   "cell_type": "code",
   "execution_count": 18,
   "metadata": {
    "colab": {
     "base_uri": "https://localhost:8080/"
    },
    "executionInfo": {
     "elapsed": 1743,
     "status": "ok",
     "timestamp": 1672481444186,
     "user": {
      "displayName": "Shashank Yadav",
      "userId": "00457113104975153711"
     },
     "user_tz": 420
    },
    "id": "pS-IZ5goaT3q",
    "outputId": "c636a874-dcda-4dbc-e407-548934eca926"
   },
   "outputs": [
    {
     "name": "stdout",
     "output_type": "stream",
     "text": [
      "176/176 [==============================] - 1s 3ms/step\n",
      "0.6731087070007619\n"
     ]
    }
   ],
   "source": [
    "\n",
    "\n",
    "model_loaded = '/content/weights-improvement-val-keras-mcc.hdf5'\n",
    "model = tensorflow.keras.models.load_model(model_loaded,compile=False, custom_objects={'metrics_c': keras_mcc})\n",
    "\n",
    "# model_loaded = '/content/weights-improvement-val-auc-pr.hdf5'\n",
    "# model = tensorflow.keras.models.load_model(model_loaded,compile=False, custom_objects={'metrics_c': keras_mcc})\n",
    "\n",
    "y_pred = model.predict([test_matmat_cdr3a, test_matmat_cdr3b, test_matmat_pepti])\n",
    "# y_pred = model.predict([test_matmat_cdr3b, test_matmat_pepti])\n",
    "#y_pred = model.predict([ test_matmat_cdr3a, test_matmat_pepti])\n",
    "\n",
    "\n",
    "y_act = y_test.flatten()\n",
    "y_pred= y_pred.flatten()\n",
    "y_pred_c=np.where(y_pred>0.5,1,0)\n",
    "\n",
    "\n",
    "print(roc_auc_score(y_act, y_pred),average_precision_score(y_act, y_pred), matthews_corrcoef(y_act,y_pred_c),f1_score(y_act,y_pred_c))"
   ]
  },
  {
   "cell_type": "markdown",
   "metadata": {},
   "source": [
    "## Embedding analysis"
   ]
  },
  {
   "cell_type": "code",
   "execution_count": null,
   "metadata": {
    "colab": {
     "base_uri": "https://localhost:8080/",
     "height": 856
    },
    "executionInfo": {
     "elapsed": 664,
     "status": "ok",
     "timestamp": 1672311827011,
     "user": {
      "displayName": "Shashank Yadav",
      "userId": "00457113104975153711"
     },
     "user_tz": 420
    },
    "id": "FvORGQht9d_0",
    "outputId": "f5d87651-f299-428d-d749-aca63fcd0c35"
   },
   "outputs": [
    {
     "data": {
      "image/png": "[encoded data removed]",
      "text/plain": [
       "<IPython.core.display.Image object>"
      ]
     },
     "execution_count": 402,
     "metadata": {},
     "output_type": "execute_result"
    }
   ],
   "source": [
    "plot_model(model)"
   ]
  },
  {
   "cell_type": "markdown",
   "metadata": {},
   "source": [
    "## Extract Embeddings"
   ]
  },
  {
   "cell_type": "code",
   "execution_count": 19,
   "metadata": {
    "colab": {
     "base_uri": "https://localhost:8080/"
    },
    "executionInfo": {
     "elapsed": 1051,
     "status": "ok",
     "timestamp": 1672481606324,
     "user": {
      "displayName": "Shashank Yadav",
      "userId": "00457113104975153711"
     },
     "user_tz": 420
    },
    "id": "uT0GYDQX2qWs",
    "outputId": "7b36dda2-08f9-4893-df25-401bdef0ab9f"
   },
   "outputs": [
    {
     "data": {
      "text/plain": [
       "[<KerasTensor: shape=(None, 1280) dtype=float32 (created by layer 'i_1')>,\n",
       " <KerasTensor: shape=(None, 1280) dtype=float32 (created by layer 'i_2')>,\n",
       " <KerasTensor: shape=(None, 1280) dtype=float32 (created by layer 'i_3')>,\n",
       " <KerasTensor: shape=(None, 128) dtype=float32 (created by layer 'dense')>,\n",
       " <KerasTensor: shape=(None, 128) dtype=float32 (created by layer 'dense_1')>,\n",
       " <KerasTensor: shape=(None, 128) dtype=float32 (created by layer 'dense_2')>,\n",
       " <KerasTensor: shape=(None, 128) dtype=float32 (created by layer 'batch_normalization')>,\n",
       " <KerasTensor: shape=(None, 128) dtype=float32 (created by layer 'batch_normalization_1')>,\n",
       " <KerasTensor: shape=(None, 128) dtype=float32 (created by layer 'batch_normalization_2')>,\n",
       " <KerasTensor: shape=(None, 128) dtype=float32 (created by layer 'dropout')>,\n",
       " <KerasTensor: shape=(None, 128) dtype=float32 (created by layer 'dropout_1')>,\n",
       " <KerasTensor: shape=(None, 128) dtype=float32 (created by layer 'dropout_2')>,\n",
       " <KerasTensor: shape=(None, 384) dtype=float32 (created by layer 'concatenate')>,\n",
       " <KerasTensor: shape=(None, 512) dtype=float32 (created by layer 'dense_3')>,\n",
       " <KerasTensor: shape=(None, 512) dtype=float32 (created by layer 'dropout_3')>,\n",
       " <KerasTensor: shape=(None, 256) dtype=float32 (created by layer 'dense_4')>,\n",
       " <KerasTensor: shape=(None, 1) dtype=float32 (created by layer 'dense_5')>]"
      ]
     },
     "execution_count": 19,
     "metadata": {},
     "output_type": "execute_result"
    }
   ],
   "source": [
    "[layer.output for layer in model.layers]"
   ]
  },
  {
   "cell_type": "code",
   "execution_count": 51,
   "metadata": {
    "executionInfo": {
     "elapsed": 308,
     "status": "ok",
     "timestamp": 1672482238282,
     "user": {
      "displayName": "Shashank Yadav",
      "userId": "00457113104975153711"
     },
     "user_tz": 420
    },
    "id": "LCfoOd9yz8P_"
   },
   "outputs": [],
   "source": [
    "# ### intermediate layer model on test for alpha - beta - pep model\n",
    "# layer_name_1 = 'i_1' ### alpha input\n",
    "# intermediate_layer_model_1 = tensorflow.keras.Model(inputs=model.input, outputs=model.get_layer(layer_name_1).output)\n",
    "# intermediate_output_1 = intermediate_layer_model_1([test_matmat_cdr3a, test_matmat_cdr3b,test_matmat_pepti])\n",
    "# intermediate_output_1 = intermediate_output_1.numpy()\n",
    "\n",
    "# layer_name_1 = 'i_2' #beta input\n",
    "# intermediate_layer_model_1 = tensorflow.keras.Model(inputs=model.input, outputs=model.get_layer(layer_name_1).output)\n",
    "# intermediate_output_1 = intermediate_layer_model_1([test_matmat_cdr3a, test_matmat_cdr3b,test_matmat_pepti])\n",
    "# intermediate_output_1 = intermediate_output_1.numpy()\n",
    "\n",
    "# layer_name_1 = 'concatenate' ## intermediate layer\n",
    "# intermediate_layer_model_1 = tensorflow.keras.Model(inputs=model.input, outputs=model.get_layer(layer_name_1).output)\n",
    "# intermediate_output_1 = intermediate_layer_model_1([test_matmat_cdr3a, test_matmat_cdr3b,test_matmat_pepti])\n",
    "# intermediate_output_1 = intermediate_output_1.numpy()\n",
    "\n",
    "# layer_name_1 = 'dense_3' ## intermediate #2 layer\n",
    "# intermediate_layer_model_1 = tensorflow.keras.Model(inputs=model.input, outputs=model.get_layer(layer_name_1).output)\n",
    "# intermediate_output_1 = intermediate_layer_model_1([test_matmat_cdr3a, test_matmat_cdr3b,test_matmat_pepti])\n",
    "# intermediate_output_1 = intermediate_output_1.numpy()\n",
    "\n",
    "layer_name_1 = 'dense_3' ## intermediate #3 layer\n",
    "intermediate_layer_model_1 = tensorflow.keras.Model(inputs=model.input, outputs=model.get_layer(layer_name_1).output)\n",
    "intermediate_output_1 = intermediate_layer_model_1([test_matmat_cdr3a, test_matmat_cdr3b,test_matmat_pepti])\n",
    "intermediate_output_1 = intermediate_output_1.numpy()"
   ]
  },
  {
   "cell_type": "code",
   "execution_count": null,
   "metadata": {
    "id": "MaBX6vlyachw"
   },
   "outputs": [],
   "source": [
    "### intermediate layer model on test for alpha pep and beta - pep model\n",
    "# layer_name_1 = 'i_1' ### alpha input\n",
    "# intermediate_layer_model_1 = tensorflow.keras.Model(inputs=model.input, outputs=model.get_layer(layer_name_1).output)\n",
    "# # intermediate_output_1 = intermediate_layer_model_1([test_matmat_cdr3a,test_matmat_pepti])\n",
    "# intermediate_output_1 = intermediate_layer_model_1([test_matmat_cdr3b,test_matmat_pepti])\n",
    "# intermediate_output_1 = intermediate_output_1.numpy()\n",
    "\n",
    "# layer_name_1 = 'dense' ### \n",
    "# intermediate_layer_model_1 = tensorflow.keras.Model(inputs=model.input, outputs=model.get_layer(layer_name_1).output)\n",
    "# # intermediate_output_1 = intermediate_layer_model_1([test_matmat_cdr3a,test_matmat_pepti])\n",
    "# intermediate_output_1 = intermediate_layer_model_1([test_matmat_cdr3b,test_matmat_pepti])\n",
    "# intermediate_output_1 = intermediate_output_1.numpy()\n",
    "\n",
    "# layer_name_1 = 'concatenate' ### \n",
    "# intermediate_layer_model_1 = tensorflow.keras.Model(inputs=model.input, outputs=model.get_layer(layer_name_1).output)\n",
    "# # intermediate_output_1 = intermediate_layer_model_1([test_matmat_cdr3a,test_matmat_pepti])\n",
    "# intermediate_output_1 = intermediate_layer_model_1([test_matmat_cdr3b,test_matmat_pepti])\n",
    "# intermediate_output_1 = intermediate_output_1.numpy()\n",
    "\n",
    "# layer_name_1 = 'dense_2' ### \n",
    "# intermediate_layer_model_1 = tensorflow.keras.Model(inputs=model.input, outputs=model.get_layer(layer_name_1).output)\n",
    "# intermediate_output_1 = intermediate_layer_model_1([test_matmat_cdr3a,test_matmat_pepti])\n",
    "# #intermediate_output_1 = intermediate_layer_model_1([test_matmat_cdr3b,test_matmat_pepti])\n",
    "# intermediate_output_1 = intermediate_output_1.numpy()"
   ]
  },
  {
   "cell_type": "code",
   "execution_count": 53,
   "metadata": {
    "colab": {
     "base_uri": "https://localhost:8080/"
    },
    "executionInfo": {
     "elapsed": 3,
     "status": "ok",
     "timestamp": 1672482242790,
     "user": {
      "displayName": "Shashank Yadav",
      "userId": "00457113104975153711"
     },
     "user_tz": 420
    },
    "id": "Y1V3Wuqnz8S3",
    "outputId": "2084a2d0-899a-44ac-dac3-ccb8c00fed22"
   },
   "outputs": [
    {
     "data": {
      "text/plain": [
       "(5611, 512)"
      ]
     },
     "execution_count": 53,
     "metadata": {},
     "output_type": "execute_result"
    }
   ],
   "source": [
    "intermediate_output_1.shape\n",
    "#, intermediate_output_2.shape"
   ]
  },
  {
   "cell_type": "code",
   "execution_count": 52,
   "metadata": {
    "executionInfo": {
     "elapsed": 293,
     "status": "ok",
     "timestamp": 1672482241556,
     "user": {
      "displayName": "Shashank Yadav",
      "userId": "00457113104975153711"
     },
     "user_tz": 420
    },
    "id": "fQK5HXpbfgPN"
   },
   "outputs": [],
   "source": [
    "pep_list=df_test['peptide'].values.tolist()"
   ]
  },
  {
   "cell_type": "code",
   "execution_count": 242,
   "metadata": {
    "colab": {
     "base_uri": "https://localhost:8080/"
    },
    "executionInfo": {
     "elapsed": 311,
     "status": "ok",
     "timestamp": 1672484636523,
     "user": {
      "displayName": "Shashank Yadav",
      "userId": "00457113104975153711"
     },
     "user_tz": 420
    },
    "id": "V2h3sPFkfj3F",
    "outputId": "fe2bb649-36c1-4e3e-f0e9-ebe11547ca95"
   },
   "outputs": [
    {
     "data": {
      "text/plain": [
       "[('LPRRSGAAGA', 718),\n",
       " ('GILGFVFTL', 628),\n",
       " ('GLCTLVAML', 348),\n",
       " ('SSYRRPVGI', 342),\n",
       " ('NLVPMVATV', 313),\n",
       " ('SSLENFRAYV', 246),\n",
       " ('ASNENMETM', 183),\n",
       " ('CRVLCCYVL', 167),\n",
       " ('LLWNGPMAV', 152),\n",
       " ('HGIRNASFI', 132),\n",
       " ('RFYKTLRAEQASQ', 120),\n",
       " ('WEDLFCDESLSSPEPPSSSE', 111),\n",
       " ('ELAGIGILTV', 106),\n",
       " ('FRCPRRFCF', 103),\n",
       " ('VTEHDTLLY', 102),\n",
       " ('SSPPMFRV', 84),\n",
       " ('EAAGIGILTV', 83),\n",
       " ('LSLRNPILV', 83),\n",
       " ('TPRVTGGGAM', 83),\n",
       " ('SFHSLHLLF', 78),\n",
       " ('VEALYLVCG', 76),\n",
       " ('RPHERNGFTVL', 71),\n",
       " ('RAKFKQLL', 57),\n",
       " ('TVYGFCLL', 55),\n",
       " ('KAFSPEVIPMF', 46),\n",
       " ('FPRPWLHGL', 38),\n",
       " ('NLNCCSVPV', 33),\n",
       " ('PQPELPYPQPE', 30),\n",
       " ('KRWIILGLNK', 30),\n",
       " ('YVLDHLIVV', 27)]"
      ]
     },
     "execution_count": 242,
     "metadata": {},
     "output_type": "execute_result"
    }
   ],
   "source": [
    "Counter(pep_list).most_common(30)"
   ]
  },
  {
   "cell_type": "code",
   "execution_count": 253,
   "metadata": {
    "executionInfo": {
     "elapsed": 418,
     "status": "ok",
     "timestamp": 1672484680868,
     "user": {
      "displayName": "Shashank Yadav",
      "userId": "00457113104975153711"
     },
     "user_tz": 420
    },
    "id": "FL_HX0CCflG9"
   },
   "outputs": [],
   "source": [
    "# c_pep ='GILGFVFTL' \n",
    "# c_pep = 'SSYRRPVGI'\n",
    "# c_pep = 'NLVPMVATV' \n",
    "# c_pep = 'SSLENFRAYV' \n",
    "# c_pep = 'ASNENMETM' \n",
    "# c_pep = 'LLWNGPMAV' \n",
    "# c_pep = 'HGIRNASFI' \n",
    "# c_pep = 'SSPPMFRV'"
   ]
  },
  {
   "cell_type": "code",
   "execution_count": 254,
   "metadata": {
    "executionInfo": {
     "elapsed": 2,
     "status": "ok",
     "timestamp": 1672484682691,
     "user": {
      "displayName": "Shashank Yadav",
      "userId": "00457113104975153711"
     },
     "user_tz": 420
    },
    "id": "Tt4DaUHKR7XP"
   },
   "outputs": [],
   "source": [
    "intermediate_output_fil =  intermediate_output_1[df_test['peptide']==c_pep]\n",
    "\n",
    "df_test_pepfil = df_test[df_test['peptide']==c_pep]"
   ]
  },
  {
   "cell_type": "markdown",
   "metadata": {},
   "source": [
    "## TSNE to map to 2D"
   ]
  },
  {
   "cell_type": "code",
   "execution_count": 256,
   "metadata": {
    "colab": {
     "base_uri": "https://localhost:8080/"
    },
    "executionInfo": {
     "elapsed": 1537,
     "status": "ok",
     "timestamp": 1672484687318,
     "user": {
      "displayName": "Shashank Yadav",
      "userId": "00457113104975153711"
     },
     "user_tz": 420
    },
    "id": "FWcy7EUEPxSw",
    "outputId": "b990729d-4068-43f9-bf49-4331f7303468"
   },
   "outputs": [
    {
     "name": "stderr",
     "output_type": "stream",
     "text": [
      "/usr/local/lib/python3.8/dist-packages/sklearn/manifold/_t_sne.py:780: FutureWarning: The default initialization in TSNE will change from 'random' to 'pca' in 1.2.\n",
      "  warnings.warn(\n",
      "/usr/local/lib/python3.8/dist-packages/sklearn/manifold/_t_sne.py:790: FutureWarning: The default learning rate in TSNE will change from 200.0 to 'auto' in 1.2.\n",
      "  warnings.warn(\n"
     ]
    }
   ],
   "source": [
    "reducer = TSNE(n_components=2, verbose=0, perplexity=10, n_iter=5000, metric='euclidean')\n",
    "results_tsne = reducer.fit_transform(intermediate_output_fil)"
   ]
  },
  {
   "cell_type": "code",
   "execution_count": 257,
   "metadata": {
    "executionInfo": {
     "elapsed": 1,
     "status": "ok",
     "timestamp": 1672484688642,
     "user": {
      "displayName": "Shashank Yadav",
      "userId": "00457113104975153711"
     },
     "user_tz": 420
    },
    "id": "xy1NmjIpPxb2"
   },
   "outputs": [],
   "source": [
    "plt.rcParams.update(plt.rcParamsDefault)\n",
    "sns.set(font_scale=2)\n",
    "sns.set_style('ticks')\n",
    "df_subset = pd.DataFrame()\n",
    "\n",
    "df_subset['tsne-1'] = results_tsne[:,0]\n",
    "df_subset['tsne-2'] = results_tsne[:,1]\n",
    "df_subset['Binding']           = df_test_pepfil['sign'].values.flatten()\n",
    "\n",
    "rep_dict = {0:'Negative', 1:'Positive'}\n",
    "df_subset.replace({\"Binding\": rep_dict },inplace=True)\n",
    "\n"
   ]
  },
  {
   "cell_type": "code",
   "execution_count": 261,
   "metadata": {
    "executionInfo": {
     "elapsed": 3467,
     "status": "ok",
     "timestamp": 1672484746456,
     "user": {
      "displayName": "Shashank Yadav",
      "userId": "00457113104975153711"
     },
     "user_tz": 420
    },
    "id": "L974RhrjXw29"
   },
   "outputs": [],
   "source": [
    "plt.figure(figsize=(8,8))\n",
    "ax = sns.scatterplot(\n",
    "    x=\"tsne-1\", y=\"tsne-2\",\n",
    "    hue=\"Binding\",\n",
    "    palette=sns.color_palette(\"tab10\", 2)[::-1],\n",
    "    # palette=sns.color_palette(\"tab10\", 2),\n",
    "    data = df_subset,\n",
    "    legend=\"full\",\n",
    "    alpha=0.9,\n",
    "    s=50\n",
    ")\n",
    "\n",
    "# handles_ax, labels_ax = ax.get_legend_handles_labels()\n",
    "# plt.legend(reversed(handles_ax), reversed(labels_ax), title='TCR Binding', loc='lower right',)\n",
    "plt.legend(title='TCR Binding')\n",
    "# plt.xlim(-500,500)\n",
    "# plt.ylim(-500,500)\n",
    "plt.title(c_pep)\n",
    "sns.despine(offset=5, trim=True)\n",
    "plt.grid()\n",
    "# plt.show()\n",
    "plt.savefig('TCRESM_MCPAS_'+c_pep, bbox_inches='tight', dpi=600)"
   ]
  },
  {
   "cell_type": "code",
   "execution_count": 104,
   "metadata": {
    "executionInfo": {
     "elapsed": 3719,
     "status": "ok",
     "timestamp": 1672482955125,
     "user": {
      "displayName": "Shashank Yadav",
      "userId": "00457113104975153711"
     },
     "user_tz": 420
    },
    "id": "wbf-21dks8Kv"
   },
   "outputs": [],
   "source": [
    "# plt.figure(figsize=(8,8))\n",
    "# ax = sns.scatterplot(\n",
    "#     x=\"tsne-1\", y=\"tsne-2\",\n",
    "#     hue=\"Binding\",\n",
    "#     palette=sns.color_palette(\"tab10\", 2)[::-1],\n",
    "#     # palette=sns.color_palette(\"tab10\", 2),\n",
    "#     data = df_subset,\n",
    "#     legend=\"full\",\n",
    "#     alpha=0.9,\n",
    "#     s=50\n",
    "# )\n",
    "\n",
    "# # handles_ax, labels_ax = ax.get_legend_handles_labels()\n",
    "# #plt.legend(['Positve', 'Negative'], fontsize = 16)\n",
    "# # plt.ylim(-10, 0)\n",
    "# plt.legend(title='TCR Binding')\n",
    "# # plt.legend(reversed(handles_ax), reversed(labels_ax), title='TCR Binding')\n",
    "# plt.title(c_pep)\n",
    "# sns.despine(offset=5, trim=True)\n",
    "# plt.grid()\n",
    "# # plt.show()\n",
    "# plt.savefig('TCRESM_MCPAS_'+c_pep, bbox_inches='tight', dpi=600)"
   ]
  },
  {
   "cell_type": "code",
   "execution_count": null,
   "metadata": {
    "id": "zBxQ2uK4U6R3"
   },
   "outputs": [],
   "source": [
    "df_subset['tcra'] = df_test_pepfil['tcra'].values\n",
    "df_subset['tcrb'] = df_test_pepfil['tcrb'].values"
   ]
  },
  {
   "cell_type": "code",
   "execution_count": null,
   "metadata": {
    "colab": {
     "base_uri": "https://localhost:8080/",
     "height": 424
    },
    "executionInfo": {
     "elapsed": 156,
     "status": "ok",
     "timestamp": 1672310485940,
     "user": {
      "displayName": "Shashank Yadav",
      "userId": "00457113104975153711"
     },
     "user_tz": 420
    },
    "id": "l-k7wpZ7Vb_o",
    "outputId": "72907100-9300-490f-d7fd-876bd9665c67"
   },
   "outputs": [
    {
     "data": {
      "text/html": [
       "\n",
       "  <div id=\"df-e46d9ade-d7ca-4ceb-8419-f1f78b4f867f\">\n",
       "    <div class=\"colab-df-container\">\n",
       "      <div>\n",
       "<style scoped>\n",
       "    .dataframe tbody tr th:only-of-type {\n",
       "        vertical-align: middle;\n",
       "    }\n",
       "\n",
       "    .dataframe tbody tr th {\n",
       "        vertical-align: top;\n",
       "    }\n",
       "\n",
       "    .dataframe thead th {\n",
       "        text-align: right;\n",
       "    }\n",
       "</style>\n",
       "<table border=\"1\" class=\"dataframe\">\n",
       "  <thead>\n",
       "    <tr style=\"text-align: right;\">\n",
       "      <th></th>\n",
       "      <th>tsne-1</th>\n",
       "      <th>tsne-2</th>\n",
       "      <th>Binding</th>\n",
       "      <th>tcra</th>\n",
       "      <th>tcrb</th>\n",
       "    </tr>\n",
       "  </thead>\n",
       "  <tbody>\n",
       "    <tr>\n",
       "      <th>0</th>\n",
       "      <td>-27.220322</td>\n",
       "      <td>0.683401</td>\n",
       "      <td>Positive</td>\n",
       "      <td>CTDNARLMF</td>\n",
       "      <td>CASSIRSSYEQYF</td>\n",
       "    </tr>\n",
       "    <tr>\n",
       "      <th>1</th>\n",
       "      <td>8.136806</td>\n",
       "      <td>-23.806929</td>\n",
       "      <td>Negative</td>\n",
       "      <td>CAVSANAGAKLTF</td>\n",
       "      <td>CASSWDSAETLYF</td>\n",
       "    </tr>\n",
       "    <tr>\n",
       "      <th>2</th>\n",
       "      <td>10.659352</td>\n",
       "      <td>-17.736549</td>\n",
       "      <td>Negative</td>\n",
       "      <td>CAVSGNYQLIW</td>\n",
       "      <td>CASGGLESAETLYF</td>\n",
       "    </tr>\n",
       "    <tr>\n",
       "      <th>3</th>\n",
       "      <td>9.741524</td>\n",
       "      <td>-25.767767</td>\n",
       "      <td>Negative</td>\n",
       "      <td>CAASSNTNKVVF</td>\n",
       "      <td>CASSPPDSAETLYF</td>\n",
       "    </tr>\n",
       "    <tr>\n",
       "      <th>4</th>\n",
       "      <td>-22.662159</td>\n",
       "      <td>-0.672729</td>\n",
       "      <td>Negative</td>\n",
       "      <td>CAAGGSQGNLIF</td>\n",
       "      <td>CASSIRSSYEQYF</td>\n",
       "    </tr>\n",
       "    <tr>\n",
       "      <th>...</th>\n",
       "      <td>...</td>\n",
       "      <td>...</td>\n",
       "      <td>...</td>\n",
       "      <td>...</td>\n",
       "      <td>...</td>\n",
       "    </tr>\n",
       "    <tr>\n",
       "      <th>616</th>\n",
       "      <td>10.335541</td>\n",
       "      <td>21.344027</td>\n",
       "      <td>Negative</td>\n",
       "      <td>CAVIYNFNKFYF</td>\n",
       "      <td>CASKSNTEAFF</td>\n",
       "    </tr>\n",
       "    <tr>\n",
       "      <th>617</th>\n",
       "      <td>9.522717</td>\n",
       "      <td>-24.854952</td>\n",
       "      <td>Negative</td>\n",
       "      <td>CAVSANYAQGLTF</td>\n",
       "      <td>CASRGTDSAETLYF</td>\n",
       "    </tr>\n",
       "    <tr>\n",
       "      <th>618</th>\n",
       "      <td>7.318454</td>\n",
       "      <td>18.499147</td>\n",
       "      <td>Negative</td>\n",
       "      <td>CAGNTGNQFYFG</td>\n",
       "      <td>CASSAWDRSSGANVLTF</td>\n",
       "    </tr>\n",
       "    <tr>\n",
       "      <th>619</th>\n",
       "      <td>6.777601</td>\n",
       "      <td>8.416439</td>\n",
       "      <td>Negative</td>\n",
       "      <td>CAMRALYYGKLTF</td>\n",
       "      <td>CASSLLGQSTNEKLFF</td>\n",
       "    </tr>\n",
       "    <tr>\n",
       "      <th>620</th>\n",
       "      <td>2.250136</td>\n",
       "      <td>36.137951</td>\n",
       "      <td>Negative</td>\n",
       "      <td>CILDNNNDMRF</td>\n",
       "      <td>CASSLAPGATNEKLFF</td>\n",
       "    </tr>\n",
       "  </tbody>\n",
       "</table>\n",
       "<p>621 rows × 5 columns</p>\n",
       "</div>\n",
       "      <button class=\"colab-df-convert\" onclick=\"convertToInteractive('df-e46d9ade-d7ca-4ceb-8419-f1f78b4f867f')\"\n",
       "              title=\"Convert this dataframe to an interactive table.\"\n",
       "              style=\"display:none;\">\n",
       "        \n",
       "  <svg xmlns=\"http://www.w3.org/2000/svg\" height=\"24px\"viewBox=\"0 0 24 24\"\n",
       "       width=\"24px\">\n",
       "    <path d=\"M0 0h24v24H0V0z\" fill=\"none\"/>\n",
       "    <path d=\"M18.56 5.44l.94 2.06.94-2.06 2.06-.94-2.06-.94-.94-2.06-.94 2.06-2.06.94zm-11 1L8.5 8.5l.94-2.06 2.06-.94-2.06-.94L8.5 2.5l-.94 2.06-2.06.94zm10 10l.94 2.06.94-2.06 2.06-.94-2.06-.94-.94-2.06-.94 2.06-2.06.94z\"/><path d=\"M17.41 7.96l-1.37-1.37c-.4-.4-.92-.59-1.43-.59-.52 0-1.04.2-1.43.59L10.3 9.45l-7.72 7.72c-.78.78-.78 2.05 0 2.83L4 21.41c.39.39.9.59 1.41.59.51 0 1.02-.2 1.41-.59l7.78-7.78 2.81-2.81c.8-.78.8-2.07 0-2.86zM5.41 20L4 18.59l7.72-7.72 1.47 1.35L5.41 20z\"/>\n",
       "  </svg>\n",
       "      </button>\n",
       "      \n",
       "  <style>\n",
       "    .colab-df-container {\n",
       "      display:flex;\n",
       "      flex-wrap:wrap;\n",
       "      gap: 12px;\n",
       "    }\n",
       "\n",
       "    .colab-df-convert {\n",
       "      background-color: #E8F0FE;\n",
       "      border: none;\n",
       "      border-radius: 50%;\n",
       "      cursor: pointer;\n",
       "      display: none;\n",
       "      fill: #1967D2;\n",
       "      height: 32px;\n",
       "      padding: 0 0 0 0;\n",
       "      width: 32px;\n",
       "    }\n",
       "\n",
       "    .colab-df-convert:hover {\n",
       "      background-color: #E2EBFA;\n",
       "      box-shadow: 0px 1px 2px rgba(60, 64, 67, 0.3), 0px 1px 3px 1px rgba(60, 64, 67, 0.15);\n",
       "      fill: #174EA6;\n",
       "    }\n",
       "\n",
       "    [theme=dark] .colab-df-convert {\n",
       "      background-color: #3B4455;\n",
       "      fill: #D2E3FC;\n",
       "    }\n",
       "\n",
       "    [theme=dark] .colab-df-convert:hover {\n",
       "      background-color: #434B5C;\n",
       "      box-shadow: 0px 1px 3px 1px rgba(0, 0, 0, 0.15);\n",
       "      filter: drop-shadow(0px 1px 2px rgba(0, 0, 0, 0.3));\n",
       "      fill: #FFFFFF;\n",
       "    }\n",
       "  </style>\n",
       "\n",
       "      <script>\n",
       "        const buttonEl =\n",
       "          document.querySelector('#df-e46d9ade-d7ca-4ceb-8419-f1f78b4f867f button.colab-df-convert');\n",
       "        buttonEl.style.display =\n",
       "          google.colab.kernel.accessAllowed ? 'block' : 'none';\n",
       "\n",
       "        async function convertToInteractive(key) {\n",
       "          const element = document.querySelector('#df-e46d9ade-d7ca-4ceb-8419-f1f78b4f867f');\n",
       "          const dataTable =\n",
       "            await google.colab.kernel.invokeFunction('convertToInteractive',\n",
       "                                                     [key], {});\n",
       "          if (!dataTable) return;\n",
       "\n",
       "          const docLinkHtml = 'Like what you see? Visit the ' +\n",
       "            '<a target=\"_blank\" href=https://colab.research.google.com/notebooks/data_table.ipynb>data table notebook</a>'\n",
       "            + ' to learn more about interactive tables.';\n",
       "          element.innerHTML = '';\n",
       "          dataTable['output_type'] = 'display_data';\n",
       "          await google.colab.output.renderOutput(dataTable, element);\n",
       "          const docLink = document.createElement('div');\n",
       "          docLink.innerHTML = docLinkHtml;\n",
       "          element.appendChild(docLink);\n",
       "        }\n",
       "      </script>\n",
       "    </div>\n",
       "  </div>\n",
       "  "
      ],
      "text/plain": [
       "        tsne-1     tsne-2   Binding           tcra               tcrb\n",
       "0   -27.220322   0.683401  Positive      CTDNARLMF      CASSIRSSYEQYF\n",
       "1     8.136806 -23.806929  Negative  CAVSANAGAKLTF      CASSWDSAETLYF\n",
       "2    10.659352 -17.736549  Negative    CAVSGNYQLIW     CASGGLESAETLYF\n",
       "3     9.741524 -25.767767  Negative   CAASSNTNKVVF     CASSPPDSAETLYF\n",
       "4   -22.662159  -0.672729  Negative   CAAGGSQGNLIF      CASSIRSSYEQYF\n",
       "..         ...        ...       ...            ...                ...\n",
       "616  10.335541  21.344027  Negative   CAVIYNFNKFYF        CASKSNTEAFF\n",
       "617   9.522717 -24.854952  Negative  CAVSANYAQGLTF     CASRGTDSAETLYF\n",
       "618   7.318454  18.499147  Negative   CAGNTGNQFYFG  CASSAWDRSSGANVLTF\n",
       "619   6.777601   8.416439  Negative  CAMRALYYGKLTF   CASSLLGQSTNEKLFF\n",
       "620   2.250136  36.137951  Negative    CILDNNNDMRF   CASSLAPGATNEKLFF\n",
       "\n",
       "[621 rows x 5 columns]"
      ]
     },
     "execution_count": 365,
     "metadata": {},
     "output_type": "execute_result"
    }
   ],
   "source": [
    "df_subset"
   ]
  },
  {
   "cell_type": "code",
   "execution_count": null,
   "metadata": {
    "id": "KDi0zqQ5WtWe"
   },
   "outputs": [],
   "source": []
  }
 ],
 "metadata": {
  "colab": {
   "authorship_tag": "ABX9TyO7SF3NjM1OVAX63dACKfWS",
   "machine_shape": "hm",
   "mount_file_id": "1k3KUTS_wUQbyjlIXValgcKkQrKg8k0Gr",
   "provenance": []
  },
  "gpuClass": "standard",
  "kernelspec": {
   "display_name": "Python 3 (ipykernel)",
   "language": "python",
   "name": "python3"
  },
  "language_info": {
   "codemirror_mode": {
    "name": "ipython",
    "version": 3
   },
   "file_extension": ".py",
   "mimetype": "text/x-python",
   "name": "python",
   "nbconvert_exporter": "python",
   "pygments_lexer": "ipython3",
   "version": "3.9.12"
  }
 },
 "nbformat": 4,
 "nbformat_minor": 4
}
