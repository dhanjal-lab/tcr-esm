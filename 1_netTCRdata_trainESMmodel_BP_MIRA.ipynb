{
 "cells": [
  {
   "cell_type": "markdown",
   "metadata": {
    "executionInfo": {
     "elapsed": 12435,
     "status": "ok",
     "timestamp": 1671318892616,
     "user": {
      "displayName": "Shashank Yadav",
      "userId": "00457113104975153711"
     },
     "user_tz": 420
    },
    "id": "oDtdWlYKxhVM"
   },
   "source": [
    "## This notebook assumes that you have extracted the embeddings (using the procedure mentioned in the 0_ESM_Embeddings_Extractor.ipynb notebook) and have stored them in a zipped format"
   ]
  },
  {
   "cell_type": "markdown",
   "metadata": {},
   "source": [
    "## Since we have used google colab; we copy the embeddings from google drive before training the model; similar procedure can be used to run it locally;"
   ]
  },
  {
   "cell_type": "markdown",
   "metadata": {},
   "source": [
    "## A example is shown below:"
   ]
  },
  {
   "cell_type": "code",
   "execution_count": null,
   "metadata": {},
   "outputs": [],
   "source": [
    "####################################################################################################### TCR_beta_90\n",
    "#### Download the embeddings for TCR_beta_90 training set\n",
    "!cp -r '/content/drive/MyDrive/TCR-pMHC-results/netTCR/TCR_beta_90/ESM1v_cdr3b.zip' '/content'\n",
    "!cp -r '/content/drive/MyDrive/TCR-pMHC-results/netTCR/TCR_beta_90/ESM1v_peptide.zip' '/content'\n",
    "# eval for MIRA\n",
    "!cp -r '/content/drive/MyDrive/TCR-pMHC-results/netTCR/TCR_beta_90/ESM1v_mira_cdr3b.zip' '/content'\n",
    "!cp -r '/content/drive/MyDrive/TCR-pMHC-results/netTCR/TCR_beta_90/ESM1v_mira_peptide.zip' '/content'\n",
    "## actual csv for the class labels\n",
    "!cp -r '/content/drive/MyDrive/TCR-pMHC-results/netTCR/TCR_beta_90/train_beta_90.csv' '/content'\n",
    "!cp -r '/content/drive/MyDrive/TCR-pMHC-results/netTCR/TCR_beta_90/mira_eval_threshold90.csv' '/content'"
   ]
  },
  {
   "cell_type": "markdown",
   "metadata": {},
   "source": [
    "## Unzip the embeddings to folder for developing the train and test set"
   ]
  },
  {
   "cell_type": "code",
   "execution_count": null,
   "metadata": {
    "executionInfo": {
     "elapsed": 11796,
     "status": "ok",
     "timestamp": 1671319252092,
     "user": {
      "displayName": "Shashank Yadav",
      "userId": "00457113104975153711"
     },
     "user_tz": 420
    },
    "id": "W4tHaAWVgePz"
   },
   "outputs": [],
   "source": [
    "\n",
    "#### unzip train\n",
    "!unzip -q /content/ESM1v_cdr3b.zip -d /content/train_cdr3b\n",
    "!unzip -q /content/ESM1v_peptide.zip -d /content/train_peptide\n",
    "\n",
    "### unzip eval\n",
    "!unzip -q /content/ESM1v_mira_cdr3b.zip -d /content/mira_cdr3b\n",
    "!unzip -q /content/ESM1v_mira_peptide.zip -d /content/mira_peptide"
   ]
  },
  {
   "cell_type": "markdown",
   "metadata": {},
   "source": [
    "## for running locally the format should be"
   ]
  },
  {
   "cell_type": "code",
   "execution_count": null,
   "metadata": {},
   "outputs": [],
   "source": [
    "#### unzip train\n",
    "!unzip -q <path_to_train_cdr3b.zip> -d  train_cdr3b\n",
    "!unzip -q <path_to_train_peptide.zip -d train_peptide\n",
    "\n",
    "### unzip eval\n",
    "!unzip -q <path_to_test_cdr3b.zip> -d  test_cdr3b\n",
    "!unzip -q <path_to_test_peptide.zip -d test_peptide"
   ]
  },
  {
   "cell_type": "code",
   "execution_count": null,
   "metadata": {
    "executionInfo": {
     "elapsed": 3119,
     "status": "ok",
     "timestamp": 1671319269782,
     "user": {
      "displayName": "Shashank Yadav",
      "userId": "00457113104975153711"
     },
     "user_tz": 420
    },
    "id": "lZxAwAWTnHu1"
   },
   "outputs": [],
   "source": [
    "import sys\n",
    "import numpy as np\n",
    "import pandas as pd\n",
    "import os\n",
    "from tqdm import tqdm\n",
    "from natsort import natsorted\n",
    "import matplotlib.pyplot as plt\n",
    "plt.style.use('seaborn')\n",
    "%matplotlib inline\n",
    "from tensorflow.keras.models import Sequential, Model\n",
    "from tensorflow.keras.layers import Layer,Input, Dense, Dropout, Activation, Concatenate, Flatten, BatchNormalization\n",
    "from tensorflow.keras.regularizers import l2,l1\n",
    "from tensorflow.keras.optimizers import SGD,Adam,RMSprop\n",
    "#from tensorflow.compat.v1 import InteractiveSession\n",
    "import tensorflow.keras.backend as K\n",
    "from tensorflow.keras.preprocessing.image import array_to_img, img_to_array, load_img\n",
    "from tensorflow.keras.callbacks import EarlyStopping, ModelCheckpoint,ReduceLROnPlateau\n",
    "from tensorflow.keras.models import load_model\n",
    "import tensorflow.keras.metrics\n",
    "from sklearn.preprocessing import LabelEncoder\n",
    "import sklearn\n",
    "import os\n",
    "from natsort import natsorted\n",
    "from sklearn.metrics import *\n",
    "import tensorflow as tf\n",
    "tf.random.set_seed(1)\n",
    "from sklearn.model_selection import train_test_split\n",
    "from sklearn.preprocessing import MinMaxScaler\n",
    "from tensorflow.keras.utils import to_categorical, plot_model\n",
    "from tqdm import tqdm\n",
    "import torch"
   ]
  },
  {
   "cell_type": "code",
   "execution_count": null,
   "metadata": {
    "executionInfo": {
     "elapsed": 506,
     "status": "ok",
     "timestamp": 1671319285252,
     "user": {
      "displayName": "Shashank Yadav",
      "userId": "00457113104975153711"
     },
     "user_tz": 420
    },
    "id": "_GVGvx6AiBtc"
   },
   "outputs": [],
   "source": [
    "### train files\n",
    "path_train_cdr3b = <'path_to_train_cdr3b_embeddings'>                  # Example ./train_cdr3b\n",
    "path_train_pepti = <'path_to_train_peptide_embeddings'>                # Example ./train_peptide\n",
    "\n",
    "mat_cdr3b = os.listdir(path_train_cdr3b) \n",
    "mat_pepti = os.listdir(path_train_pepti)\n",
    "\n",
    "### eval files\n",
    "path_eval_cdr3b = <'path_to_test_cdr3b_embeddings'>           # Example ./test_cdr3b\n",
    "path_eval_pepti = <'path_to_test_peptide_embeddings'>         # Example ./test_peptide\n",
    "\n",
    "evalmat_cdr3b = os.listdir(path_eval_cdr3b) \n",
    "evalmat_pepti = os.listdir(path_eval_pepti)\n"
   ]
  },
  {
   "cell_type": "markdown",
   "metadata": {},
   "source": [
    "## natsort is used to order the pairs as they appear in the .csv; this would be helpful later to map the pairs with their respective labels"
   ]
  },
  {
   "cell_type": "code",
   "execution_count": null,
   "metadata": {
    "executionInfo": {
     "elapsed": 1290,
     "status": "ok",
     "timestamp": 1671319289308,
     "user": {
      "displayName": "Shashank Yadav",
      "userId": "00457113104975153711"
     },
     "user_tz": 420
    },
    "id": "3jeOYjgmiSIq"
   },
   "outputs": [],
   "source": [
    "###train\n",
    "mat_cdr3b = natsorted(mat_cdr3b)\n",
    "mat_pepti = natsorted(mat_pepti)\n",
    "\n",
    "\n",
    "###eval\n",
    "evalmat_cdr3b = natsorted(evalmat_cdr3b)\n",
    "evalmat_pepti = natsorted(evalmat_pepti)"
   ]
  },
  {
   "cell_type": "markdown",
   "metadata": {},
   "source": [
    "## the following step extracts the embeddings and stores in a numpy matrix"
   ]
  },
  {
   "cell_type": "code",
   "execution_count": null,
   "metadata": {
    "colab": {
     "base_uri": "https://localhost:8080/"
    },
    "executionInfo": {
     "elapsed": 23357,
     "status": "ok",
     "timestamp": 1671319348646,
     "user": {
      "displayName": "Shashank Yadav",
      "userId": "00457113104975153711"
     },
     "user_tz": 420
    },
    "id": "sTi1NqVtjBDL",
    "outputId": "4d466d46-a6e2-43fc-ca48-91c0d51a035d"
   },
   "outputs": [],
   "source": [
    "orig_matmat_cdr3b = np.zeros((len(mat_cdr3b),1280))\n",
    "orig_matmat_pepti = np.zeros((len(mat_cdr3b),1280))\n",
    "orig_evalmatmat_cdr3b = np.zeros((len(evalmat_pepti) ,1280))\n",
    "orig_evalmatmat_pepti = np.zeros((len(evalmat_pepti) ,1280))\n",
    "\n",
    "### load train samples \n",
    "\n",
    "for i in tqdm(range(len(mat_cdr3b))):\n",
    "\n",
    "    x = torch.load(path_train_cdr3b+mat_cdr3b[i])['mean_representations'][33]\n",
    "    orig_matmat_cdr3b[i] = x\n",
    "\n",
    "    y = torch.load(path_train_pepti+mat_pepti[i])['mean_representations'][33]\n",
    "    orig_matmat_pepti[i] = y\n",
    "\n",
    "\n",
    "### load eval samples\n",
    "\n",
    "for j in tqdm(range(len(evalmat_pepti))):\n",
    "\n",
    "    z = torch.load(path_eval_cdr3b+evalmat_cdr3b[j])['mean_representations'][33]\n",
    "    orig_evalmatmat_cdr3b[j] = z\n",
    "\n",
    "    t = torch.load(path_eval_pepti+evalmat_pepti[j])['mean_representations'][33]\n",
    "    orig_evalmatmat_pepti[j] = t\n",
    "\n"
   ]
  },
  {
   "cell_type": "markdown",
   "metadata": {},
   "source": [
    "## load *.csv files for labels"
   ]
  },
  {
   "cell_type": "code",
   "execution_count": null,
   "metadata": {
    "executionInfo": {
     "elapsed": 516,
     "status": "ok",
     "timestamp": 1671319355194,
     "user": {
      "displayName": "Shashank Yadav",
      "userId": "00457113104975153711"
     },
     "user_tz": 420
    },
    "id": "JKaFIojUmZjB"
   },
   "outputs": [],
   "source": [
    "df_train = pd.read_csv('/content/train_beta_90.csv')\n",
    "df_eval = pd.read_csv('/content/mira_eval_threshold90.csv')\n",
    "y_train = df_train['binder'].values\n",
    "y_eval  = df_eval['binder'].values\n",
    "orig_y_train = y_train.reshape(-1,1)\n",
    "orig_y_eval = y_eval.reshape(-1,1)"
   ]
  },
  {
   "cell_type": "markdown",
   "metadata": {
    "executionInfo": {
     "elapsed": 2,
     "status": "ok",
     "timestamp": 1671319359674,
     "user": {
      "displayName": "Shashank Yadav",
      "userId": "00457113104975153711"
     },
     "user_tz": 420
    },
    "id": "bAaWRh8Tmr5v"
   },
   "source": [
    "## mode is used to switch between cross-validation and testing on the MIRA dataset"
   ]
  },
  {
   "cell_type": "code",
   "execution_count": null,
   "metadata": {
    "executionInfo": {
     "elapsed": 222,
     "status": "ok",
     "timestamp": 1671319425385,
     "user": {
      "displayName": "Shashank Yadav",
      "userId": "00457113104975153711"
     },
     "user_tz": 420
    },
    "id": "d5tj4ghM8Og1"
   },
   "outputs": [],
   "source": [
    "#mode = 'cv'\n",
    "mode = 'eval'\n",
    "\n",
    "\n",
    "######## get CV splits from original data\n",
    "\n",
    "if mode=='cv':\n",
    "    train_list = [3,4,1,2]\n",
    "    test_list  = [5]\n",
    "\n",
    "\n",
    "    matmat_cdr3b = orig_matmat_cdr3b[df_train['partition'].isin(train_list)]\n",
    "    matmat_pepti = orig_matmat_pepti[df_train['partition'].isin(train_list)]\n",
    "    y_train      = orig_y_train[df_train['partition'].isin(train_list)]\n",
    "\n",
    "    #### internal eval\n",
    "    evalmatmat_cdr3b = orig_matmat_cdr3b[df_train['partition'].isin(test_list)]\n",
    "    evalmatmat_pepti = orig_matmat_pepti[df_train['partition'].isin(test_list)]\n",
    "    y_eval           = orig_y_train[df_train['partition'].isin(test_list)]\n",
    "\n",
    "elif mode=='eval':\n",
    "    matmat_cdr3b = orig_matmat_cdr3b\n",
    "    matmat_pepti = orig_matmat_pepti\n",
    "    y_train      = orig_y_train\n",
    "\n",
    "    #### on test\n",
    "    evalmatmat_cdr3b = orig_evalmatmat_cdr3b\n",
    "    evalmatmat_pepti = orig_evalmatmat_pepti\n",
    "    y_eval           = orig_y_eval"
   ]
  },
  {
   "cell_type": "markdown",
   "metadata": {},
   "source": [
    "## Ensure the correctness of data dimension of train and test"
   ]
  },
  {
   "cell_type": "code",
   "execution_count": null,
   "metadata": {
    "colab": {
     "base_uri": "https://localhost:8080/"
    },
    "executionInfo": {
     "elapsed": 263,
     "status": "ok",
     "timestamp": 1671319427801,
     "user": {
      "displayName": "Shashank Yadav",
      "userId": "00457113104975153711"
     },
     "user_tz": 420
    },
    "id": "vXikjeX4mxzo",
    "outputId": "d0db37b1-8ba4-4c6f-cbcb-69b468bcb35d"
   },
   "outputs": [],
   "source": [
    "### data\n",
    "\n",
    "print('Training', matmat_cdr3b.shape, matmat_pepti.shape, y_train.shape)\n",
    "print('Evaluation', evalmatmat_cdr3b.shape, evalmatmat_pepti.shape, y_eval.shape)"
   ]
  },
  {
   "cell_type": "markdown",
   "metadata": {},
   "source": [
    "## following code clears the session and is used to reset the network after each CV"
   ]
  },
  {
   "cell_type": "code",
   "execution_count": null,
   "metadata": {
    "executionInfo": {
     "elapsed": 751,
     "status": "ok",
     "timestamp": 1671319437127,
     "user": {
      "displayName": "Shashank Yadav",
      "userId": "00457113104975153711"
     },
     "user_tz": 420
    },
    "id": "vdetXfGzl8FE"
   },
   "outputs": [],
   "source": [
    "### model\n",
    "def clear_sess():\n",
    "  try:\n",
    "    del model \n",
    "    del history \n",
    "  except:\n",
    "    pass\n",
    "  from tensorflow.keras import backend as K\n",
    "  K.clear_session()\n",
    "  import gc\n",
    "  gc.collect()\n",
    "  return None\n",
    "\n"
   ]
  },
  {
   "cell_type": "code",
   "execution_count": null,
   "metadata": {
    "id": "SOh5SNPEqJec"
   },
   "outputs": [],
   "source": [
    "clear_sess()\n",
    "!rm *.hdf5 ### remove old saved model"
   ]
  },
  {
   "cell_type": "markdown",
   "metadata": {
    "id": "N2Q70DW7v8z_"
   },
   "source": [
    "# model MLP for CDR3a + CDR3b + peptide"
   ]
  },
  {
   "cell_type": "code",
   "execution_count": null,
   "metadata": {
    "id": "N2Q70DW7v8z_"
   },
   "outputs": [],
   "source": [
    "clear_sess()\n",
    "#input_1\n",
    "\n",
    "input_1 = Input(shape = (1280,), name='i_1')\n",
    "dense1_1 = Dense(128, activation = 'relu')(input_1)\n",
    "bn1_1 = BatchNormalization()(dense1_1)\n",
    "\n",
    "#input_2\n",
    "input_2 = Input(shape = (1280,), name='i_2')\n",
    "dense2_1 = Dense(128, activation = 'relu')(input_2)\n",
    "bn2_1 = BatchNormalization()(dense2_1)\n",
    "\n",
    "#input_3\n",
    "input_3 = Input(shape = (1280,), name='i_3')\n",
    "dense3_1 = Dense(128, activation = 'relu')(input_3)\n",
    "bn3_1 = BatchNormalization()(dense3_1)\n",
    " \n",
    "# concatenate\n",
    "##concat   = Concatenate()([dense1_1, dense2_1])\n",
    "concat   = Concatenate()([bn1_1, bn2_1, bn3_1])\n",
    "fc_1   = Dense(512, activation = 'relu')(concat)\n",
    "#drop_1 = Dropout(0.5)(fc_1)\n",
    "fc_2   = Dense(256, activation = 'relu')(fc_1)\n",
    "#classification output\n",
    "output  = Dense(1, activation = 'sigmoid')(fc_2)\n",
    " \n",
    "# create model with two inputs\n",
    "model = Model(inputs=[input_1,input_2, input_3], outputs=output)"
   ]
  },
  {
   "cell_type": "markdown",
   "metadata": {
    "id": "N2Q70DW7v8z_"
   },
   "source": [
    "## model MLP for CDR3b+peptide and CDR3a-peptide"
   ]
  },
  {
   "cell_type": "code",
   "execution_count": null,
   "metadata": {
    "id": "N2Q70DW7v8z_"
   },
   "outputs": [],
   "source": [
    "clear_sess()\n",
    "#input_1\n",
    "\n",
    "input_1 = Input(shape = (1280,), name='i_1')\n",
    "dense1_1 = Dense(128, activation = 'relu')(input_1)\n",
    "bn1_1 = BatchNormalization()(dense1_1)\n",
    "\n",
    "#input_2\n",
    "input_2 = Input(shape = (1280,), name='i_2')\n",
    "dense2_1 = Dense(128, activation = 'relu')(input_2)\n",
    "bn2_1 = BatchNormalization()(dense2_1)\n",
    "\n",
    "\n",
    "# concatenate\n",
    "##concat   = Concatenate()([dense1_1, dense2_1])\n",
    "concat   = Concatenate()([bn1_1, bn2_1])\n",
    "fc_1   = Dense(512, activation = 'relu')(concat)\n",
    "#drop_1 = Dropout(0.5)(fc_1)\n",
    "fc_2   = Dense(256, activation = 'relu')(fc_1)\n",
    "#classification output\n",
    "output  = Dense(1, activation = 'sigmoid')(fc_2)\n",
    " \n",
    "# create model with two inputs\n",
    "model = Model(inputs=[input_1,input_2], outputs=output)"
   ]
  },
  {
   "cell_type": "code",
   "execution_count": null,
   "metadata": {
    "executionInfo": {
     "elapsed": 235,
     "status": "ok",
     "timestamp": 1671319534317,
     "user": {
      "displayName": "Shashank Yadav",
      "userId": "00457113104975153711"
     },
     "user_tz": 420
    },
    "id": "2xIhVsjGjMJ2"
   },
   "outputs": [],
   "source": [
    "def keras_mcc(y_true, y_pred):\n",
    "    tp = K.sum(K.round(K.clip(y_true * y_pred, 0, 1)))\n",
    "    tn = K.sum(K.round(K.clip((1 - y_true) * (1 - y_pred), 0, 1)))\n",
    "    fp = K.sum(K.round(K.clip((1 - y_true) * y_pred, 0, 1)))\n",
    "    fn = K.sum(K.round(K.clip(y_true * (1 - y_pred), 0, 1)))\n",
    "\n",
    "    num = tp * tn - fp * fn\n",
    "    den = (tp + fp) * (tp + fn) * (tn + fp) * (tn + fn)\n",
    "    return num / K.sqrt(den + K.epsilon())"
   ]
  },
  {
   "cell_type": "code",
   "execution_count": null,
   "metadata": {
    "executionInfo": {
     "elapsed": 352,
     "status": "ok",
     "timestamp": 1671319537772,
     "user": {
      "displayName": "Shashank Yadav",
      "userId": "00457113104975153711"
     },
     "user_tz": 420
    },
    "id": "Ovz2w6aRoNH-"
   },
   "outputs": [],
   "source": [
    "metrics_c = [tensorflow.keras.metrics.AUC(name=\"auc_roc\",curve=\"ROC\"),tensorflow.keras.metrics.AUC(name=\"auc_pr\",curve=\"PR\"),keras_mcc]\n"
   ]
  },
  {
   "cell_type": "code",
   "execution_count": null,
   "metadata": {
    "executionInfo": {
     "elapsed": 503,
     "status": "ok",
     "timestamp": 1671319546709,
     "user": {
      "displayName": "Shashank Yadav",
      "userId": "00457113104975153711"
     },
     "user_tz": 420
    },
    "id": "LuNHZqwmoTQI"
   },
   "outputs": [],
   "source": [
    "model.compile(loss='binary_crossentropy', \n",
    "              optimizer=tensorflow.keras.optimizers.Adam(learning_rate=0.008), \n",
    "              metrics=metrics_c)"
   ]
  },
  {
   "cell_type": "code",
   "execution_count": null,
   "metadata": {
    "id": "jOQDxmQ3qBB6"
   },
   "outputs": [],
   "source": [
    "early_stop = EarlyStopping(monitor='loss',min_delta=0,patience=10, verbose=0,mode='min',restore_best_weights=True)"
   ]
  },
  {
   "cell_type": "code",
   "execution_count": null,
   "metadata": {
    "executionInfo": {
     "elapsed": 509,
     "status": "ok",
     "timestamp": 1671319608203,
     "user": {
      "displayName": "Shashank Yadav",
      "userId": "00457113104975153711"
     },
     "user_tz": 420
    },
    "id": "u2sSum9klaeb"
   },
   "outputs": [],
   "source": [
    "reduce_lr = ReduceLROnPlateau(monitor='val_keras_mcc', factor=0.99,patience=20, min_lr=0.005, verbose=1)"
   ]
  },
  {
   "cell_type": "code",
   "execution_count": null,
   "metadata": {
    "executionInfo": {
     "elapsed": 527,
     "status": "ok",
     "timestamp": 1671319549325,
     "user": {
      "displayName": "Shashank Yadav",
      "userId": "00457113104975153711"
     },
     "user_tz": 420
    },
    "id": "ShUY7ZOCp1Md"
   },
   "outputs": [],
   "source": [
    "checkpoint_filepath_1 = 'weights-improvement-val-auc-pr.hdf5'\n",
    "model_checkpoint_callback_1 = ModelCheckpoint(filepath=checkpoint_filepath_1,save_weights_only=False,monitor='val_auc_pr',mode='max',save_best_only=True)\n",
    "\n",
    "checkpoint_filepath_2 = 'weights-improvement-val-keras-mcc.hdf5'\n",
    "model_checkpoint_callback_2 = ModelCheckpoint(filepath=checkpoint_filepath_2,save_weights_only=False,monitor='val_keras_mcc',mode='max',save_best_only=True)"
   ]
  },
  {
   "cell_type": "markdown",
   "metadata": {},
   "source": [
    "## uncomment the following cell for running CDR3a, CDR3b, peptide model"
   ]
  },
  {
   "cell_type": "code",
   "execution_count": null,
   "metadata": {},
   "outputs": [],
   "source": [
    "# fit the keras model on the dataset CDR3a, CDR3b, peptide\n",
    "# history=model.fit([train_cdr3a, train_cdr3b,train_pep],train_Y,\n",
    "#                   batch_size=1024, epochs=500,\n",
    "#                   validation_split=0.1,\n",
    "#                   callbacks=[model_checkpoint_callback_1, model_checkpoint_callback_2, reduce_lr ]\n",
    "#                   verbose=1\n",
    "#                   )"
   ]
  },
  {
   "cell_type": "markdown",
   "metadata": {},
   "source": [
    "## uncomment the following cell for running CDR3b, peptide model"
   ]
  },
  {
   "cell_type": "code",
   "execution_count": null,
   "metadata": {
    "colab": {
     "base_uri": "https://localhost:8080/"
    },
    "executionInfo": {
     "elapsed": 86719,
     "status": "ok",
     "timestamp": 1671319853238,
     "user": {
      "displayName": "Shashank Yadav",
      "userId": "00457113104975153711"
     },
     "user_tz": 420
    },
    "id": "Do3GZ7GKsUrX",
    "outputId": "2afd98e9-7495-4bea-a8ea-da45c10badac"
   },
   "outputs": [],
   "source": [
    "# # fit the keras model on the dataset CDR3b, peptide\n",
    "# history=model.fit([matmat_cdr3b,matmat_pepti],y_train,\n",
    "#                   batch_size=1024, epochs=500,\n",
    "#                   verbose=0,\n",
    "#                   validation_split=0.1,\n",
    "#                   callbacks=[model_checkpoint_callback_1, model_checkpoint_callback_2, reduce_lr ]\n",
    "#                   )\n",
    "# print('done')"
   ]
  },
  {
   "cell_type": "markdown",
   "metadata": {},
   "source": [
    "## uncomment the following cell for running CDR3a, peptide model"
   ]
  },
  {
   "cell_type": "code",
   "execution_count": null,
   "metadata": {
    "id": "jKo6rD7Ew_EF"
   },
   "outputs": [],
   "source": [
    "# # fit the keras model on the dataset CDR3a, CDR3b, peptide\n",
    "# history=model.fit([matmat_cdr3a,matmat_pepti],y_train,\n",
    "#                   batch_size=1024, epochs=500,\n",
    "#                   verbose=0,\n",
    "#                   validation_split=0.1,\n",
    "#                   callbacks=[model_checkpoint_callback_1, model_checkpoint_callback_2, reduce_lr ]\n",
    "#                   )\n",
    "# print('done')"
   ]
  },
  {
   "cell_type": "markdown",
   "metadata": {},
   "source": [
    "## once the best model is trained, we can test it over the evaluation dataset"
   ]
  },
  {
   "cell_type": "code",
   "execution_count": null,
   "metadata": {
    "colab": {
     "base_uri": "https://localhost:8080/"
    },
    "executionInfo": {
     "elapsed": 514,
     "status": "ok",
     "timestamp": 1671321069367,
     "user": {
      "displayName": "Shashank Yadav",
      "userId": "00457113104975153711"
     },
     "user_tz": 420
    },
    "id": "dyt2dq9DCnzs",
    "outputId": "37a544c8-13a5-435c-83b7-4f3bb4cfdfcd"
   },
   "outputs": [],
   "source": [
    "####model load max aucpr\n",
    "\n",
    "\n",
    "model_loaded = '/content/weights-improvement-val-auc-pr.hdf5'\n",
    "model = tensorflow.keras.models.load_model(model_loaded,compile=False)\n",
    "\n",
    "\n",
    "\n",
    "y_pred = model.predict([evalmatmat_cdr3b,evalmatmat_pepti])\n",
    "y_act = y_eval.flatten()\n",
    "y_pred= y_pred.flatten()\n",
    "y_pred_c=np.where(y_pred>0.5,1,0)\n",
    "\n",
    "\n",
    "print(roc_auc_score(y_act, y_pred),average_precision_score(y_act, y_pred),matthews_corrcoef(y_act,y_pred_c),cohen_kappa_score(y_act,y_pred_c))"
   ]
  },
  {
   "cell_type": "code",
   "execution_count": null,
   "metadata": {
    "colab": {
     "base_uri": "https://localhost:8080/"
    },
    "executionInfo": {
     "elapsed": 819,
     "status": "ok",
     "timestamp": 1671321072337,
     "user": {
      "displayName": "Shashank Yadav",
      "userId": "00457113104975153711"
     },
     "user_tz": 420
    },
    "id": "kbc4J2_sC82V",
    "outputId": "f09d1afb-8857-408d-e43f-026e6b871d8d"
   },
   "outputs": [],
   "source": [
    "####model load max mcc\n",
    "\n",
    "\n",
    "model_loaded = '/content/weights-improvement-val-keras-mcc.hdf5'\n",
    "model = tensorflow.keras.models.load_model(model_loaded,compile=False)\n",
    "\n",
    "\n",
    "\n",
    "y_pred = model.predict([evalmatmat_cdr3b,evalmatmat_pepti])\n",
    "y_act = y_eval.flatten()\n",
    "y_pred= y_pred.flatten()\n",
    "y_pred_c=np.where(y_pred>0.5,1,0)\n",
    "\n",
    "\n",
    "print(roc_auc_score(y_act, y_pred),average_precision_score(y_act, y_pred),matthews_corrcoef(y_act,y_pred_c),cohen_kappa_score(y_act,y_pred_c))"
   ]
  },
  {
   "cell_type": "markdown",
   "metadata": {
    "colab": {
     "base_uri": "https://localhost:8080/"
    },
    "executionInfo": {
     "elapsed": 213,
     "status": "ok",
     "timestamp": 1669500736586,
     "user": {
      "displayName": "Shashank Yadav",
      "userId": "00457113104975153711"
     },
     "user_tz": 420
    },
    "id": "qxW2aZJp7esC",
    "outputId": "3fbdcd4a-689b-4aae-f991-0572bf788c32"
   },
   "source": [
    "## peptide wise"
   ]
  },
  {
   "cell_type": "code",
   "execution_count": null,
   "metadata": {
    "colab": {
     "base_uri": "https://localhost:8080/"
    },
    "executionInfo": {
     "elapsed": 213,
     "status": "ok",
     "timestamp": 1669500736586,
     "user": {
      "displayName": "Shashank Yadav",
      "userId": "00457113104975153711"
     },
     "user_tz": 420
    },
    "id": "qxW2aZJp7esC",
    "outputId": "3fbdcd4a-689b-4aae-f991-0572bf788c32"
   },
   "outputs": [],
   "source": [
    "pep_list = [ 'GILGFVFTL', 'GLCTLVAML']\n",
    "\n",
    "for i in range(2):\n",
    "    pep_f = pep_list[i]\n",
    "\n",
    "    y_pred_pep = y_pred_c[df_eval['peptide'] == pep_f]\n",
    "\n",
    "    y_act_pep  = y_act[df_eval['peptide'] == pep_f]\n",
    "\n",
    "    #y_act_pep.shape, y_pred_pep.shape\n",
    "\n",
    "    y_act_pw = y_act_pep.flatten()\n",
    "    y_pred_pw= y_pred_pep.flatten()\n",
    "\n",
    "    y_pred_pw_c=np.where(y_pred_pw>0.5,1,0)\n",
    "\n",
    "    print('MCC', pep_f ,matthews_corrcoef(y_act_pw,y_pred_pw_c))"
   ]
  },
  {
   "cell_type": "code",
   "execution_count": null,
   "metadata": {
    "id": "fNITP8kFLjLc"
   },
   "outputs": [],
   "source": []
  }
 ],
 "metadata": {
  "accelerator": "GPU",
  "colab": {
   "authorship_tag": "ABX9TyN0orQarNY5ZbBkw1Ajidu7",
   "machine_shape": "hm",
   "mount_file_id": "19666kGsrZaUij3dHYX3aR-8wG5ROHiKU",
   "provenance": []
  },
  "gpuClass": "standard",
  "kernelspec": {
   "display_name": "Python 3 (ipykernel)",
   "language": "python",
   "name": "python3"
  },
  "language_info": {
   "codemirror_mode": {
    "name": "ipython",
    "version": 3
   },
   "file_extension": ".py",
   "mimetype": "text/x-python",
   "name": "python",
   "nbconvert_exporter": "python",
   "pygments_lexer": "ipython3",
   "version": "3.9.12"
  }
 },
 "nbformat": 4,
 "nbformat_minor": 4
}
