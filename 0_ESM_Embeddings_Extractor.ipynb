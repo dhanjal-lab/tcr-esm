{
 "cells": [
  {
   "cell_type": "markdown",
   "metadata": {
    "colab": {
     "base_uri": "https://localhost:8080/"
    },
    "executionInfo": {
     "elapsed": 4145,
     "status": "ok",
     "timestamp": 1671761547976,
     "user": {
      "displayName": "Shashank Yadav",
      "userId": "00457113104975153711"
     },
     "user_tz": 420
    },
    "id": "53LhTMRBUCRK",
    "outputId": "3e2fa218-8d7b-4044-81b7-5f4a916a222b"
   },
   "source": [
    "## Following Cell: installs the fair-esm library for extracting the embeddings"
   ]
  },
  {
   "cell_type": "code",
   "execution_count": null,
   "metadata": {
    "colab": {
     "base_uri": "https://localhost:8080/"
    },
    "executionInfo": {
     "elapsed": 4145,
     "status": "ok",
     "timestamp": 1671761547976,
     "user": {
      "displayName": "Shashank Yadav",
      "userId": "00457113104975153711"
     },
     "user_tz": 420
    },
    "id": "53LhTMRBUCRK",
    "outputId": "3e2fa218-8d7b-4044-81b7-5f4a916a222b"
   },
   "outputs": [],
   "source": [
    "!pip install fair-esm ### tested on v0.4.0"
   ]
  },
  {
   "cell_type": "markdown",
   "metadata": {},
   "source": [
    "## Following Cell: downloads FASTA files from google drive to extract the embeddings\n",
    "### An Example is shown below"
   ]
  },
  {
   "cell_type": "code",
   "execution_count": 1,
   "metadata": {
    "id": "FkBvtIW5hJnx"
   },
   "outputs": [],
   "source": [
    "### MCPAS - example\n",
    "drive_filepath = '/content/drive/MyDrive/TCR-pMHC-results/mcpas/1_origMCPAS_NoMHC/train_AB/"
   ]
  },
  {
   "cell_type": "markdown",
   "metadata": {
    "id": "XkAz8B6izr-F"
   },
   "source": [
    "### this filepath shown above contains FASTA for CDR3a, CDR3b and peptide for both train and test"
   ]
  },
  {
   "cell_type": "markdown",
   "metadata": {},
   "source": [
    "### copy the fasta file from google drive to colab notebook storage; this step can be skipped if running locally"
   ]
  },
  {
   "cell_type": "code",
   "execution_count": 3,
   "metadata": {},
   "outputs": [],
   "source": [
    "!cp drive_filepath '/content'"
   ]
  },
  {
   "cell_type": "markdown",
   "metadata": {},
   "source": [
    "### make folders for storing the embeddings"
   ]
  },
  {
   "cell_type": "code",
   "execution_count": null,
   "metadata": {
    "id": "bsulE_hqUYlu"
   },
   "outputs": [],
   "source": [
    "!mkdir train_cdr3a\n",
    "!mkdir train_cdr3b\n",
    "!mkdir train_pep\n",
    "\n",
    "!mkdir test_cdr3a\n",
    "!mkdir test_cdr3b\n",
    "!mkdir test_pep"
   ]
  },
  {
   "cell_type": "markdown",
   "metadata": {},
   "source": [
    "# Embeddings extraction using the extract.py file; this file is available at \n",
    "## https://github.com/facebookresearch/esm/blob/main/scripts/extract.py"
   ]
  },
  {
   "cell_type": "code",
   "execution_count": null,
   "metadata": {
    "id": "EnEInJH6RTDZ"
   },
   "outputs": [],
   "source": [
    "### train set\n",
    "\n",
    "!python extract.py esm1v_t33_650M_UR90S_1 /content/train_CDR3a.fasta /content/train_cdr3a/ --include mean --truncate\n",
    "\n",
    "!python extract.py esm1v_t33_650M_UR90S_1 /content/train_CDR3b.fasta /content/train_cdr3b/ --include mean --truncate\n",
    "\n",
    "!python extract.py esm1v_t33_650M_UR90S_1 /content/train_pep.fasta /content/train_pep/ --include mean --truncate\n",
    "\n",
    "##test set\n",
    "\n",
    "\n",
    "!python extract.py esm1v_t33_650M_UR90S_1 /content/test_CDR3a.fasta /content/test_cdr3a/ --include mean --truncate\n",
    "\n",
    "!python extract.py esm1v_t33_650M_UR90S_1 /content/test_CDR3b.fasta /content/test_cdr3b/ --include mean --truncate\n",
    "\n",
    "!python extract.py esm1v_t33_650M_UR90S_1 /content/test_pep.fasta /content/test_pep/ --include mean --truncate"
   ]
  },
  {
   "cell_type": "markdown",
   "metadata": {},
   "source": [
    "## After extracting the embeddings storing them to compressed zip file for further use"
   ]
  },
  {
   "cell_type": "code",
   "execution_count": null,
   "metadata": {
    "id": "2n23KUvEa_S0"
   },
   "outputs": [],
   "source": [
    "\n",
    "!zip -qr /content/ESM1v_train_cdr3a.zip /content/train_cdr3a\n",
    "!zip -qr /content/ESM1v_train_cdr3b.zip /content/train_cdr3b\n",
    "!zip -qr /content/ESM1v_train_pep.zip /content/train_pep\n",
    "\n",
    "\n",
    "\n",
    "!zip -qr /content/ESM1v_test_cdr3a.zip /content/test_cdr3a\n",
    "!zip -qr /content/ESM1v_test_cdr3b.zip /content/test_cdr3b\n",
    "!zip -qr /content/ESM1v_test_pep.zip /content/test_pep"
   ]
  }
 ],
 "metadata": {
  "accelerator": "GPU",
  "colab": {
   "authorship_tag": "ABX9TyMjhlR/78epjnwr86eCs7gc",
   "machine_shape": "hm",
   "mount_file_id": "1CyfKhYvZUxeVjzMxqKVB-Y_jdhpa8fvh",
   "provenance": []
  },
  "kernelspec": {
   "display_name": "Python 3 (ipykernel)",
   "language": "python",
   "name": "python3"
  },
  "language_info": {
   "codemirror_mode": {
    "name": "ipython",
    "version": 3
   },
   "file_extension": ".py",
   "mimetype": "text/x-python",
   "name": "python",
   "nbconvert_exporter": "python",
   "pygments_lexer": "ipython3",
   "version": "3.9.12"
  }
 },
 "nbformat": 4,
 "nbformat_minor": 4
}
